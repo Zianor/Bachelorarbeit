{
 "cells": [
  {
   "cell_type": "code",
   "execution_count": 1,
   "metadata": {
    "pycharm": {
     "is_executing": true
    }
   },
   "outputs": [],
   "source": [
    "from src.utils import get_project_root\n",
    "from pyedflib import highlevel\n",
    "import os\n",
    "\n",
    "signals, signal_headers, header = highlevel.read_edf(os.path.join(get_project_root(), 'data/ecg/ecg_23.EDF'))"
   ]
  },
  {
   "cell_type": "code",
   "execution_count": 2,
   "metadata": {},
   "outputs": [
    {
     "data": {
      "text/plain": [
       "[<matplotlib.lines.Line2D at 0x7fe270d0a208>]"
      ]
     },
     "execution_count": 2,
     "metadata": {},
     "output_type": "execute_result"
    },
    {
     "data": {
      "image/png": "[encoded data removed]",
      "text/plain": [
       "<Figure size 432x288 with 1 Axes>"
      ]
     },
     "metadata": {
      "needs_background": "light"
     },
     "output_type": "display_data"
    }
   ],
   "source": [
    "import matplotlib.pyplot as plt\n",
    "\n",
    "plt.plot(signals[0][240000:250000])"
   ]
  },
  {
   "cell_type": "code",
   "execution_count": 3,
   "metadata": {},
   "outputs": [
    {
     "name": "stdout",
     "output_type": "stream",
     "text": [
      "22.170833333333334  h\n"
     ]
    }
   ],
   "source": [
    "signals, signal_headers, header = highlevel.read_edf(os.path.join(get_project_root(), 'data/ecg/ecg_16.EDF'))\n",
    "\n",
    "ecg_length = len(signals[0])\n",
    "print(ecg_length/1000/60/60, \" h\")"
   ]
  },
  {
   "cell_type": "code",
   "execution_count": 4,
   "metadata": {},
   "outputs": [
    {
     "name": "stdout",
     "output_type": "stream",
     "text": [
      "11 :  22.39  h\n",
      "13 :  10.47  h\n",
      "12 :  22.75  h\n",
      "16 :  23.29  h\n",
      "17 :  22.36  h\n",
      "15 :  7.50  h\n",
      "14 :  12.00  h\n",
      "6 :  14.69  h\n",
      "7 :  18.44  h\n",
      "5 :  23.30  h\n",
      "4 :  23.74  h\n",
      "1 :  23.27  h\n",
      "3 :  24.17  h\n",
      "9 :  22.10  h\n",
      "8 :  5.91  h\n"
     ]
    }
   ],
   "source": [
    "from scipy.io import loadmat\n",
    "import os\n",
    "\n",
    "paths = [path for path in os.listdir(os.path.join(get_project_root(), 'data/')) if\n",
    "                 path.lower().endswith(\".mat\")]\n",
    "paths = [os.path.join(os.path.join(get_project_root(), 'data/'), path) for path in paths]\n",
    "\n",
    "\n",
    "for path in paths:\n",
    "    i = path.lower().split(\"_\")[-1].replace(\".mat\", \"\")\n",
    "    mat_dict = loadmat(path)\n",
    "    bcg_length = len(mat_dict['BCG_raw_data'][0])/100/60/60\n",
    "\n",
    "    print(i, \": \", \"%.2f\" % bcg_length, \" h\")"
   ]
  },
  {
   "cell_type": "code",
   "execution_count": 5,
   "metadata": {},
   "outputs": [
    {
     "name": "stdout",
     "output_type": "stream",
     "text": [
      "dict_keys(['27', '26', '09', '35', '08', '22', '36', '23', '13', '11', '05', '28', '14', '16'])\n",
      "dict_keys(['27', '26', '09', '35', '08', '22', '36', '23', '13', '11', '05', '28', '14', '16'])\n"
     ]
    }
   ],
   "source": [
    "from data_preparation import DataSet\n",
    "\n",
    "data = DataSet()"
   ]
  },
  {
   "cell_type": "code",
   "execution_count": 8,
   "metadata": {},
   "outputs": [
    {
     "name": "stdout",
     "output_type": "stream",
     "text": [
      "ID:  27\n",
      "ECG length:  22.85\n",
      "BCG length:  23.29\n",
      "---\n",
      "ID:  26\n",
      "ECG length:  23.47\n",
      "BCG length:  19.50\n",
      "---\n",
      "ID:  09\n",
      "ECG length:  18.65\n",
      "BCG length:  18.44\n",
      "---\n",
      "ID:  35\n",
      "ECG length:  9.41\n",
      "BCG length:  24.17\n",
      "---\n",
      "ID:  08\n",
      "ECG length:  13.59\n",
      "BCG length:  14.69\n",
      "---\n",
      "ID:  22\n",
      "ECG length:  21.38\n",
      "BCG length:  22.75\n",
      "---\n",
      "ID:  36\n",
      "ECG length:  22.60\n",
      "BCG length:  23.74\n",
      "---\n",
      "ID:  23\n",
      "ECG length:  21.80\n",
      "BCG length:  10.47\n",
      "---\n",
      "ID:  13\n",
      "ECG length:  23.06\n",
      "BCG length:  5.91\n",
      "---\n",
      "ID:  11\n",
      "ECG length:  24.22\n",
      "BCG length:  23.27\n",
      "---\n",
      "ID:  05\n",
      "ECG length:  21.96\n",
      "BCG length:  23.30\n",
      "---\n",
      "ID:  28\n",
      "ECG length:  22.59\n",
      "BCG length:  22.36\n",
      "---\n",
      "ID:  14\n",
      "ECG length:  22.34\n",
      "BCG length:  22.10\n",
      "---\n",
      "ID:  16\n",
      "ECG length:  22.17\n",
      "BCG length:  22.39\n",
      "---\n"
     ]
    }
   ],
   "source": [
    "for series in data.data_series.values():\n",
    "    print(\"ID: \", series.patient_id)\n",
    "    length = series.ecg.length/60/60\n",
    "    print(\"ECG length: \", \"%.2f\" % length)\n",
    "    length = 0\n",
    "    for bcg in series.bcg_series.values():\n",
    "        length += bcg.length/60/60\n",
    "    print(\"BCG length: \", \"%.2f\" % length)\n",
    "    print(\"---\")"
   ]
  },
  {
   "cell_type": "code",
   "execution_count": 12,
   "metadata": {},
   "outputs": [
    {
     "data": {
      "text/html": [
       "<div>\n",
       "<style scoped>\n",
       "    .dataframe tbody tr th:only-of-type {\n",
       "        vertical-align: middle;\n",
       "    }\n",
       "\n",
       "    .dataframe tbody tr th {\n",
       "        vertical-align: top;\n",
       "    }\n",
       "\n",
       "    .dataframe thead th {\n",
       "        text-align: right;\n",
       "    }\n",
       "</style>\n",
       "<table border=\"1\" class=\"dataframe\">\n",
       "  <thead>\n",
       "    <tr style=\"text-align: right;\">\n",
       "      <th></th>\n",
       "      <th>unique_peaks</th>\n",
       "      <th>medians</th>\n",
       "      <th>qualities</th>\n",
       "    </tr>\n",
       "  </thead>\n",
       "  <tbody>\n",
       "    <tr>\n",
       "      <th>count</th>\n",
       "      <td>1.355760e+05</td>\n",
       "      <td>135576.000000</td>\n",
       "      <td>135563.000000</td>\n",
       "    </tr>\n",
       "    <tr>\n",
       "      <th>mean</th>\n",
       "      <td>4.227706e+06</td>\n",
       "      <td>89.701068</td>\n",
       "      <td>1.641608</td>\n",
       "    </tr>\n",
       "    <tr>\n",
       "      <th>std</th>\n",
       "      <td>2.386150e+06</td>\n",
       "      <td>45.889985</td>\n",
       "      <td>1.474974</td>\n",
       "    </tr>\n",
       "    <tr>\n",
       "      <th>min</th>\n",
       "      <td>0.000000e+00</td>\n",
       "      <td>0.000000</td>\n",
       "      <td>0.000000</td>\n",
       "    </tr>\n",
       "    <tr>\n",
       "      <th>25%</th>\n",
       "      <td>2.205110e+06</td>\n",
       "      <td>51.000000</td>\n",
       "      <td>0.444675</td>\n",
       "    </tr>\n",
       "    <tr>\n",
       "      <th>50%</th>\n",
       "      <td>4.243035e+06</td>\n",
       "      <td>79.000000</td>\n",
       "      <td>1.300809</td>\n",
       "    </tr>\n",
       "    <tr>\n",
       "      <th>75%</th>\n",
       "      <td>6.294841e+06</td>\n",
       "      <td>123.000000</td>\n",
       "      <td>2.464791</td>\n",
       "    </tr>\n",
       "    <tr>\n",
       "      <th>max</th>\n",
       "      <td>8.344699e+06</td>\n",
       "      <td>198.000000</td>\n",
       "      <td>17.608716</td>\n",
       "    </tr>\n",
       "  </tbody>\n",
       "</table>\n",
       "</div>"
      ],
      "text/plain": [
       "       unique_peaks        medians      qualities\n",
       "count  1.355760e+05  135576.000000  135563.000000\n",
       "mean   4.227706e+06      89.701068       1.641608\n",
       "std    2.386150e+06      45.889985       1.474974\n",
       "min    0.000000e+00       0.000000       0.000000\n",
       "25%    2.205110e+06      51.000000       0.444675\n",
       "50%    4.243035e+06      79.000000       1.300809\n",
       "75%    6.294841e+06     123.000000       2.464791\n",
       "max    8.344699e+06     198.000000      17.608716"
      ]
     },
     "execution_count": 12,
     "metadata": {},
     "output_type": "execute_result"
    }
   ],
   "source": [
    "import pandas as pd\n",
    "\n",
    "brueser = pd.read_csv(os.path.join(get_project_root(), 'data/brueser1.csv'))\n",
    "\n",
    "brueser.describe()"
   ]
  }
 ],
 "metadata": {
  "kernelspec": {
   "display_name": "Python 3",
   "language": "python",
   "name": "python3"
  },
  "language_info": {
   "codemirror_mode": {
    "name": "ipython",
    "version": 3
   },
   "file_extension": ".py",
   "mimetype": "text/x-python",
   "name": "python",
   "nbconvert_exporter": "python",
   "pygments_lexer": "ipython3",
   "version": "3.7.2"
  }
 },
 "nbformat": 4,
 "nbformat_minor": 1
}