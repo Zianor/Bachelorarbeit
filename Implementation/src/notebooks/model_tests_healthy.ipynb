{
 "cells": [
  {
   "cell_type": "code",
   "execution_count": 54,
   "metadata": {
    "scrolled": false
   },
   "outputs": [],
   "source": [
    "from own_models_train import get_final_paths, get_final_column_names\n",
    "from eda_utils import get_latex_column_names\n",
    "import utils\n",
    "from estimators import *\n",
    "from IPython.display import display, Markdown\n",
    "from sklearn.metrics import f1_score, accuracy_score, roc_auc_score\n",
    "\n",
    "\n",
    "plt.rcParams.update(utils.get_plt_settings())"
   ]
  },
  {
   "cell_type": "code",
   "execution_count": 11,
   "metadata": {
    "scrolled": false
   },
   "outputs": [
    {
     "data": {
      "text/plain": [
       "['RF_Clf_s10_default_h10',\n",
       " 'RF_Regr_s10_default_h10',\n",
       " 'XGB_Regr_s10_default_h10',\n",
       " 'XGB_Clf_s10_default_h10']"
      ]
     },
     "execution_count": 11,
     "metadata": {},
     "output_type": "execute_result"
    }
   ],
   "source": [
    "get_final_paths(gridsearch=False)"
   ]
  },
  {
   "cell_type": "code",
   "execution_count": 12,
   "metadata": {
    "scrolled": true
   },
   "outputs": [],
   "source": [
    "models = {\n",
    "    'RF_Clf_s10_default_h20': None,\n",
    "    'RF_Regr_s10_default_h20': None,\n",
    "    'XGB_Regr_s10_default_h20': None,\n",
    "    'XGB_Clf_s10_default_h20': None,\n",
    "}"
   ]
  },
  {
   "cell_type": "code",
   "execution_count": 14,
   "metadata": {
    "scrolled": false
   },
   "outputs": [
    {
     "name": "stdout",
     "output_type": "stream",
     "text": [
      "RF_Clf_s10_default_h20\n",
      "RF_Regr_s10_default_h20\n",
      "XGB_Regr_s10_default_h20\n",
      "XGB_Clf_s10_default_h20\n"
     ]
    }
   ],
   "source": [
    "for path in models.keys():\n",
    "    print(path)\n",
    "    feature_selection = get_final_column_names()\n",
    "    models[path] = OwnEstimator(clf=None, path=path, feature_selection=feature_selection, hr_threshold=20)"
   ]
  },
  {
   "cell_type": "code",
   "execution_count": 6,
   "metadata": {},
   "outputs": [],
   "source": [
    "import pandas as pd\n",
    "\n",
    "df_healthy = pd.read_csv(utils.get_own_features_csv_path(segment_length=10, overlap_amount=0.9, data_folder='data_healthy'), index_col=False)"
   ]
  },
  {
   "cell_type": "code",
   "execution_count": 20,
   "metadata": {},
   "outputs": [],
   "source": [
    "X = df_healthy[get_final_column_names()].copy()\n",
    "y_label = df_healthy['error'] <= 20\n",
    "error = df_healthy['error'].copy()"
   ]
  },
  {
   "cell_type": "code",
   "execution_count": 19,
   "metadata": {},
   "outputs": [],
   "source": [
    "y_pred_rf_clf = models['RF_Clf_s10_default_h20'].predict(X)\n",
    "y_pred_rf_regr = models['RF_Regr_s10_default_h20'].predict(X)\n",
    "y_pred_xgb_clf = models['XGB_Clf_s10_default_h20'].predict(X)\n",
    "y_pred_xgb_regr = models['XGB_Regr_s10_default_h20'].predict(X)"
   ]
  },
  {
   "cell_type": "code",
   "execution_count": 30,
   "metadata": {},
   "outputs": [
    {
     "data": {
      "text/markdown": [
       "## Daten"
      ],
      "text/plain": [
       "<IPython.core.display.Markdown object>"
      ]
     },
     "metadata": {},
     "output_type": "display_data"
    },
    {
     "name": "stdout",
     "output_type": "stream",
     "text": [
      "Coverage: 83.67\n",
      "MAE insgesamt: 13.76\n",
      "MAE insgesamt: 4.34\n"
     ]
    }
   ],
   "source": [
    "display(Markdown(\"## Daten\"))\n",
    "coverage = len(X[y_label].index)/len(X.index)*100\n",
    "print(\"Coverage: %.2f\" % coverage)\n",
    "mae_all = np.mean(error)\n",
    "print(\"MAE insgesamt: %.2f\" % mae_all)\n",
    "mae_inf = np.mean(error[y_label])\n",
    "print(\"MAE informativ: %.2f\" % mae_inf)"
   ]
  },
  {
   "cell_type": "code",
   "execution_count": 57,
   "metadata": {},
   "outputs": [
    {
     "data": {
      "text/markdown": [
       "## RF Clf"
      ],
      "text/plain": [
       "<IPython.core.display.Markdown object>"
      ]
     },
     "metadata": {},
     "output_type": "display_data"
    },
    {
     "name": "stdout",
     "output_type": "stream",
     "text": [
      "Coverage: 83.96\n",
      "MAE: 6.60\n",
      "F1-Score: 0.91\n",
      "Accuracy: 0.85\n",
      "AUC: 0.80\n"
     ]
    }
   ],
   "source": [
    "display(Markdown(\"## RF Clf\"))\n",
    "coverage = len(X[y_pred_rf_clf].index)/len(X.index)*100\n",
    "print(\"Coverage: %.2f\" % coverage)\n",
    "mae = np.mean(error[y_pred_rf_clf])\n",
    "print(\"MAE: %.2f\" % mae)\n",
    "f1 = f1_score(y_label, y_pred_rf_clf)\n",
    "print(\"F1-Score: %.2f\" % f1)\n",
    "acc = accuracy_score(y_label, y_pred_rf_clf)\n",
    "print(\"Accuracy: %.2f\" % acc)\n",
    "print(\"AUC: %.2f\" % roc_auc_score(y_label, models['RF_Clf_s10_default_h20'].clf.predict_proba(X)[:, 1]))"
   ]
  },
  {
   "cell_type": "code",
   "execution_count": 58,
   "metadata": {},
   "outputs": [
    {
     "data": {
      "text/markdown": [
       "## XGB Clf"
      ],
      "text/plain": [
       "<IPython.core.display.Markdown object>"
      ]
     },
     "metadata": {},
     "output_type": "display_data"
    },
    {
     "name": "stdout",
     "output_type": "stream",
     "text": [
      "Coverage: 81.58\n",
      "MAE: 6.60\n",
      "F1-Score: 0.90\n",
      "Accuracy: 0.85\n",
      "AUC: 0.80\n"
     ]
    }
   ],
   "source": [
    "display(Markdown(\"## XGB Clf\"))\n",
    "coverage = len(X[y_pred_xgb_clf].index)/len(X.index)*100\n",
    "print(\"Coverage: %.2f\" % coverage)\n",
    "mae = np.mean(error[y_pred_xgb_clf])\n",
    "print(\"MAE: %.2f\" % mae)\n",
    "f1 = f1_score(y_label, y_pred_xgb_clf)\n",
    "print(\"F1-Score: %.2f\" % f1)\n",
    "acc = accuracy_score(y_label, y_pred_rf_clf)\n",
    "print(\"Accuracy: %.2f\" % acc)\n",
    "print(\"AUC: %.2f\" % roc_auc_score(y_label, models['XGB_Clf_s10_default_h20'].clf.predict_proba(X)[:, 1]))"
   ]
  },
  {
   "cell_type": "code",
   "execution_count": 59,
   "metadata": {},
   "outputs": [
    {
     "data": {
      "text/markdown": [
       "## RF Regr"
      ],
      "text/plain": [
       "<IPython.core.display.Markdown object>"
      ]
     },
     "metadata": {},
     "output_type": "display_data"
    },
    {
     "name": "stdout",
     "output_type": "stream",
     "text": [
      "Coverage: 91.33\n",
      "MAE: 7.58\n",
      "F1-Score: 0.93\n",
      "Accuracy: 0.88\n",
      "AUC: 0.81\n"
     ]
    }
   ],
   "source": [
    "display(Markdown(\"## RF Regr\"))\n",
    "coverage = len(X[y_pred_rf_regr].index)/len(X.index)*100\n",
    "print(\"Coverage: %.2f\" % coverage)\n",
    "mae = np.mean(error[y_pred_rf_regr])\n",
    "print(\"MAE: %.2f\" % mae)\n",
    "f1 = f1_score(y_label, y_pred_rf_regr)\n",
    "print(\"F1-Score: %.2f\" % f1)\n",
    "acc = accuracy_score(y_label, y_pred_rf_regr)\n",
    "print(\"Accuracy: %.2f\" % acc)\n",
    "print(\"AUC: %.2f\" % roc_auc_score(y_label, models['RF_Regr_s10_default_h20'].clf.predict_proba(X)[:, 1]))"
   ]
  },
  {
   "cell_type": "code",
   "execution_count": 60,
   "metadata": {},
   "outputs": [
    {
     "data": {
      "text/markdown": [
       "## XGB Regr"
      ],
      "text/plain": [
       "<IPython.core.display.Markdown object>"
      ]
     },
     "metadata": {},
     "output_type": "display_data"
    },
    {
     "name": "stdout",
     "output_type": "stream",
     "text": [
      "Coverage: 88.95\n",
      "MAE: 7.34\n",
      "F1-Score: 0.92\n",
      "Accuracy: 0.87\n",
      "AUC: 0.77\n"
     ]
    }
   ],
   "source": [
    "display(Markdown(\"## XGB Regr\"))\n",
    "coverage = len(X[y_pred_xgb_regr].index)/len(X.index)*100\n",
    "print(\"Coverage: %.2f\" % coverage)\n",
    "mae = np.mean(error[y_pred_xgb_regr])\n",
    "print(\"MAE: %.2f\" % mae)\n",
    "f1 = f1_score(y_label, y_pred_xgb_regr)\n",
    "print(\"F1-Score: %.2f\" % f1)\n",
    "acc = accuracy_score(y_label, y_pred_xgb_regr)\n",
    "print(\"Accuracy: %.2f\" % acc)\n",
    "print(\"AUC: %.2f\" % roc_auc_score(y_label, models['XGB_Regr_s10_default_h20'].clf.predict_proba(X)[:, 1]))"
   ]
  }
 ],
 "metadata": {
  "kernelspec": {
   "display_name": "Python 3",
   "language": "python",
   "name": "python3"
  },
  "language_info": {
   "codemirror_mode": {
    "name": "ipython",
    "version": 3
   },
   "file_extension": ".py",
   "mimetype": "text/x-python",
   "name": "python",
   "nbconvert_exporter": "python",
   "pygments_lexer": "ipython3",
   "version": "3.7.2"
  }
 },
 "nbformat": 4,
 "nbformat_minor": 4
}
