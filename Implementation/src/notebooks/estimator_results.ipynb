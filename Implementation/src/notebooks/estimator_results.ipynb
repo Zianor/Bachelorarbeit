{
 "cells": [
  {
   "cell_type": "code",
   "execution_count": 1,
   "metadata": {
    "scrolled": true
   },
   "outputs": [],
   "source": [
    "import estimators\n",
    "import utils\n",
    "\n",
    "import seaborn as sn\n",
    "from sklearn.metrics import confusion_matrix, classification_report, ConfusionMatrixDisplay\n",
    "import matplotlib.pyplot as plt\n",
    "\n",
    "plt.rcParams.update(utils.get_plt_settings())\n",
    "\n",
    "save=True\n"
   ]
  },
  {
   "cell_type": "markdown",
   "metadata": {},
   "source": [
    "# Brüser\n",
    "\n",
    "- berücksichtigt nur die Intervallschätzungen, deren qSQI > 0.4 ist\n",
    "- informativ falls Coverage auf Segment >= 80%"
   ]
  },
  {
   "cell_type": "code",
   "execution_count": 2,
   "metadata": {
    "scrolled": false
   },
   "outputs": [
    {
     "name": "stdout",
     "output_type": "stream",
     "text": [
      "                 precision    recall  f1-score   support\n",
      "\n",
      "non-informative       0.55      0.92      0.69    411593\n",
      "    informative       0.80      0.31      0.45    445535\n",
      "\n",
      "       accuracy                           0.60    857128\n",
      "      macro avg       0.67      0.61      0.57    857128\n",
      "   weighted avg       0.68      0.60      0.56    857128\n",
      "\n",
      "Relativer Fehler auf als informativ klassifizierten Segmenten: 9.94 Prozent\n",
      "Relativer Fehler auf als informativ annotierten Segmenten:  2.60 Prozent\n",
      "Absoluter Fehler auf als informativ klassifizierten Segmenten: 7.56 bpm\n",
      "Absoluter Fehler auf als informativ annotierten Segmenten:  1.85 Prozent\n",
      "Informative Segmente nach Brueser: 20.15\n",
      "Informative Segmente nach Annotation: 51.98\n",
      "Coverage klassifiziert: 9.27 %\n",
      "Coverage annotiert: 43.22 %\n",
      "Fehler < 5 Prozent/2.5bpm insgesamt: 32.61 %\n",
      "Fehler < 5 Prozent/2.5bpm klassifiziert: 47.48 %\n",
      "Fehler < 10 Prozent/5bpm insgesamt: 43.21 %\n",
      "Fehler < 10 Prozent/5bpm klassifiziert: 64.19 %\n",
      "Fehler < 15 Prozent/7.5bpm insgesamt: 51.64 %\n",
      "Fehler < 15 Prozent/7.5bpm klassifiziert: 71.82 %\n",
      "Fehler < 20 Prozent/10bpm insgesamt: 59.39 %\n",
      "Fehler < 20 Prozent/10bpm klassifiziert: 78.44 %\n",
      "Keine Schaetzung insgesamt: 0.07765 %\n",
      "Keine Schaetzung klassifiziert: 0.00000 %\n",
      "Durchschnittlicher Fehler von False Positives: 24.81076549561209\n",
      "Durchschnittlicher Fehler von False Negatives: nan\n"
     ]
    },
    {
     "name": "stderr",
     "output_type": "stream",
     "text": [
      "/Users/zianor/Documents/git/Bachelorarbeit/Implementation/src/estimators.py:180: RuntimeWarning: Mean of empty slice\n",
      "  return np.nanmean(data_subset['sqi_hr_diff_abs'])\n"
     ]
    },
    {
     "data": {
      "image/png": "[encoded data removed]",
      "text/plain": [
       "<Figure size 432x288 with 2 Axes>"
      ]
     },
     "metadata": {
      "needs_background": "light"
     },
     "output_type": "display_data"
    }
   ],
   "source": [
    "brueser = estimators.BrueserSingleSQI()\n",
    "predicted = brueser.predict_all_labels()\n",
    "labels = brueser.target\n",
    "class_names = ['non-informative', 'informative']\n",
    "coverage = len(predicted[predicted])/len(predicted.index)*100\n",
    "coverage_annotated = len(labels[labels])/len(labels.index)*100\n",
    "\n",
    "ConfusionMatrixDisplay(confusion_matrix(labels, predicted), display_labels=class_names).plot()\n",
    "print(classification_report(labels, predicted, target_names=class_names))\n",
    "print(\"Relativer Fehler auf als informativ klassifizierten Segmenten: %.2f Prozent\" % brueser.get_mean_error_rel(brueser.target.index, predicted))\n",
    "print(\"Relativer Fehler auf als informativ annotierten Segmenten:  %.2f Prozent\" % brueser.get_mean_error_rel(brueser.target.index))\n",
    "print(\"Absoluter Fehler auf als informativ klassifizierten Segmenten: %.2f bpm\" % brueser.get_mean_error_abs(brueser.target.index, predicted))\n",
    "print(\"Absoluter Fehler auf als informativ annotierten Segmenten:  %.2f Prozent\" % brueser.get_mean_error_abs(brueser.target.index))\n",
    "print(\"Informative Segmente nach Brueser: %.2f\" % coverage)\n",
    "print(\"Informative Segmente nach Annotation: %.2f\" % coverage_annotated)\n",
    "brueser.print_model_test_report()"
   ]
  },
  {
   "cell_type": "markdown",
   "metadata": {},
   "source": [
    "# Pino\n",
    "\n",
    "- Schwellwerte"
   ]
  },
  {
   "cell_type": "markdown",
   "metadata": {},
   "source": [
    "### 10 Sekunden, 1 Sekunde Schrittweite"
   ]
  },
  {
   "cell_type": "code",
   "execution_count": 3,
   "metadata": {
    "scrolled": false
   },
   "outputs": [
    {
     "name": "stdout",
     "output_type": "stream",
     "text": [
      "                 precision    recall  f1-score   support\n",
      "\n",
      "non-informative       0.45      0.03      0.05    411593\n",
      "    informative       0.52      0.97      0.68    445535\n",
      "\n",
      "       accuracy                           0.52    857128\n",
      "      macro avg       0.48      0.50      0.36    857128\n",
      "   weighted avg       0.48      0.52      0.38    857128\n",
      "\n",
      "Relativer Fehler auf als informativ klassifizierten Segmenten: 2.59 Prozent\n",
      "Relativer Fehler auf als informativ annotierten Segmenten:  2.60 Prozent\n",
      "Absoluter Fehler auf als informativ klassifizierten Segmenten: 1.85 bpm\n",
      "Absoluter Fehler auf als informativ annotierten Segmenten:  1.85 Prozent\n",
      "Informative Segmente nach Pino: 96.98\n",
      "Informative Segmente nach Annotation: 51.98\n",
      "Coverage klassifiziert: 96.43 %\n",
      "Coverage annotiert: 43.22 %\n",
      "Fehler < 5 Prozent/2.5bpm insgesamt: 32.61 %\n",
      "Fehler < 5 Prozent/2.5bpm klassifiziert: 32.55 %\n",
      "Fehler < 10 Prozent/5bpm insgesamt: 43.21 %\n",
      "Fehler < 10 Prozent/5bpm klassifiziert: 43.02 %\n",
      "Fehler < 15 Prozent/7.5bpm insgesamt: 51.64 %\n",
      "Fehler < 15 Prozent/7.5bpm klassifiziert: 51.41 %\n",
      "Fehler < 20 Prozent/10bpm insgesamt: 59.40 %\n",
      "Fehler < 20 Prozent/10bpm klassifiziert: 59.12 %\n",
      "Keine Schaetzung insgesamt: 0.07765 %\n",
      "Keine Schaetzung klassifiziert: 0.08053 %\n",
      "Durchschnittlicher Fehler von False Positives: nan\n",
      "Durchschnittlicher Fehler von False Negatives: nan\n"
     ]
    },
    {
     "name": "stderr",
     "output_type": "stream",
     "text": [
      "/Users/zianor/Documents/git/Bachelorarbeit/Implementation/src/estimators.py:113: RuntimeWarning: Mean of empty slice\n",
      "  return np.nanmean(data_subset['abs_err'])\n"
     ]
    },
    {
     "data": {
      "image/png": "[encoded data removed]",
      "text/plain": [
       "<Figure size 432x288 with 2 Axes>"
      ]
     },
     "metadata": {
      "needs_background": "light"
     },
     "output_type": "display_data"
    }
   ],
   "source": [
    "pino = estimators.PinoMinMaxStd()\n",
    "predicted = pino.predict_all_labels()\n",
    "labels = pino.target\n",
    "class_names = ['non-informative', 'informative']\n",
    "coverage = len(predicted[predicted])/len(predicted.index)*100\n",
    "coverage_annotated = len(labels[labels])/len(labels.index)*100\n",
    "\n",
    "ConfusionMatrixDisplay(confusion_matrix(labels, predicted), display_labels=class_names).plot()\n",
    "print(classification_report(labels, predicted, target_names=class_names))\n",
    "print(\"Relativer Fehler auf als informativ klassifizierten Segmenten: %.2f Prozent\" % pino.get_mean_error_rel(pino.target.index, predicted))\n",
    "print(\"Relativer Fehler auf als informativ annotierten Segmenten:  %.2f Prozent\" % pino.get_mean_error_rel(pino.target.index))\n",
    "print(\"Absoluter Fehler auf als informativ klassifizierten Segmenten: %.2f bpm\" % pino.get_mean_error_abs(pino.target.index, predicted))\n",
    "print(\"Absoluter Fehler auf als informativ annotierten Segmenten:  %.2f Prozent\" % pino.get_mean_error_abs(pino.target.index))\n",
    "print(\"Informative Segmente nach Pino: %.2f\" % coverage)\n",
    "print(\"Informative Segmente nach Annotation: %.2f\" % coverage_annotated)\n",
    "pino.print_model_test_report()"
   ]
  },
  {
   "cell_type": "markdown",
   "metadata": {},
   "source": [
    "### 4 Sekunden, 1 Sekunde Schrittweite"
   ]
  },
  {
   "cell_type": "code",
   "execution_count": 4,
   "metadata": {
    "scrolled": false
   },
   "outputs": [
    {
     "name": "stdout",
     "output_type": "stream",
     "text": [
      "                 precision    recall  f1-score   support\n",
      "\n",
      "non-informative       0.55      0.02      0.03    461505\n",
      "    informative       0.46      0.99      0.63    395607\n",
      "\n",
      "       accuracy                           0.46    857112\n",
      "      macro avg       0.51      0.50      0.33    857112\n",
      "   weighted avg       0.51      0.46      0.31    857112\n",
      "\n",
      "Relativer Fehler auf als informativ klassifizierten Segmenten: 2.59 Prozent\n",
      "Relativer Fehler auf als informativ annotierten Segmenten:  2.60 Prozent\n",
      "Absoluter Fehler auf als informativ klassifizierten Segmenten: 1.86 bpm\n",
      "Absoluter Fehler auf als informativ annotierten Segmenten:  1.87 Prozent\n",
      "Informative Segmente nach Pino: 98.54\n",
      "Informative Segmente nach Annotation: 46.16\n",
      "Coverage klassifiziert: 98.23 %\n",
      "Coverage annotiert: 37.63 %\n",
      "Fehler < 5 Prozent/2.5bpm insgesamt: 28.55 %\n",
      "Fehler < 5 Prozent/2.5bpm klassifiziert: 28.63 %\n",
      "Fehler < 10 Prozent/5bpm insgesamt: 37.62 %\n",
      "Fehler < 10 Prozent/5bpm klassifiziert: 37.66 %\n",
      "Fehler < 15 Prozent/7.5bpm insgesamt: 45.70 %\n",
      "Fehler < 15 Prozent/7.5bpm klassifiziert: 45.70 %\n",
      "Fehler < 20 Prozent/10bpm insgesamt: 53.57 %\n",
      "Fehler < 20 Prozent/10bpm klassifiziert: 53.54 %\n",
      "Keine Schaetzung insgesamt: 0.08712 %\n",
      "Keine Schaetzung klassifiziert: 0.08869 %\n",
      "Durchschnittlicher Fehler von False Positives: nan\n",
      "Durchschnittlicher Fehler von False Negatives: nan\n"
     ]
    },
    {
     "data": {
      "image/png": "[encoded data removed]",
      "text/plain": [
       "<Figure size 432x288 with 2 Axes>"
      ]
     },
     "metadata": {
      "needs_background": "light"
     },
     "output_type": "display_data"
    }
   ],
   "source": [
    "pino = estimators.PinoMinMaxStd(segment_length=4, overlap_amount=0.75)\n",
    "predicted = pino.predict_all_labels()\n",
    "labels = pino.target\n",
    "class_names = ['non-informative', 'informative']\n",
    "coverage = len(predicted[predicted])/len(predicted.index)*100\n",
    "coverage_annotated = len(labels[labels])/len(labels.index)*100\n",
    "\n",
    "ConfusionMatrixDisplay(confusion_matrix(labels, predicted), display_labels=class_names).plot()\n",
    "print(classification_report(labels, predicted, target_names=class_names))\n",
    "print(\"Relativer Fehler auf als informativ klassifizierten Segmenten: %.2f Prozent\" % pino.get_mean_error_rel(pino.target.index, predicted))\n",
    "print(\"Relativer Fehler auf als informativ annotierten Segmenten:  %.2f Prozent\" % brueser.get_mean_error_rel(pino.target.index))\n",
    "print(\"Absoluter Fehler auf als informativ klassifizierten Segmenten: %.2f bpm\" % pino.get_mean_error_abs(pino.target.index, predicted))\n",
    "print(\"Absoluter Fehler auf als informativ annotierten Segmenten:  %.2f Prozent\" % pino.get_mean_error_abs(pino.target.index))\n",
    "print(\"Informative Segmente nach Pino: %.2f\" % coverage)\n",
    "print(\"Informative Segmente nach Annotation: %.2f\" % coverage_annotated)\n",
    "pino.print_model_test_report()"
   ]
  },
  {
   "cell_type": "markdown",
   "metadata": {},
   "source": [
    "# LDA Paper"
   ]
  },
  {
   "cell_type": "code",
   "execution_count": 3,
   "metadata": {},
   "outputs": [
    {
     "name": "stdout",
     "output_type": "stream",
     "text": [
      "                 precision    recall  f1-score   support\n",
      "\n",
      "non-informative       0.68      0.18      0.29    144044\n",
      "    informative       0.45      0.89      0.60    109659\n",
      "\n",
      "       accuracy                           0.49    253703\n",
      "      macro avg       0.57      0.53      0.44    253703\n",
      "   weighted avg       0.58      0.49      0.42    253703\n",
      "\n",
      "Relativer Fehler auf als informativ klassifizierten Segmenten: 3.16 Prozent\n",
      "Relativer Fehler auf als informativ annotierten Segmenten:  3.29 Prozent\n",
      "Absoluter Fehler auf als informativ klassifizierten Segmenten: 2.28 bpm\n",
      "Absoluter Fehler auf als informativ annotierten Segmenten:  2.41 Prozent\n",
      "Coverage klassifiziert: 84.82 %\n",
      "Coverage annotiert: 43.22 %\n",
      "Fehler < 5 Prozent/2.5bpm insgesamt: 32.61 %\n",
      "Fehler < 5 Prozent/2.5bpm klassifiziert: 34.95 %\n",
      "Fehler < 10 Prozent/5bpm insgesamt: 43.21 %\n",
      "Fehler < 10 Prozent/5bpm klassifiziert: 45.20 %\n",
      "Fehler < 15 Prozent/7.5bpm insgesamt: 51.64 %\n",
      "Fehler < 15 Prozent/7.5bpm klassifiziert: 53.01 %\n",
      "Fehler < 20 Prozent/10bpm insgesamt: 59.39 %\n",
      "Fehler < 20 Prozent/10bpm klassifiziert: 60.13 %\n",
      "Keine Schaetzung insgesamt: 0.07765 %\n",
      "Keine Schaetzung klassifiziert: 0.09155 %\n",
      "Durchschnittlicher Fehler von False Positives: nan\n",
      "Durchschnittlicher Fehler von False Negatives: nan\n"
     ]
    },
    {
     "name": "stderr",
     "output_type": "stream",
     "text": [
      "/Users/zianor/Documents/git/Bachelorarbeit/Implementation/src/estimators.py:120: RuntimeWarning: Mean of empty slice\n",
      "  return np.nanmean(data_subset['abs_err'])\n"
     ]
    },
    {
     "data": {
      "image/png": "[encoded data removed]",
      "text/plain": [
       "<Figure size 432x288 with 2 Axes>"
      ]
     },
     "metadata": {
      "needs_background": "light"
     },
     "output_type": "display_data"
    }
   ],
   "source": [
    "lda = estimators.MLStatisticalEstimator(\"LDA_hr10\")\n",
    "y_pred, y_true = lda.predict_test_set()\n",
    "\n",
    "class_names = ['non-informative', 'informative']\n",
    "coverage = len(y_pred[y_pred])/len(y_true.index)*100\n",
    "coverage_annotated = len(y_true[y_true])/len(y_true.index)*100\n",
    "\n",
    "ConfusionMatrixDisplay(confusion_matrix(y_true, y_pred), display_labels=class_names).plot()\n",
    "print(classification_report(y_true, y_pred, target_names=class_names))\n",
    "\n",
    "print(\"Relativer Fehler auf als informativ klassifizierten Segmenten: %.2f Prozent\" % lda.get_mean_error_rel(y_true.index, y_pred))\n",
    "print(\"Relativer Fehler auf als informativ annotierten Segmenten:  %.2f Prozent\" % lda.get_mean_error_rel(y_true.index))\n",
    "print(\"Absoluter Fehler auf als informativ klassifizierten Segmenten: %.2f bpm\" % lda.get_mean_error_abs(y_true.index, y_pred))\n",
    "print(\"Absoluter Fehler auf als informativ annotierten Segmenten:  %.2f Prozent\" % lda.get_mean_error_abs(y_true.index))\n",
    "lda.print_model_test_report()"
   ]
  },
  {
   "cell_type": "markdown",
   "metadata": {},
   "source": [
    "# Random Forest Paper"
   ]
  },
  {
   "cell_type": "code",
   "execution_count": null,
   "metadata": {
    "scrolled": false
   },
   "outputs": [],
   "source": [
    "rf = estimators.MLStatisticalEstimator(\"RF_hr10\")\n",
    "y_pred, y_true = rf.predict_test_set()\n",
    "\n",
    "class_names = ['non-informative', 'informative']\n",
    "coverage = len(y_pred[y_pred])/len(y_true.index)*100\n",
    "coverage_annotated = len(y_true[y_true])/len(y_true.index)*100\n",
    "\n",
    "ConfusionMatrixDisplay(confusion_matrix(y_true, y_pred), display_labels=class_names).plot()\n",
    "print(classification_report(y_true, y_pred, target_names=class_names))\n",
    "\n",
    "print(\"Relativer Fehler auf als informativ klassifizierten Segmenten: %.2f Prozent\" % rf.get_mean_error_rel(y_true.index, y_pred))\n",
    "print(\"Relativer Fehler auf als informativ annotierten Segmenten:  %.2f Prozent\" % rf.get_mean_error_rel(y_true.index))\n",
    "print(\"Absoluter Fehler auf als informativ klassifizierten Segmenten: %.2f bpm\" % rf.get_mean_error_abs(y_true.index, y_pred))\n",
    "print(\"Absoluter Fehler auf als informativ annotierten Segmenten:  %.2f Prozent\" % rf.get_mean_error_abs(y_true.index))\n",
    "rf.print_model_test_report()\n"
   ]
  },
  {
   "cell_type": "markdown",
   "metadata": {},
   "source": [
    "# Decision Tree Paper"
   ]
  },
  {
   "cell_type": "code",
   "execution_count": null,
   "metadata": {},
   "outputs": [],
   "source": [
    "dt = estimators.MLStatisticalEstimator(\"DT_hr10\")\n",
    "y_pred, y_true = dt.predict_test_set()\n",
    "\n",
    "class_names = ['non-informative', 'informative']\n",
    "coverage = len(y_pred[y_pred])/len(y_true.index)*100\n",
    "coverage_annotated = len(y_true[y_true])/len(y_true.index)*100\n",
    "\n",
    "ConfusionMatrixDisplay(confusion_matrix(y_true, y_pred), display_labels=class_names).plot()\n",
    "print(classification_report(y_true, y_pred, target_names=class_names))\n",
    "\n",
    "print(\"Relativer Fehler auf als informativ klassifizierten Segmenten: %.2f Prozent\" % dt.get_mean_error_rel(y_true.index, y_pred))\n",
    "print(\"Relativer Fehler auf als informativ annotierten Segmenten:  %.2f Prozent\" % dt.get_mean_error_rel(y_true.index))\n",
    "print(\"Absoluter Fehler auf als informativ klassifizierten Segmenten: %.2f bpm\" % dt.get_mean_error_abs(y_true.index, y_pred))\n",
    "print(\"Absoluter Fehler auf als informativ annotierten Segmenten:  %.2f Prozent\" % dt.get_mean_error_abs(y_true.index))\n",
    "dt.print_model_test_report()"
   ]
  },
  {
   "cell_type": "markdown",
   "metadata": {},
   "source": [
    "# MLP Paper"
   ]
  },
  {
   "cell_type": "code",
   "execution_count": null,
   "metadata": {},
   "outputs": [],
   "source": [
    "mlp = estimators.MLStatisticalEstimator(\"DT_hr10\")\n",
    "y_pred, y_true = mlp.predict_test_set()\n",
    "\n",
    "class_names = ['non-informative', 'informative']\n",
    "coverage = len(y_pred[y_pred])/len(y_true.index)*100\n",
    "coverage_annotated = len(y_true[y_true])/len(y_true.index)*100\n",
    "\n",
    "ConfusionMatrixDisplay(confusion_matrix(y_true, y_pred), display_labels=class_names).plot()\n",
    "print(classification_report(y_true, y_pred, target_names=class_names))\n",
    "\n",
    "print(\"Relativer Fehler auf als informativ klassifizierten Segmenten: %.2f Prozent\" % mlp.get_mean_error_rel(y_true.index, y_pred))\n",
    "print(\"Relativer Fehler auf als informativ annotierten Segmenten:  %.2f Prozent\" % mlp.get_mean_error_rel(y_true.index))\n",
    "print(\"Absoluter Fehler auf als informativ klassifizierten Segmenten: %.2f bpm\" % mlp.get_mean_error_abs(y_true.index, y_pred))\n",
    "print(\"Absoluter Fehler auf als informativ annotierten Segmenten:  %.2f Prozent\" % mlp.get_mean_error_abs(y_true.index))\n",
    "mlp.print_model_test_report()"
   ]
  },
  {
   "cell_type": "code",
   "execution_count": null,
   "metadata": {
    "scrolled": true
   },
   "outputs": [],
   "source": [
    "import numpy as np\n",
    "\n",
    "def get_mean_error_abs(indices, labels, informative_info):\n",
    "    data_subset = informative_info.loc[indices]\n",
    "    if labels is not None:\n",
    "        data_subset = data_subset[labels]\n",
    "        data_subset['abs_err'] = data_subset['abs_err'].replace(np.inf, np.nan)\n",
    "    return np.nanmean(data_subset['abs_err'])\n",
    "\n",
    "def get_mean_error_rel(indices, labels, informative_info):\n",
    "    data_subset = informative_info.loc[indices]\n",
    "    if labels is not None:\n",
    "        data_subset = data_subset[labels]\n",
    "    data_subset['rel_err'] = data_subset['rel_err'].replace(np.inf, np.nan)\n",
    "    return np.nanmean(data_subset['rel_err'])"
   ]
  },
  {
   "cell_type": "code",
   "execution_count": null,
   "metadata": {
    "scrolled": true
   },
   "outputs": [],
   "source": [
    "import pickle\n",
    "import os\n",
    "import utils\n",
    "from ml_statistical_features import get_patient_split, load_data\n",
    "\n",
    "x, y, patient_id, informative_info = load_data(10, 0.9, 10)\n",
    "\n",
    "path = os.path.join(utils.get_grid_params_path(), 'RF_hr10')\n",
    "with open(os.path.join(path, 'fitted_model.sav'), 'rb') as file:\n",
    "    rf = pickle.load(file)\n",
    "    \n",
    "_, x_test, _, y_test, _, _ = get_patient_split(x, y, test_size=0.33, patient_id=patient_id)\n",
    "y_pred = rf.predict(x_test)\n",
    "\n",
    "ConfusionMatrixDisplay(confusion_matrix(y_test, y_pred), display_labels=class_names).plot()\n",
    "\n",
    "class_names = ['non-informative', 'informative']\n",
    "coverage = len(y_pred[y_pred])/len(y_test.index)*100\n",
    "coverage_annotated = len(y_test[y_test])/len(y_test.index)*100\n",
    "\n",
    "print(classification_report(y_test, y_pred, target_names=class_names))\n",
    "print(\"Relativer Fehler auf als informativ klassifizierten Segmenten: %.2f Prozent\" % get_mean_error_rel(x_test.index, y_pred, informative_info))\n",
    "print(\"Absoluter Fehler auf als informativ klassifizierten Segmenten: %.2f bpm\" % get_mean_error_abs(x_test.index, y_pred, informative_info))\n",
    "print(\"Informative Segmente nach Klassifikator: %.2f\" % coverage)\n",
    "print(\"Informative Segmente mit nicht ermittelbarer Herzrate: %d\" % len(y_pred[np.isnan(y_pred)]))\n",
    "print(\"Informative Segmente nach Annotation: %.2f\" % coverage_annotated)\n",
    "# TODO: 5%, 2,5 bpm und 15%, 7,5 bpm coverage auf fn und p\n",
    "# TODO boxplot error"
   ]
  },
  {
   "cell_type": "code",
   "execution_count": null,
   "metadata": {
    "scrolled": true
   },
   "outputs": [],
   "source": [
    "from sklearn.metrics import plot_roc_curve\n",
    "\n",
    "rf_single = rf.best_estimator_['clf']\n",
    "plot_roc_curve(rf_single, x_test, y_test)"
   ]
  }
 ],
 "metadata": {
  "kernelspec": {
   "display_name": "Python 3",
   "language": "python",
   "name": "python3"
  },
  "language_info": {
   "codemirror_mode": {
    "name": "ipython",
    "version": 3
   },
   "file_extension": ".py",
   "mimetype": "text/x-python",
   "name": "python",
   "nbconvert_exporter": "python",
   "pygments_lexer": "ipython3",
   "version": "3.7.2"
  }
 },
 "nbformat": 4,
 "nbformat_minor": 4
}
