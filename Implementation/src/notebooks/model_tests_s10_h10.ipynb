{
 "cells": [
  {
   "cell_type": "code",
   "execution_count": 1,
   "metadata": {
    "scrolled": false
   },
   "outputs": [],
   "source": [
    "from own_models_train import get_paths, get_reduced_column_names\n",
    "from estimators import *\n",
    "from IPython.display import display, Markdown"
   ]
  },
  {
   "cell_type": "code",
   "execution_count": 2,
   "metadata": {
    "scrolled": false
   },
   "outputs": [
    {
     "data": {
      "text/plain": [
       "['RF_Clf_s10_all_h10',\n",
       " 'RF_Regr_s10_all_h10',\n",
       " 'XGB_Regr_s10_all_h10',\n",
       " 'XGB_Clf_s10_all_h10']"
      ]
     },
     "execution_count": 2,
     "metadata": {},
     "output_type": "execute_result"
    }
   ],
   "source": [
    "get_paths(reduced=False, segment_length=10, threshold=10)"
   ]
  },
  {
   "cell_type": "code",
   "execution_count": 12,
   "metadata": {
    "scrolled": true
   },
   "outputs": [],
   "source": [
    "models = {\n",
    "    'RF_Clf_s10_all_h10': None,\n",
    "    'RF_Regr_s10_all_h10': None,\n",
    "    'XGB_Regr_s10_all_h10': None,\n",
    "    'XGB_Clf_s10_all_h10': None,\n",
    "    'RF_Clf_s10_reduced_h10': None,\n",
    "    'RF_Regr_default': None,\n",
    "    'XGB_Regr_default': None,\n",
    "    'XGB_Clf_default': None\n",
    "}"
   ]
  },
  {
   "cell_type": "code",
   "execution_count": 13,
   "metadata": {
    "scrolled": false
   },
   "outputs": [
    {
     "name": "stdout",
     "output_type": "stream",
     "text": [
      "RF_Clf_s10_all_h10\n",
      "RF_Regr_s10_all_h10\n",
      "XGB_Regr_s10_all_h10\n",
      "XGB_Clf_s10_all_h10\n",
      "RF_Clf_s10_reduced_h10\n",
      "RF_Regr_default\n",
      "XGB_Regr_default\n",
      "XGB_Clf_default\n"
     ]
    }
   ],
   "source": [
    "for path in models.keys():\n",
    "    print(path)\n",
    "    if 'all' in path:\n",
    "        feature_selection = None\n",
    "    else:\n",
    "        feature_selection = get_reduced_column_names()\n",
    "    models[path] = OwnEstimator(clf=None, path=path, feature_selection=feature_selection)"
   ]
  },
  {
   "cell_type": "code",
   "execution_count": 18,
   "metadata": {
    "scrolled": false
   },
   "outputs": [
    {
     "data": {
      "text/markdown": [
       "# Alle Merkmale"
      ],
      "text/plain": [
       "<IPython.core.display.Markdown object>"
      ]
     },
     "metadata": {},
     "output_type": "display_data"
    },
    {
     "data": {
      "text/markdown": [
       "## RF_Clf_s10_all_h10"
      ],
      "text/plain": [
       "<IPython.core.display.Markdown object>"
      ]
     },
     "metadata": {},
     "output_type": "display_data"
    },
    {
     "name": "stdout",
     "output_type": "stream",
     "text": [
      "AUC: 0.75\n",
      "F1: 0.61\n",
      "Coverage klassifiziert      : 36.81 %\n",
      "Coverage annotiert          : 43.21 %\n",
      "MAE auf als informativ klassifizierten Segmenten: 12.11\n",
      "MAE auf als informativ annotierten Segmenten:  3.28\n",
      "MAE insgesamt:  21.85\n"
     ]
    },
    {
     "data": {
      "text/markdown": [
       "## RF_Regr_s10_all_h10"
      ],
      "text/plain": [
       "<IPython.core.display.Markdown object>"
      ]
     },
     "metadata": {},
     "output_type": "display_data"
    },
    {
     "name": "stdout",
     "output_type": "stream",
     "text": [
      "AUC: 0.75\n",
      "F1: 0.64\n",
      "Coverage klassifiziert      : 46.17 %\n",
      "Coverage annotiert          : 43.21 %\n",
      "MAE auf als informativ klassifizierten Segmenten: 12.56\n",
      "MAE auf als informativ annotierten Segmenten:  3.28\n",
      "MAE insgesamt:  21.85\n"
     ]
    },
    {
     "data": {
      "text/markdown": [
       "## XGB_Clf_s10_all_h10"
      ],
      "text/plain": [
       "<IPython.core.display.Markdown object>"
      ]
     },
     "metadata": {},
     "output_type": "display_data"
    },
    {
     "name": "stdout",
     "output_type": "stream",
     "text": [
      "AUC: 0.75\n",
      "F1: 0.62\n",
      "Coverage klassifiziert      : 35.93 %\n",
      "Coverage annotiert          : 43.21 %\n",
      "MAE auf als informativ klassifizierten Segmenten: 11.38\n",
      "MAE auf als informativ annotierten Segmenten:  3.28\n",
      "MAE insgesamt:  21.85\n"
     ]
    },
    {
     "data": {
      "text/markdown": [
       "## XGB_Regr_s10_all_h10"
      ],
      "text/plain": [
       "<IPython.core.display.Markdown object>"
      ]
     },
     "metadata": {},
     "output_type": "display_data"
    },
    {
     "name": "stdout",
     "output_type": "stream",
     "text": [
      "AUC: 0.74\n",
      "F1-Score: 0.65\n",
      "\n",
      " Testset insgesamt\n",
      "Fehler < 5 FE   : 32.61 %\n",
      "Fehler < 10 FE   : 43.21 %\n",
      "Fehler < 15 FE   : 51.64 %\n",
      "Fehler < 20 FE   : 59.38 %\n",
      "Fehler = 667 FE : 0.09578 %\n",
      "                 precision    recall  f1-score   support\n",
      "\n",
      "non-informative       0.86      0.28      0.42    144087\n",
      "    informative       0.50      0.94      0.65    109616\n",
      "\n",
      "       accuracy                           0.56    253703\n",
      "      macro avg       0.68      0.61      0.53    253703\n",
      "   weighted avg       0.70      0.56      0.52    253703\n",
      "\n",
      "MAE auf als informativ klassifizierten Segmenten: 16.04\n",
      "MAE auf als informativ annotierten Segmenten:  3.28\n",
      "MAE insgesamt:  21.85\n",
      "MSE auf als informativ klassifizierten Segmenten: 570.77\n",
      "MSE auf als informativ annotierten Segmenten:  17.80\n",
      "MSE insgesamt:  1406.50\n",
      "\n",
      "\n",
      "Coverage klassifiziert      : 81.80 %\n",
      "Coverage annotiert          : 43.21 %\n",
      "\n",
      " Coverage bestimmter Fehler des genutzten Signals auf Gesamtsignal\n",
      "Fehler < 5 FE gesamt           : 32.61 %\n",
      "Fehler < 5 FE klassifiziert    : 31.16 %\n",
      "Fehler < 10 FE gesamt          : 43.21 %\n",
      "Fehler < 10 FE klassifiziert   : 40.71 %\n",
      "Fehler < 15 FE gesamt          : 51.64 %\n",
      "Fehler < 15 FE klassifiziert   : 48.19 %\n",
      "Fehler < 20 FE gesamt          : 59.38 %\n",
      "Fehler < 20 FE klassifiziert   : 54.97 %\n",
      "Fehler = 667 FE gesamt         : 0.09578 %\n",
      "Fehler = 667 FE klassifiziert  : 0.00355 %\n",
      "\n",
      " Anteil bestimmter Fehler auf informativem Signal\n",
      "Fehler < 5 FE   : 38.10 %\n",
      "Fehler < 10 FE   : 49.76 %\n",
      "Fehler < 15 FE   : 58.91 %\n",
      "Fehler < 20 FE   : 67.20 %\n",
      "Fehler = 667 FE : 0.00434 %\n",
      "\n",
      " False Positives\n",
      "Durchschnittlicher Fehler von False Positives: 28.76\n",
      "Fehler < 5 FE   : 0.00 %\n",
      "Fehler < 10 FE   : 0.00 %\n",
      "Fehler < 15 FE   : 18.21 %\n",
      "Fehler < 20 FE   : 34.72 %\n",
      "Fehler = 667 FE : 0.00863 %\n",
      "\n",
      " False Negatives\n",
      "Durchschnittlicher Fehler von False Negatives: 4.53\n",
      "Fehler < 5 FE   : 57.67 %\n",
      "Fehler < 10 FE   : 100.00 %\n",
      "Fehler < 15 FE   : 100.00 %\n",
      "Fehler < 20 FE   : 100.00 %\n",
      "Fehler = 667 FE : 0.00000 %\n"
     ]
    },
    {
     "data": {
      "image/png": "[encoded data removed]",
      "text/plain": [
       "<Figure size 297.644x183.958 with 1 Axes>"
      ]
     },
     "metadata": {
      "needs_background": "light"
     },
     "output_type": "display_data"
    },
    {
     "data": {
      "text/plain": [
       "<Figure size 297.644x183.958 with 0 Axes>"
      ]
     },
     "metadata": {},
     "output_type": "display_data"
    },
    {
     "data": {
      "image/png": "[encoded data removed]",
      "text/plain": [
       "<Figure size 432x288 with 2 Axes>"
      ]
     },
     "metadata": {
      "needs_background": "light"
     },
     "output_type": "display_data"
    },
    {
     "data": {
      "image/png": "[encoded data removed]",
      "text/plain": [
       "<Figure size 297.644x183.958 with 1 Axes>"
      ]
     },
     "metadata": {
      "needs_background": "light"
     },
     "output_type": "display_data"
    },
    {
     "data": {
      "image/png": "[encoded data removed]",
      "text/plain": [
       "<Figure size 297.644x183.958 with 1 Axes>"
      ]
     },
     "metadata": {
      "needs_background": "light"
     },
     "output_type": "display_data"
    },
    {
     "data": {
      "image/png": "[encoded data removed]",
      "text/plain": [
       "<Figure size 297.644x183.958 with 1 Axes>"
      ]
     },
     "metadata": {
      "needs_background": "light"
     },
     "output_type": "display_data"
    },
    {
     "data": {
      "image/png": "[encoded data removed]",
      "text/plain": [
       "<Figure size 297.644x183.958 with 1 Axes>"
      ]
     },
     "metadata": {
      "needs_background": "light"
     },
     "output_type": "display_data"
    },
    {
     "data": {
      "image/png": "[encoded data removed]",
      "text/plain": [
       "<Figure size 297.644x183.958 with 1 Axes>"
      ]
     },
     "metadata": {
      "needs_background": "light"
     },
     "output_type": "display_data"
    }
   ],
   "source": [
    "display(Markdown('# Alle Merkmale'))\n",
    "display(Markdown(\"## RF_Clf_s10_all_h10\"))\n",
    "models['RF_Clf_s10_all_h10'].print_short_report()\n",
    "display(Markdown(\"## RF_Regr_s10_all_h10\"))\n",
    "models['RF_Regr_s10_all_h10'].print_short_report()\n",
    "display(Markdown(\"## XGB_Clf_s10_all_h10\"))\n",
    "models['XGB_Clf_s10_all_h10'].print_short_report()\n",
    "display(Markdown(\"## XGB_Regr_s10_all_h10\"))\n",
    "models['XGB_Regr_s10_all_h10'].print_model_test_report()"
   ]
  },
  {
   "cell_type": "code",
   "execution_count": 17,
   "metadata": {
    "scrolled": false
   },
   "outputs": [
    {
     "data": {
      "text/markdown": [
       "# Reduziertes Merkmalsset"
      ],
      "text/plain": [
       "<IPython.core.display.Markdown object>"
      ]
     },
     "metadata": {},
     "output_type": "display_data"
    },
    {
     "data": {
      "text/markdown": [
       "## RF_Clf_s10_reduced_h10"
      ],
      "text/plain": [
       "<IPython.core.display.Markdown object>"
      ]
     },
     "metadata": {},
     "output_type": "display_data"
    },
    {
     "name": "stdout",
     "output_type": "stream",
     "text": [
      "AUC: 0.69\n",
      "F1: 0.54\n",
      "Coverage klassifiziert      : 32.09 %\n",
      "Coverage annotiert          : 43.21 %\n",
      "MAE auf als informativ klassifizierten Segmenten: 13.87\n",
      "MAE auf als informativ annotierten Segmenten:  3.28\n",
      "MAE insgesamt:  21.85\n"
     ]
    },
    {
     "data": {
      "text/markdown": [
       "## RF_Regr_s10_reduced_h10"
      ],
      "text/plain": [
       "<IPython.core.display.Markdown object>"
      ]
     },
     "metadata": {},
     "output_type": "display_data"
    },
    {
     "name": "stdout",
     "output_type": "stream",
     "text": [
      "AUC: 0.67\n",
      "F1: 0.34\n",
      "Coverage klassifiziert      : 12.57 %\n",
      "Coverage annotiert          : 43.21 %\n",
      "MAE auf als informativ klassifizierten Segmenten: 8.89\n",
      "MAE auf als informativ annotierten Segmenten:  3.28\n",
      "MAE insgesamt:  21.85\n"
     ]
    },
    {
     "data": {
      "text/markdown": [
       "## XGB_Clf_default"
      ],
      "text/plain": [
       "<IPython.core.display.Markdown object>"
      ]
     },
     "metadata": {},
     "output_type": "display_data"
    },
    {
     "name": "stdout",
     "output_type": "stream",
     "text": [
      "AUC: 0.68\n",
      "F1: 0.56\n",
      "Coverage klassifiziert      : 38.10 %\n",
      "Coverage annotiert          : 43.21 %\n",
      "MAE auf als informativ klassifizierten Segmenten: 14.60\n",
      "MAE auf als informativ annotierten Segmenten:  3.28\n",
      "MAE insgesamt:  21.85\n"
     ]
    },
    {
     "data": {
      "text/markdown": [
       "## XGB_Regr_default"
      ],
      "text/plain": [
       "<IPython.core.display.Markdown object>"
      ]
     },
     "metadata": {},
     "output_type": "display_data"
    },
    {
     "name": "stdout",
     "output_type": "stream",
     "text": [
      "AUC: 0.65\n",
      "F1: 0.44\n",
      "Coverage klassifiziert      : 23.14 %\n",
      "Coverage annotiert          : 43.21 %\n",
      "MAE auf als informativ klassifizierten Segmenten: 12.60\n",
      "MAE auf als informativ annotierten Segmenten:  3.28\n",
      "MAE insgesamt:  21.85\n"
     ]
    }
   ],
   "source": [
    "display(Markdown('# Reduziertes Merkmalsset'))\n",
    "display(Markdown(\"## RF_Clf_s10_reduced_h10\"))\n",
    "models['RF_Clf_s10_reduced_h10'].print_short_report()\n",
    "display(Markdown(\"## RF_Regr_s10_reduced_h10\"))\n",
    "models['RF_Regr_default'].print_short_report()\n",
    "display(Markdown(\"## XGB_Clf_default\"))\n",
    "models['XGB_Clf_default'].print_short_report()\n",
    "display(Markdown(\"## XGB_Regr_default\"))\n",
    "models['XGB_Regr_default'].print_short_report()"
   ]
  }
 ],
 "metadata": {
  "kernelspec": {
   "display_name": "Python 3",
   "language": "python",
   "name": "python3"
  },
  "language_info": {
   "codemirror_mode": {
    "name": "ipython",
    "version": 3
   },
   "file_extension": ".py",
   "mimetype": "text/x-python",
   "name": "python",
   "nbconvert_exporter": "python",
   "pygments_lexer": "ipython3",
   "version": "3.7.2"
  }
 },
 "nbformat": 4,
 "nbformat_minor": 4
}
