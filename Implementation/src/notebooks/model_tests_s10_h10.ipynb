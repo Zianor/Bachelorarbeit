{
 "cells": [
  {
   "cell_type": "code",
   "execution_count": 1,
   "metadata": {
    "scrolled": false
   },
   "outputs": [],
   "source": [
    "from own_models_train import get_paths, get_reduced_column_names\n",
    "from estimators import *\n",
    "from IPython.display import display, Markdown"
   ]
  },
  {
   "cell_type": "code",
   "execution_count": 2,
   "metadata": {
    "scrolled": false
   },
   "outputs": [
    {
     "data": {
      "text/plain": [
       "['RF_Clf_s10_all_h10',\n",
       " 'RF_Regr_s10_all_h10',\n",
       " 'XGB_Regr_s10_all_h10',\n",
       " 'XGB_Clf_s10_all_h10']"
      ]
     },
     "execution_count": 2,
     "metadata": {},
     "output_type": "execute_result"
    }
   ],
   "source": [
    "get_paths(reduced=False, segment_length=10, threshold=10)"
   ]
  },
  {
   "cell_type": "code",
   "execution_count": 8,
   "metadata": {
    "scrolled": true
   },
   "outputs": [],
   "source": [
    "models = {\n",
    "    'RF_Clf_s10_all_h10': None,\n",
    "    'RF_Regr_s10_all_h10': None,\n",
    "    'XGB_Regr_default_all': None,\n",
    "    'XGB_Clf_s10_all_h10': None,\n",
    "    'RF_Clf_s10_reduced_h10': None,\n",
    "    'RF_Regr_s10_reduced_h10': None,\n",
    "    'XGB_Regr_default': None,\n",
    "    'XGB_Clf_default': None\n",
    "}"
   ]
  },
  {
   "cell_type": "code",
   "execution_count": 9,
   "metadata": {
    "scrolled": false
   },
   "outputs": [
    {
     "name": "stdout",
     "output_type": "stream",
     "text": [
      "RF_Clf_s10_all_h10\n",
      "RF_Regr_s10_all_h10\n",
      "XGB_Regr_default_all\n",
      "XGB_Clf_s10_all_h10\n",
      "RF_Clf_s10_reduced_h10\n",
      "RF_Regr_s10_reduced_h10\n",
      "XGB_Regr_default\n",
      "XGB_Clf_default\n"
     ]
    }
   ],
   "source": [
    "for path in models.keys():\n",
    "    print(path)\n",
    "    if 'all' in path:\n",
    "        feature_selection = None\n",
    "    else:\n",
    "        feature_selection = get_reduced_column_names()\n",
    "    models[path] = OwnEstimator(clf=None, path=path, feature_selection=feature_selection)"
   ]
  },
  {
   "cell_type": "code",
   "execution_count": 10,
   "metadata": {},
   "outputs": [
    {
     "data": {
      "text/markdown": [
       "# Alle Merkmale"
      ],
      "text/plain": [
       "<IPython.core.display.Markdown object>"
      ]
     },
     "metadata": {},
     "output_type": "display_data"
    },
    {
     "data": {
      "text/markdown": [
       "## RF_Clf_s10_all_h10"
      ],
      "text/plain": [
       "<IPython.core.display.Markdown object>"
      ]
     },
     "metadata": {},
     "output_type": "display_data"
    },
    {
     "name": "stdout",
     "output_type": "stream",
     "text": [
      "AUC: 0.75\n",
      "F1: 0.61\n",
      "Coverage klassifiziert      : 36.81 %\n",
      "Coverage annotiert          : 43.21 %\n",
      "MAE auf als informativ klassifizierten Segmenten: 12.11\n",
      "MAE auf als informativ annotierten Segmenten:  3.28\n",
      "MAE insgesamt:  21.85\n"
     ]
    },
    {
     "data": {
      "text/markdown": [
       "## RF_Regr_s10_all_h10"
      ],
      "text/plain": [
       "<IPython.core.display.Markdown object>"
      ]
     },
     "metadata": {},
     "output_type": "display_data"
    },
    {
     "name": "stdout",
     "output_type": "stream",
     "text": [
      "AUC: 0.75\n",
      "F1: 0.64\n",
      "Coverage klassifiziert      : 46.17 %\n",
      "Coverage annotiert          : 43.21 %\n",
      "MAE auf als informativ klassifizierten Segmenten: 12.56\n",
      "MAE auf als informativ annotierten Segmenten:  3.28\n",
      "MAE insgesamt:  21.85\n"
     ]
    },
    {
     "data": {
      "text/markdown": [
       "## XGB_Clf_s10_all_h10"
      ],
      "text/plain": [
       "<IPython.core.display.Markdown object>"
      ]
     },
     "metadata": {},
     "output_type": "display_data"
    },
    {
     "name": "stdout",
     "output_type": "stream",
     "text": [
      "AUC: 0.75\n",
      "F1: 0.62\n",
      "Coverage klassifiziert      : 35.93 %\n",
      "Coverage annotiert          : 43.21 %\n",
      "MAE auf als informativ klassifizierten Segmenten: 11.38\n",
      "MAE auf als informativ annotierten Segmenten:  3.28\n",
      "MAE insgesamt:  21.85\n"
     ]
    },
    {
     "data": {
      "text/markdown": [
       "## XGB_Regr_default_all"
      ],
      "text/plain": [
       "<IPython.core.display.Markdown object>"
      ]
     },
     "metadata": {},
     "output_type": "display_data"
    },
    {
     "name": "stdout",
     "output_type": "stream",
     "text": [
      "AUC: 0.73\n",
      "F1: 0.55\n",
      "Coverage klassifiziert      : 30.30 %\n",
      "Coverage annotiert          : 43.21 %\n",
      "MAE auf als informativ klassifizierten Segmenten: 10.71\n",
      "MAE auf als informativ annotierten Segmenten:  3.28\n",
      "MAE insgesamt:  21.85\n"
     ]
    }
   ],
   "source": [
    "display(Markdown('# Alle Merkmale'))\n",
    "display(Markdown(\"## RF_Clf_s10_all_h10\"))\n",
    "models['RF_Clf_s10_all_h10'].print_short_report()\n",
    "display(Markdown(\"## RF_Regr_s10_all_h10\"))\n",
    "models['RF_Regr_s10_all_h10'].print_short_report()\n",
    "display(Markdown(\"## XGB_Clf_s10_all_h10\"))\n",
    "models['XGB_Clf_s10_all_h10'].print_short_report()\n",
    "display(Markdown(\"## XGB_Regr_default_all\"))\n",
    "models['XGB_Regr_default_all'].print_short_report()"
   ]
  },
  {
   "cell_type": "code",
   "execution_count": 11,
   "metadata": {
    "scrolled": false
   },
   "outputs": [
    {
     "data": {
      "text/markdown": [
       "# Reduziertes Merkmalsset"
      ],
      "text/plain": [
       "<IPython.core.display.Markdown object>"
      ]
     },
     "metadata": {},
     "output_type": "display_data"
    },
    {
     "data": {
      "text/markdown": [
       "## RF_Clf_s10_reduced_h10"
      ],
      "text/plain": [
       "<IPython.core.display.Markdown object>"
      ]
     },
     "metadata": {},
     "output_type": "display_data"
    },
    {
     "name": "stdout",
     "output_type": "stream",
     "text": [
      "AUC: 0.69\n",
      "F1: 0.54\n",
      "Coverage klassifiziert      : 32.09 %\n",
      "Coverage annotiert          : 43.21 %\n",
      "MAE auf als informativ klassifizierten Segmenten: 13.87\n",
      "MAE auf als informativ annotierten Segmenten:  3.28\n",
      "MAE insgesamt:  21.85\n"
     ]
    },
    {
     "data": {
      "text/markdown": [
       "## RF_s10_reduced_h10"
      ],
      "text/plain": [
       "<IPython.core.display.Markdown object>"
      ]
     },
     "metadata": {},
     "output_type": "display_data"
    },
    {
     "name": "stdout",
     "output_type": "stream",
     "text": [
      "AUC: 0.33\n",
      "F1: 0.60\n",
      "Coverage klassifiziert      : 99.92 %\n",
      "Coverage annotiert          : 43.21 %\n",
      "MAE auf als informativ klassifizierten Segmenten: 21.34\n",
      "MAE auf als informativ annotierten Segmenten:  3.28\n",
      "MAE insgesamt:  21.85\n"
     ]
    },
    {
     "data": {
      "text/markdown": [
       "## XGB_Clf_default"
      ],
      "text/plain": [
       "<IPython.core.display.Markdown object>"
      ]
     },
     "metadata": {},
     "output_type": "display_data"
    },
    {
     "name": "stdout",
     "output_type": "stream",
     "text": [
      "AUC: 0.68\n",
      "F1: 0.56\n",
      "Coverage klassifiziert      : 38.10 %\n",
      "Coverage annotiert          : 43.21 %\n",
      "MAE auf als informativ klassifizierten Segmenten: 14.60\n",
      "MAE auf als informativ annotierten Segmenten:  3.28\n",
      "MAE insgesamt:  21.85\n"
     ]
    },
    {
     "data": {
      "text/markdown": [
       "## XGB_Regr_default"
      ],
      "text/plain": [
       "<IPython.core.display.Markdown object>"
      ]
     },
     "metadata": {},
     "output_type": "display_data"
    },
    {
     "name": "stdout",
     "output_type": "stream",
     "text": [
      "AUC: 0.65\n",
      "F1: 0.44\n",
      "Coverage klassifiziert      : 23.14 %\n",
      "Coverage annotiert          : 43.21 %\n",
      "MAE auf als informativ klassifizierten Segmenten: 12.60\n",
      "MAE auf als informativ annotierten Segmenten:  3.28\n",
      "MAE insgesamt:  21.85\n"
     ]
    }
   ],
   "source": [
    "display(Markdown('# Reduziertes Merkmalsset'))\n",
    "display(Markdown(\"## RF_Clf_s10_reduced_h10\"))\n",
    "models['RF_Clf_s10_reduced_h10'].print_short_report()\n",
    "display(Markdown(\"## RF_s10_reduced_h10\"))\n",
    "models['RF_Regr_s10_reduced_h10'].print_short_report()\n",
    "display(Markdown(\"## XGB_Clf_default\"))\n",
    "models['XGB_Clf_default'].print_short_report()\n",
    "display(Markdown(\"## XGB_Regr_default\"))\n",
    "models['XGB_Regr_default'].print_short_report()"
   ]
  }
 ],
 "metadata": {
  "kernelspec": {
   "display_name": "Python 3",
   "language": "python",
   "name": "python3"
  },
  "language_info": {
   "codemirror_mode": {
    "name": "ipython",
    "version": 3
   },
   "file_extension": ".py",
   "mimetype": "text/x-python",
   "name": "python",
   "nbconvert_exporter": "python",
   "pygments_lexer": "ipython3",
   "version": "3.7.2"
  }
 },
 "nbformat": 4,
 "nbformat_minor": 4
}
