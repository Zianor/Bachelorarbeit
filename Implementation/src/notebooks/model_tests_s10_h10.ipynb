{
 "cells": [
  {
   "cell_type": "code",
   "execution_count": 1,
   "metadata": {
    "scrolled": false
   },
   "outputs": [],
   "source": [
    "from own_models_train import get_paths, get_reduced_column_names\n",
    "from eda_utils import get_latex_column_names\n",
    "import utils\n",
    "from estimators import *\n",
    "from IPython.display import display, Markdown\n",
    "\n",
    "plt.rcParams.update(utils.get_plt_settings())"
   ]
  },
  {
   "cell_type": "code",
   "execution_count": 2,
   "metadata": {
    "scrolled": false
   },
   "outputs": [
    {
     "data": {
      "text/plain": [
       "['RF_Clf_s10_all_h10',\n",
       " 'RF_Regr_s10_all_h10',\n",
       " 'XGB_Regr_s10_all_h10',\n",
       " 'XGB_Clf_s10_all_h10']"
      ]
     },
     "execution_count": 2,
     "metadata": {},
     "output_type": "execute_result"
    }
   ],
   "source": [
    "get_paths(reduced=False, segment_length=10, threshold=10)"
   ]
  },
  {
   "cell_type": "code",
   "execution_count": 3,
   "metadata": {
    "scrolled": true
   },
   "outputs": [],
   "source": [
    "models = {\n",
    "    'RF_Clf_s10_all_h10': None,\n",
    "    'RF_Regr_s10_all_h10': None,\n",
    "    'XGB_Regr_s10_all_h10': None,\n",
    "    'XGB_Clf_s10_all_h10': None,\n",
    "    'RF_Clf_s10_reduced_h10': None,\n",
    "    'RF_Regr_s10_reduced_h10': None,\n",
    "    'XGB_Regr_s10_reduced_h10': None,\n",
    "    'XGB_Clf_s10_reduced_h10': None\n",
    "}"
   ]
  },
  {
   "cell_type": "code",
   "execution_count": 4,
   "metadata": {
    "scrolled": false
   },
   "outputs": [
    {
     "name": "stdout",
     "output_type": "stream",
     "text": [
      "RF_Clf_s10_all_h10\n",
      "RF_Regr_s10_all_h10\n",
      "XGB_Regr_s10_all_h10\n",
      "XGB_Clf_s10_all_h10\n",
      "RF_Clf_s10_reduced_h10\n",
      "RF_Regr_s10_reduced_h10\n",
      "XGB_Regr_s10_reduced_h10\n",
      "XGB_Clf_s10_reduced_h10\n"
     ]
    }
   ],
   "source": [
    "for path in models.keys():\n",
    "    print(path)\n",
    "    if 'all' in path:\n",
    "        feature_selection = None\n",
    "    else:\n",
    "        feature_selection = get_reduced_column_names()\n",
    "    models[path] = OwnEstimator(clf=None, path=path, feature_selection=feature_selection)"
   ]
  },
  {
   "cell_type": "code",
   "execution_count": 5,
   "metadata": {
    "scrolled": false
   },
   "outputs": [
    {
     "data": {
      "text/markdown": [
       "# Alle Merkmale"
      ],
      "text/plain": [
       "<IPython.core.display.Markdown object>"
      ]
     },
     "metadata": {},
     "output_type": "display_data"
    },
    {
     "data": {
      "text/markdown": [
       "## RF_Clf_s10_all_h10"
      ],
      "text/plain": [
       "<IPython.core.display.Markdown object>"
      ]
     },
     "metadata": {},
     "output_type": "display_data"
    },
    {
     "name": "stdout",
     "output_type": "stream",
     "text": [
      "AUC: 0.75\n",
      "F1: 0.61\n",
      "Coverage klassifiziert      : 36.81 %\n",
      "Coverage annotiert          : 43.21 %\n",
      "MAE insgesamt:  21.85 +- 30.48\n",
      "MAE auf als informativ klassifizierten Segmenten: 12.11 +- 16.73\n",
      "MAE auf als informativ annotierten Segmenten:  3.28 +- 2.65\n"
     ]
    },
    {
     "data": {
      "text/markdown": [
       "## RF_Regr_s10_all_h10"
      ],
      "text/plain": [
       "<IPython.core.display.Markdown object>"
      ]
     },
     "metadata": {},
     "output_type": "display_data"
    },
    {
     "name": "stdout",
     "output_type": "stream",
     "text": [
      "AUC: 0.75\n",
      "F1: 0.64\n",
      "Coverage klassifiziert      : 46.17 %\n",
      "Coverage annotiert          : 43.21 %\n",
      "MAE insgesamt:  21.85 +- 30.48\n",
      "MAE auf als informativ klassifizierten Segmenten: 12.56 +- 16.00\n",
      "MAE auf als informativ annotierten Segmenten:  3.28 +- 2.65\n"
     ]
    },
    {
     "data": {
      "text/markdown": [
       "## XGB_Clf_s10_all_h10"
      ],
      "text/plain": [
       "<IPython.core.display.Markdown object>"
      ]
     },
     "metadata": {},
     "output_type": "display_data"
    },
    {
     "name": "stdout",
     "output_type": "stream",
     "text": [
      "AUC: 0.75\n",
      "F1: 0.62\n",
      "Coverage klassifiziert      : 35.93 %\n",
      "Coverage annotiert          : 43.21 %\n",
      "MAE insgesamt:  21.85 +- 30.48\n",
      "MAE auf als informativ klassifizierten Segmenten: 11.38 +- 15.83\n",
      "MAE auf als informativ annotierten Segmenten:  3.28 +- 2.65\n"
     ]
    },
    {
     "data": {
      "text/markdown": [
       "## XGB_Regr_s10_all_h10"
      ],
      "text/plain": [
       "<IPython.core.display.Markdown object>"
      ]
     },
     "metadata": {},
     "output_type": "display_data"
    },
    {
     "name": "stdout",
     "output_type": "stream",
     "text": [
      "AUC: 0.74\n",
      "F1: 0.65\n",
      "Coverage klassifiziert      : 81.80 %\n",
      "Coverage annotiert          : 43.21 %\n",
      "MAE insgesamt:  21.85 +- 30.48\n",
      "MAE auf als informativ klassifizierten Segmenten: 16.04 +- 17.70\n",
      "MAE auf als informativ annotierten Segmenten:  3.28 +- 2.65\n"
     ]
    }
   ],
   "source": [
    "display(Markdown('# Alle Merkmale'))\n",
    "display(Markdown(\"## RF_Clf_s10_all_h10\"))\n",
    "models['RF_Clf_s10_all_h10'].print_short_report()\n",
    "display(Markdown(\"## RF_Regr_s10_all_h10\"))\n",
    "models['RF_Regr_s10_all_h10'].print_short_report()\n",
    "display(Markdown(\"## XGB_Clf_s10_all_h10\"))\n",
    "models['XGB_Clf_s10_all_h10'].print_short_report()\n",
    "display(Markdown(\"## XGB_Regr_s10_all_h10\"))\n",
    "models['XGB_Regr_s10_all_h10'].print_short_report()"
   ]
  },
  {
   "cell_type": "code",
   "execution_count": 6,
   "metadata": {
    "scrolled": false
   },
   "outputs": [
    {
     "data": {
      "text/markdown": [
       "# Reduziertes Merkmalsset"
      ],
      "text/plain": [
       "<IPython.core.display.Markdown object>"
      ]
     },
     "metadata": {},
     "output_type": "display_data"
    },
    {
     "data": {
      "text/markdown": [
       "## RF_Clf_s10_reduced_h10"
      ],
      "text/plain": [
       "<IPython.core.display.Markdown object>"
      ]
     },
     "metadata": {},
     "output_type": "display_data"
    },
    {
     "name": "stdout",
     "output_type": "stream",
     "text": [
      "AUC: 0.69\n",
      "F1: 0.54\n",
      "Coverage klassifiziert      : 32.09 %\n",
      "Coverage annotiert          : 43.21 %\n",
      "MAE insgesamt:  21.85 +- 30.48\n",
      "MAE auf als informativ klassifizierten Segmenten: 13.87 +- 19.72\n",
      "MAE auf als informativ annotierten Segmenten:  3.28 +- 2.65\n"
     ]
    },
    {
     "data": {
      "text/markdown": [
       "## RF_Regr_s10_reduced_h10"
      ],
      "text/plain": [
       "<IPython.core.display.Markdown object>"
      ]
     },
     "metadata": {},
     "output_type": "display_data"
    },
    {
     "name": "stdout",
     "output_type": "stream",
     "text": [
      "AUC: 0.69\n",
      "F1: 0.57\n",
      "Coverage klassifiziert      : 41.21 %\n",
      "Coverage annotiert          : 43.21 %\n",
      "MAE insgesamt:  21.85 +- 30.48\n",
      "MAE auf als informativ klassifizierten Segmenten: 14.34 +- 18.42\n",
      "MAE auf als informativ annotierten Segmenten:  3.28 +- 2.65\n"
     ]
    },
    {
     "data": {
      "text/markdown": [
       "## XGB_Clf_default"
      ],
      "text/plain": [
       "<IPython.core.display.Markdown object>"
      ]
     },
     "metadata": {},
     "output_type": "display_data"
    },
    {
     "name": "stdout",
     "output_type": "stream",
     "text": [
      "AUC: 0.69\n",
      "F1: 0.53\n",
      "Coverage klassifiziert      : 29.79 %\n",
      "Coverage annotiert          : 43.21 %\n",
      "MAE insgesamt:  21.85 +- 30.48\n",
      "MAE auf als informativ klassifizierten Segmenten: 13.14 +- 19.50\n",
      "MAE auf als informativ annotierten Segmenten:  3.28 +- 2.65\n"
     ]
    },
    {
     "data": {
      "text/markdown": [
       "## XGB_Regr_s10_reduced_h10"
      ],
      "text/plain": [
       "<IPython.core.display.Markdown object>"
      ]
     },
     "metadata": {},
     "output_type": "display_data"
    },
    {
     "name": "stdout",
     "output_type": "stream",
     "text": [
      "AUC: 0.69\n",
      "F1: 0.63\n",
      "Coverage klassifiziert      : 80.77 %\n",
      "Coverage annotiert          : 43.21 %\n",
      "MAE insgesamt:  21.85 +- 30.48\n",
      "MAE auf als informativ klassifizierten Segmenten: 17.79 +- 20.31\n",
      "MAE auf als informativ annotierten Segmenten:  3.28 +- 2.65\n"
     ]
    }
   ],
   "source": [
    "display(Markdown('# Reduziertes Merkmalsset'))\n",
    "display(Markdown(\"## RF_Clf_s10_reduced_h10\"))\n",
    "models['RF_Clf_s10_reduced_h10'].print_short_report()\n",
    "display(Markdown(\"## RF_Regr_s10_reduced_h10\"))\n",
    "models['RF_Regr_s10_reduced_h10'].print_short_report()\n",
    "display(Markdown(\"## XGB_Clf_s10_reduced_h10\"))\n",
    "models['XGB_Clf_s10_reduced_h10'].print_short_report()\n",
    "display(Markdown(\"## XGB_Regr_s10_reduced_h10\"))\n",
    "models['XGB_Regr_s10_reduced_h10'].print_short_report()"
   ]
  },
  {
   "cell_type": "code",
   "execution_count": 7,
   "metadata": {},
   "outputs": [
    {
     "name": "stdout",
     "output_type": "stream",
     "text": [
      " 1) hf_ratio_data                  0.073097\n",
      " 2) hf_ratio_acf                   0.067989\n",
      " 3) sqi_median                     0.066114\n",
      " 4) sqi_coverage_05                0.053646\n",
      " 5) sqi_mean                       0.053015\n",
      " 6) hf_diff_acf                    0.051608\n",
      " 7) interval_lengths_std           0.049954\n",
      " 8) hf_diff_data                   0.049807\n",
      " 9) sqi_coverage_04                0.044248\n",
      "10) peak_mean                      0.037560\n",
      "11) number_zero_crossings          0.035031\n",
      "12) abs_energy                     0.032249\n",
      "13) std                            0.031791\n",
      "14) sqi_coverage_03                0.030949\n",
      "15) interval_lengths_range         0.030750\n",
      "16) skewness                       0.028378\n",
      "17) kurtosis                       0.025874\n",
      "18) sqi_max                        0.024668\n",
      "19) sqi_std                        0.023896\n",
      "20) sqi_min                        0.023586\n",
      "21) peak_std                       0.022612\n",
      "22) peak_range                     0.021635\n",
      "23) interval_ranges_std            0.019514\n",
      "24) interval_stds_std              0.018466\n",
      "25) template_corr_highest_sqi_std  0.018032\n",
      "26) template_corr_median_sqi_std   0.016947\n",
      "27) interval_means_std             0.016153\n",
      "28) template_corr_highest_sqi_mean 0.011932\n",
      "29) template_corr_median_sqi_mean  0.010958\n",
      "30) mean                           0.009541\n"
     ]
    },
    {
     "data": {
      "image/png": "[encoded data removed]",
      "text/plain": [
       "<Figure size 425.205x262.797 with 1 Axes>"
      ]
     },
     "metadata": {
      "needs_background": "light"
     },
     "output_type": "display_data"
    }
   ],
   "source": [
    "importances = models['RF_Clf_s10_all_h10'].clf.model.feature_importances_\n",
    "column_names_text = models['RF_Clf_s10_all_h10'].features.columns\n",
    "columns = models['RF_Clf_s10_all_h10'].features.copy()\n",
    "columns.columns = [name.replace(\"_\", \" \") for name in columns.columns]\n",
    "columns.rename(columns=get_latex_column_names(), inplace=True)\n",
    "columns = columns.columns\n",
    "indices = np.argsort(importances)[::-1]\n",
    "for f in range(len(columns)):\n",
    "    print(\"%2d) %-*s %f\" % (f + 1, 30,column_names_text[indices[f]], importances[indices[f]]))\n",
    "plt.figure(figsize=utils.get_plt_big_size())\n",
    "plt.bar(range(len(columns)), importances[indices], align='center')\n",
    "plt.xticks(range(len(columns)), [name.replace(\"_\", \" \") for name in columns[indices]], fontsize=10, rotation=45, ha=\"right\")\n",
    "plt.xlim([-1, len(columns)])\n",
    "plt.tight_layout()\n",
    "plt.savefig(os.path.join(utils.get_thesis_pic_path(),'rf-clf-all-importances.pdf'), bbox_inches='tight',\n",
    "                transparent=True, dpi=300)"
   ]
  },
  {
   "cell_type": "code",
   "execution_count": 8,
   "metadata": {},
   "outputs": [
    {
     "name": "stdout",
     "output_type": "stream",
     "text": [
      " 1) sqi_median                     0.128471\n",
      " 2) sqi_coverage_05                0.101190\n",
      " 3) interval_lengths_std           0.094345\n",
      " 4) sqi_coverage_04                0.075247\n",
      " 5) peak_mean                      0.074112\n",
      " 6) hf_diff_acf                    0.073198\n",
      " 7) hf_diff_data                   0.072362\n",
      " 8) sqi_coverage_03                0.045375\n",
      " 9) peak_range                     0.045223\n",
      "10) sqi_min                        0.041876\n",
      "11) sqi_std                        0.041759\n",
      "12) number_zero_crossings          0.039664\n",
      "13) skewness                       0.036517\n",
      "14) kurtosis                       0.032919\n",
      "15) template_corr_highest_sqi_std  0.023830\n",
      "16) template_corr_median_sqi_std   0.023587\n",
      "17) interval_means_std             0.022994\n",
      "18) template_corr_highest_sqi_mean 0.010073\n",
      "19) template_corr_median_sqi_mean  0.009952\n",
      "20) mean                           0.007308\n"
     ]
    },
    {
     "data": {
      "image/png": "[encoded data removed]",
      "text/plain": [
       "<Figure size 425.205x262.797 with 1 Axes>"
      ]
     },
     "metadata": {
      "needs_background": "light"
     },
     "output_type": "display_data"
    }
   ],
   "source": [
    "importances = models['RF_Clf_s10_reduced_h10'].clf.model.feature_importances_\n",
    "column_names_text = models['RF_Clf_s10_reduced_h10'].features.columns\n",
    "columns = models['RF_Clf_s10_reduced_h10'].features.copy()\n",
    "columns.columns = [name.replace(\"_\", \" \") for name in columns.columns]\n",
    "columns.rename(columns=get_latex_column_names(), inplace=True)\n",
    "columns = columns.columns\n",
    "indices = np.argsort(importances)[::-1]\n",
    "for f in range(len(columns)):\n",
    "    print(\"%2d) %-*s %f\" % (f + 1, 30,column_names_text[indices[f]], importances[indices[f]]))\n",
    "plt.figure(figsize=utils.get_plt_big_size())\n",
    "plt.bar(range(len(columns)), importances[indices], align='center')\n",
    "plt.xticks(range(len(columns)), [name.replace(\"_\", \" \") for name in columns[indices]], fontsize=14, rotation=45, ha=\"right\")\n",
    "plt.xlim([-1, len(columns)])\n",
    "plt.tight_layout()\n",
    "plt.savefig(os.path.join(utils.get_thesis_pic_path(),'rf-clf-reduced-importances.pdf'), bbox_inches='tight',\n",
    "                transparent=True, dpi=300)"
   ]
  },
  {
   "cell_type": "code",
   "execution_count": 10,
   "metadata": {},
   "outputs": [
    {
     "name": "stdout",
     "output_type": "stream",
     "text": [
      " 1) sqi_coverage_05                0.614468\n",
      " 2) sqi_median                     0.067723\n",
      " 3) interval_lengths_std           0.047181\n",
      " 4) number_zero_crossings          0.045000\n",
      " 5) hf_diff_acf                    0.035011\n",
      " 6) peak_mean                      0.030871\n",
      " 7) peak_range                     0.022482\n",
      " 8) hf_diff_data                   0.022110\n",
      " 9) sqi_coverage_03                0.021564\n",
      "10) skewness                       0.017041\n",
      "11) sqi_std                        0.014615\n",
      "12) sqi_coverage_04                0.014109\n",
      "13) kurtosis                       0.011755\n",
      "14) interval_means_std             0.010164\n",
      "15) template_corr_median_sqi_std   0.009594\n",
      "16) template_corr_highest_sqi_std  0.004999\n",
      "17) sqi_min                        0.004806\n",
      "18) template_corr_median_sqi_mean  0.003492\n",
      "19) template_corr_highest_sqi_mean 0.001697\n",
      "20) mean                           0.001319\n"
     ]
    },
    {
     "data": {
      "image/png": "[encoded data removed]",
      "text/plain": [
       "<Figure size 425.205x262.797 with 1 Axes>"
      ]
     },
     "metadata": {
      "needs_background": "light"
     },
     "output_type": "display_data"
    }
   ],
   "source": [
    "importances = models['XGB_Clf_s10_reduced_h10'].clf.model.feature_importances_\n",
    "column_names_text = models['XGB_Clf_s10_reduced_h10'].features.columns\n",
    "columns = models['XGB_Clf_s10_reduced_h10'].features.copy()\n",
    "columns.columns = [name.replace(\"_\", \" \") for name in columns.columns]\n",
    "columns.rename(columns=get_latex_column_names(), inplace=True)\n",
    "columns = columns.columns\n",
    "indices = np.argsort(importances)[::-1]\n",
    "for f in range(len(columns)):\n",
    "    print(\"%2d) %-*s %f\" % (f + 1, 30,column_names_text[indices[f]], importances[indices[f]]))\n",
    "plt.figure(figsize=utils.get_plt_big_size())\n",
    "plt.bar(range(len(columns)), importances[indices], align='center')\n",
    "plt.xticks(range(len(columns)), [name.replace(\"_\", \" \") for name in columns[indices]], fontsize=13, rotation=45, ha=\"right\")\n",
    "plt.xlim([-1, len(columns)])\n",
    "plt.tight_layout()\n",
    "plt.savefig(os.path.join(utils.get_thesis_pic_path(),'xgb-clf-reduced-importances.pdf'), bbox_inches='tight',\n",
    "                transparent=True, dpi=300)"
   ]
  },
  {
   "cell_type": "code",
   "execution_count": 18,
   "metadata": {},
   "outputs": [
    {
     "name": "stdout",
     "output_type": "stream",
     "text": [
      " 1) sqi_coverage_05                0.434741\n",
      " 2) sqi_median                     0.098626\n",
      " 3) number_zero_crossings          0.039631\n",
      " 4) interval_lengths_std           0.038086\n",
      " 5) hf_ratio_data                  0.037833\n",
      " 6) hf_ratio_acf                   0.033417\n",
      " 7) abs_energy                     0.031730\n",
      " 8) sqi_coverage_03                0.029537\n",
      " 9) peak_std                       0.028135\n",
      "10) hf_diff_data                   0.026011\n",
      "11) peak_mean                      0.025976\n",
      "12) sqi_mean                       0.023736\n",
      "13) hf_diff_acf                    0.020892\n",
      "14) interval_ranges_std            0.019258\n",
      "15) skewness                       0.015585\n",
      "16) kurtosis                       0.014230\n",
      "17) interval_lengths_range         0.013601\n",
      "18) sqi_coverage_04                0.013236\n",
      "19) std                            0.012117\n",
      "20) template_corr_median_sqi_std   0.005740\n",
      "21) template_corr_median_sqi_mean  0.005369\n",
      "22) sqi_std                        0.005218\n",
      "23) sqi_min                        0.004972\n",
      "24) template_corr_highest_sqi_std  0.004903\n",
      "25) interval_stds_std              0.004720\n",
      "26) peak_range                     0.004616\n",
      "27) interval_means_std             0.004032\n",
      "28) sqi_max                        0.002694\n",
      "29) template_corr_highest_sqi_mean 0.000941\n",
      "30) mean                           0.000417\n"
     ]
    },
    {
     "data": {
      "image/png": "[encoded data removed]",
      "text/plain": [
       "<Figure size 425.205x262.797 with 1 Axes>"
      ]
     },
     "metadata": {
      "needs_background": "light"
     },
     "output_type": "display_data"
    }
   ],
   "source": [
    "importances = models['XGB_Clf_s10_all_h10'].clf.model.feature_importances_\n",
    "column_names_text = models['XGB_Clf_s10_all_h10'].features.columns\n",
    "columns = models['XGB_Clf_s10_all_h10'].features.copy()\n",
    "columns.columns = [name.replace(\"_\", \" \") for name in columns.columns]\n",
    "columns.rename(columns=get_latex_column_names(), inplace=True)\n",
    "columns = columns.columns\n",
    "indices = np.argsort(importances)[::-1]\n",
    "for f in range(len(columns)):\n",
    "    print(\"%2d) %-*s %f\" % (f + 1, 30,column_names_text[indices[f]], importances[indices[f]]))\n",
    "plt.figure(figsize=utils.get_plt_big_size())\n",
    "plt.bar(range(len(columns)), importances[indices], align='center')\n",
    "plt.xticks(range(len(columns)), [name.replace(\"_\", \" \") for name in columns[indices]], fontsize=10, rotation=45, ha=\"right\")\n",
    "plt.xlim([-1, len(columns)])\n",
    "plt.tight_layout()\n",
    "plt.savefig(os.path.join(utils.get_thesis_pic_path(),'xgb-clf-all-importances.pdf'), bbox_inches='tight',\n",
    "                transparent=True, dpi=300)"
   ]
  },
  {
   "cell_type": "code",
   "execution_count": 19,
   "metadata": {},
   "outputs": [
    {
     "name": "stdout",
     "output_type": "stream",
     "text": [
      " 1) sqi_coverage_05                0.586718\n",
      " 2) sqi_median                     0.087468\n",
      " 3) number_zero_crossings          0.067229\n",
      " 4) interval_lengths_std           0.038025\n",
      " 5) hf_diff_acf                    0.031067\n",
      " 6) hf_diff_data                   0.024900\n",
      " 7) interval_means_std             0.024579\n",
      " 8) peak_mean                      0.024368\n",
      " 9) peak_range                     0.019700\n",
      "10) sqi_coverage_03                0.019161\n",
      "11) sqi_coverage_04                0.016234\n",
      "12) skewness                       0.012015\n",
      "13) sqi_std                        0.011848\n",
      "14) template_corr_median_sqi_std   0.009723\n",
      "15) kurtosis                       0.009149\n",
      "16) sqi_min                        0.006182\n",
      "17) template_corr_highest_sqi_std  0.004845\n",
      "18) template_corr_median_sqi_mean  0.004063\n",
      "19) template_corr_highest_sqi_mean 0.001513\n",
      "20) mean                           0.001213\n"
     ]
    },
    {
     "data": {
      "image/png": "[encoded data removed]",
      "text/plain": [
       "<Figure size 425.205x262.797 with 1 Axes>"
      ]
     },
     "metadata": {
      "needs_background": "light"
     },
     "output_type": "display_data"
    }
   ],
   "source": [
    "importances = models['XGB_Regr_s10_reduced_h10'].clf.model.model.feature_importances_\n",
    "column_names_text = models['XGB_Regr_s10_reduced_h10'].features.columns\n",
    "columns = models['XGB_Regr_s10_reduced_h10'].features.copy()\n",
    "columns.columns = [name.replace(\"_\", \" \") for name in columns.columns]\n",
    "columns.rename(columns=get_latex_column_names(), inplace=True)\n",
    "columns = columns.columns\n",
    "indices = np.argsort(importances)[::-1]\n",
    "for f in range(len(columns)):\n",
    "    print(\"%2d) %-*s %f\" % (f + 1, 30,column_names_text[indices[f]], importances[indices[f]]))\n",
    "plt.figure(figsize=utils.get_plt_big_size())\n",
    "plt.bar(range(len(columns)), importances[indices], align='center')\n",
    "plt.xticks(range(len(columns)), [name.replace(\"_\", \" \") for name in columns[indices]], fontsize=13, rotation=45, ha=\"right\")\n",
    "plt.xlim([-1, len(columns)])\n",
    "plt.tight_layout()\n",
    "plt.savefig(os.path.join(utils.get_thesis_pic_path(),'xgb-regr-reduced-importances.pdf'), bbox_inches='tight',\n",
    "                transparent=True, dpi=300)"
   ]
  },
  {
   "cell_type": "code",
   "execution_count": 15,
   "metadata": {},
   "outputs": [
    {
     "name": "stdout",
     "output_type": "stream",
     "text": [
      " 1) sqi_median                     0.116741\n",
      " 2) hf_diff_acf                    0.087165\n",
      " 3) interval_lengths_std           0.084122\n",
      " 4) hf_diff_data                   0.080147\n",
      " 5) sqi_coverage_05                0.073177\n",
      " 6) peak_mean                      0.071690\n",
      " 7) sqi_coverage_04                0.065081\n",
      " 8) number_zero_crossings          0.052117\n",
      " 9) sqi_std                        0.048743\n",
      "10) peak_range                     0.045348\n",
      "11) sqi_coverage_03                0.044618\n",
      "12) sqi_min                        0.043665\n",
      "13) skewness                       0.033432\n",
      "14) kurtosis                       0.032587\n",
      "15) interval_means_std             0.027929\n",
      "16) template_corr_highest_sqi_std  0.027329\n",
      "17) template_corr_median_sqi_std   0.026262\n",
      "18) template_corr_highest_sqi_mean 0.014631\n",
      "19) template_corr_median_sqi_mean  0.013817\n",
      "20) mean                           0.011399\n"
     ]
    },
    {
     "data": {
      "image/png": "[encoded data removed]",
      "text/plain": [
       "<Figure size 425.205x262.797 with 1 Axes>"
      ]
     },
     "metadata": {
      "needs_background": "light"
     },
     "output_type": "display_data"
    }
   ],
   "source": [
    "importances = models['RF_Regr_s10_reduced_h10'].clf.model.model.feature_importances_\n",
    "column_names_text = models['RF_Regr_s10_reduced_h10'].features.columns\n",
    "columns = models['RF_Regr_s10_reduced_h10'].features.copy()\n",
    "columns.columns = [name.replace(\"_\", \" \") for name in columns.columns]\n",
    "columns.rename(columns=get_latex_column_names(), inplace=True)\n",
    "columns = columns.columns\n",
    "indices = np.argsort(importances)[::-1]\n",
    "for f in range(len(columns)):\n",
    "    print(\"%2d) %-*s %f\" % (f + 1, 30,column_names_text[indices[f]], importances[indices[f]]))\n",
    "width, height = utils.get_plt_big_size()\n",
    "plt.figure(figsize=(width, height))\n",
    "plt.bar(range(len(columns)), importances[indices], align='center')\n",
    "plt.xticks(range(len(columns)), [name.replace(\"_\", \" \") for name in columns[indices]], fontsize=14, rotation=45, ha=\"right\")\n",
    "plt.xlim([-1, len(columns)])\n",
    "plt.tight_layout()\n",
    "plt.savefig(os.path.join(utils.get_thesis_pic_path(),'rf-regr-reduced-importances.pdf'), bbox_inches='tight',\n",
    "                transparent=True, dpi=300)"
   ]
  },
  {
   "cell_type": "code",
   "execution_count": 20,
   "metadata": {},
   "outputs": [
    {
     "name": "stdout",
     "output_type": "stream",
     "text": [
      " 1) hf_ratio_data                  0.097526\n",
      " 2) hf_ratio_acf                   0.088099\n",
      " 3) sqi_median                     0.065520\n",
      " 4) sqi_mean                       0.060986\n",
      " 5) sqi_coverage_05                0.059989\n",
      " 6) hf_diff_acf                    0.058214\n",
      " 7) hf_diff_data                   0.056526\n",
      " 8) number_zero_crossings          0.049675\n",
      " 9) interval_lengths_std           0.044136\n",
      "10) sqi_coverage_04                0.043719\n",
      "11) peak_mean                      0.037622\n",
      "12) std                            0.031723\n",
      "13) sqi_coverage_03                0.030584\n",
      "14) abs_energy                     0.029597\n",
      "15) interval_lengths_range         0.025152\n",
      "16) sqi_max                        0.023408\n",
      "17) kurtosis                       0.020372\n",
      "18) sqi_std                        0.020341\n",
      "19) skewness                       0.018659\n",
      "20) sqi_min                        0.018575\n",
      "21) peak_std                       0.015903\n",
      "22) interval_means_std             0.015264\n",
      "23) peak_range                     0.015090\n",
      "24) interval_ranges_std            0.015010\n",
      "25) template_corr_highest_sqi_std  0.014020\n",
      "26) interval_stds_std              0.013437\n",
      "27) template_corr_median_sqi_std   0.011133\n",
      "28) template_corr_highest_sqi_mean 0.007452\n",
      "29) template_corr_median_sqi_mean  0.006638\n",
      "30) mean                           0.005627\n"
     ]
    },
    {
     "data": {
      "image/png": "[encoded data removed]",
      "text/plain": [
       "<Figure size 425.205x262.797 with 1 Axes>"
      ]
     },
     "metadata": {
      "needs_background": "light"
     },
     "output_type": "display_data"
    }
   ],
   "source": [
    "importances = models['RF_Regr_s10_all_h10'].clf.model.model.feature_importances_\n",
    "column_names_text = models['RF_Regr_s10_all_h10'].features.columns\n",
    "columns = models['RF_Regr_s10_all_h10'].features.copy()\n",
    "columns.columns = [name.replace(\"_\", \" \") for name in columns.columns]\n",
    "columns.rename(columns=get_latex_column_names(), inplace=True)\n",
    "columns = columns.columns\n",
    "indices = np.argsort(importances)[::-1]\n",
    "for f in range(len(columns)):\n",
    "    print(\"%2d) %-*s %f\" % (f + 1, 30,column_names_text[indices[f]], importances[indices[f]]))\n",
    "width, height = utils.get_plt_big_size()\n",
    "plt.figure(figsize=(width, height))\n",
    "plt.bar(range(len(columns)), importances[indices], align='center')\n",
    "plt.xticks(range(len(columns)), [name.replace(\"_\", \" \") for name in columns[indices]], fontsize=11, rotation=45, ha=\"right\")\n",
    "plt.xlim([-1, len(columns)])\n",
    "plt.tight_layout()\n",
    "plt.savefig(os.path.join(utils.get_thesis_pic_path(),'rf-regr-all-importances.pdf'), bbox_inches='tight',\n",
    "                transparent=True, dpi=300)"
   ]
  },
  {
   "cell_type": "code",
   "execution_count": 17,
   "metadata": {},
   "outputs": [
    {
     "data": {
      "text/markdown": [
       "# Reduziertes Merkmalsset zuzüglich ratios"
      ],
      "text/plain": [
       "<IPython.core.display.Markdown object>"
      ]
     },
     "metadata": {},
     "output_type": "display_data"
    },
    {
     "name": "stdout",
     "output_type": "stream",
     "text": [
      "AUC: 0.75\n",
      "F1: 0.61\n",
      "Coverage klassifiziert      : 37.05 %\n",
      "Coverage annotiert          : 43.21 %\n",
      "MAE insgesamt:  21.85 +- 30.48\n",
      "MAE auf als informativ klassifizierten Segmenten: 12.01 +- 16.51\n",
      "MAE auf als informativ annotierten Segmenten:  3.28 +- 2.65\n"
     ]
    }
   ],
   "source": [
    "display(Markdown('# Reduziertes Merkmalsset zuzüglich ratios'))\n",
    "feature_selection = ['mean', 'number_zero_crossings', 'kurtosis', 'skewness', 'hf_diff_acf', 'hf_diff_data',\n",
    "            'interval_lengths_std', 'sqi_std', 'sqi_min', 'sqi_median', 'peak_range', 'peak_mean',\n",
    "            'template_corr_highest_sqi_mean', 'template_corr_highest_sqi_std', 'template_corr_median_sqi_mean',\n",
    "            'template_corr_median_sqi_std', 'interval_means_std', 'sqi_coverage_03', 'sqi_coverage_04',\n",
    "            'sqi_coverage_05', 'hf_ratio_acf', 'hf_ratio_data']\n",
    "model_test = OwnEstimator(clf=None, path=\"rf_test\", feature_selection=feature_selection)\n",
    "model_test.print_short_report()"
   ]
  },
  {
   "cell_type": "code",
   "execution_count": null,
   "metadata": {},
   "outputs": [],
   "source": []
  }
 ],
 "metadata": {
  "kernelspec": {
   "display_name": "Python 3",
   "language": "python",
   "name": "python3"
  },
  "language_info": {
   "codemirror_mode": {
    "name": "ipython",
    "version": 3
   },
   "file_extension": ".py",
   "mimetype": "text/x-python",
   "name": "python",
   "nbconvert_exporter": "python",
   "pygments_lexer": "ipython3",
   "version": "3.7.2"
  }
 },
 "nbformat": 4,
 "nbformat_minor": 4
}
