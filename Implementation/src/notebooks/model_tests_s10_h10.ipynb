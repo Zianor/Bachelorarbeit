{
 "cells": [
  {
   "cell_type": "code",
   "execution_count": 10,
   "metadata": {
    "scrolled": false
   },
   "outputs": [],
   "source": [
    "from own_models_train import get_paths, get_reduced_column_names\n",
    "from estimators import *\n",
    "from IPython.display import display, Markdown"
   ]
  },
  {
   "cell_type": "code",
   "execution_count": 2,
   "metadata": {
    "scrolled": false
   },
   "outputs": [
    {
     "data": {
      "text/plain": [
       "['RF_Clf_s10_all_h10',\n",
       " 'RF_Regr_s10_all_h10',\n",
       " 'XGB_Regr_s10_all_h10',\n",
       " 'XGB_Clf_s10_all_h10']"
      ]
     },
     "execution_count": 2,
     "metadata": {},
     "output_type": "execute_result"
    }
   ],
   "source": [
    "get_paths(reduced=False, segment_length=10, threshold=10)"
   ]
  },
  {
   "cell_type": "code",
   "execution_count": 15,
   "metadata": {
    "scrolled": true
   },
   "outputs": [],
   "source": [
    "models = {\n",
    "    'RF_Clf_s10_all_h10': None,\n",
    "    'RF_Regr_default_all': None,\n",
    "    'XGB_Regr_default_all': None,\n",
    "    'XGB_Clf_default_all': None,\n",
    "    'RF_Clf_default': None,\n",
    "    'RF_Regr_default': None,\n",
    "    'XGB_Regr_default': None,\n",
    "    'XGB_Clf_default': None\n",
    "}"
   ]
  },
  {
   "cell_type": "code",
   "execution_count": null,
   "metadata": {
    "scrolled": false
   },
   "outputs": [
    {
     "name": "stdout",
     "output_type": "stream",
     "text": [
      "RF_Clf_s10_all_h10\n",
      "RF_Regr_default_all\n",
      "XGB_Regr_default_all\n",
      "XGB_Clf_default_all\n"
     ]
    }
   ],
   "source": [
    "for path in models.keys():\n",
    "    print(path)\n",
    "    if 'all' in path:\n",
    "        feature_selection = None\n",
    "    else:\n",
    "        feature_selection = get_reduced_column_names()\n",
    "    models[path] = OwnEstimator(clf=None, path=path, feature_selection=feature_selection)"
   ]
  },
  {
   "cell_type": "code",
   "execution_count": 6,
   "metadata": {},
   "outputs": [
    {
     "data": {
      "text/markdown": [
       "# Alle Merkmale"
      ],
      "text/plain": [
       "<IPython.core.display.Markdown object>"
      ]
     },
     "metadata": {},
     "output_type": "display_data"
    },
    {
     "data": {
      "text/markdown": [
       "## RF_Clf_s10_all_h10"
      ],
      "text/plain": [
       "<IPython.core.display.Markdown object>"
      ]
     },
     "metadata": {},
     "output_type": "display_data"
    },
    {
     "name": "stdout",
     "output_type": "stream",
     "text": [
      "AUC: 0.75\n",
      "F1: 0.61\n",
      "Coverage klassifiziert      : 36.81 %\n",
      "Coverage annotiert          : 43.21 %\n",
      "MAE auf als informativ klassifizierten Segmenten: 12.11\n",
      "MAE auf als informativ annotierten Segmenten:  3.28\n",
      "MAE insgesamt:  21.85\n"
     ]
    },
    {
     "data": {
      "text/markdown": [
       "## RF_Regr_default_all"
      ],
      "text/plain": [
       "<IPython.core.display.Markdown object>"
      ]
     },
     "metadata": {},
     "output_type": "display_data"
    },
    {
     "name": "stdout",
     "output_type": "stream",
     "text": [
      "AUC: 0.74\n",
      "F1: 0.44\n",
      "Coverage klassifiziert      : 17.38 %\n",
      "Coverage annotiert          : 43.21 %\n",
      "MAE auf als informativ klassifizierten Segmenten: 8.91\n",
      "MAE auf als informativ annotierten Segmenten:  3.28\n",
      "MAE insgesamt:  21.85\n"
     ]
    },
    {
     "data": {
      "text/markdown": [
       "## XGB_Clf_default_all"
      ],
      "text/plain": [
       "<IPython.core.display.Markdown object>"
      ]
     },
     "metadata": {},
     "output_type": "display_data"
    },
    {
     "name": "stdout",
     "output_type": "stream",
     "text": [
      "AUC: 0.76\n",
      "F1: 0.64\n",
      "Coverage klassifiziert      : 41.89 %\n",
      "Coverage annotiert          : 43.21 %\n",
      "MAE auf als informativ klassifizierten Segmenten: 11.96\n",
      "MAE auf als informativ annotierten Segmenten:  3.28\n",
      "MAE insgesamt:  21.85\n"
     ]
    },
    {
     "data": {
      "text/markdown": [
       "## XGB_Regr_default_all"
      ],
      "text/plain": [
       "<IPython.core.display.Markdown object>"
      ]
     },
     "metadata": {},
     "output_type": "display_data"
    },
    {
     "name": "stdout",
     "output_type": "stream",
     "text": [
      "AUC: 0.73\n",
      "F1: 0.55\n",
      "Coverage klassifiziert      : 30.30 %\n",
      "Coverage annotiert          : 43.21 %\n",
      "MAE auf als informativ klassifizierten Segmenten: 10.71\n",
      "MAE auf als informativ annotierten Segmenten:  3.28\n",
      "MAE insgesamt:  21.85\n"
     ]
    }
   ],
   "source": [
    "display(Markdown('# Alle Merkmale'))\n",
    "display(Markdown(\"## RF_Clf_s10_all_h10\"))\n",
    "models['RF_Clf_s10_all_h10'].print_short_report()\n",
    "display(Markdown(\"## RF_Regr_default_all\"))\n",
    "models['RF_Regr_default_all'].print_short_report()\n",
    "display(Markdown(\"## XGB_Clf_default_all\"))\n",
    "models['XGB_Clf_default_all'].print_short_report()\n",
    "display(Markdown(\"## XGB_Regr_default_all\"))\n",
    "models['XGB_Regr_default_all'].print_short_report()"
   ]
  },
  {
   "cell_type": "code",
   "execution_count": null,
   "metadata": {
    "scrolled": false
   },
   "outputs": [],
   "source": [
    "display(Markdown('# Reduziertes Merkmalsset'))\n",
    "display(Markdown(\"## RF_Clf_s10_reduced_h10\"))\n",
    "models['RF_Clf_s10_reduced_h10'].print_short_report()\n",
    "display(Markdown(\"## RF_Regr_default\"))\n",
    "models['RF_Regr_default'].print_short_report()\n",
    "display(Markdown(\"## XGB_Clf_default\"))\n",
    "models['XGB_Clf_default'].print_short_report()\n",
    "display(Markdown(\"## XGB_Regr_default\"))\n",
    "models['XGB_Regr_default'].print_short_report()"
   ]
  }
 ],
 "metadata": {
  "kernelspec": {
   "display_name": "Python 3",
   "language": "python",
   "name": "python3"
  },
  "language_info": {
   "codemirror_mode": {
    "name": "ipython",
    "version": 3
   },
   "file_extension": ".py",
   "mimetype": "text/x-python",
   "name": "python",
   "nbconvert_exporter": "python",
   "pygments_lexer": "ipython3",
   "version": "3.7.2"
  }
 },
 "nbformat": 4,
 "nbformat_minor": 4
}
