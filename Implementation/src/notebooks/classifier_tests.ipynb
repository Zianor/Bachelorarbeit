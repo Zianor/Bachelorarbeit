{
 "cells": [
  {
   "cell_type": "code",
   "execution_count": 1,
   "metadata": {},
   "outputs": [
    {
     "name": "stderr",
     "output_type": "stream",
     "text": [
      "/Users/zianor/.virtualenvs/venv/Bachelorarbeit/lib/python3.7/site-packages/sklearn/utils/deprecation.py:144: FutureWarning: The sklearn.ensemble.forest module is  deprecated in version 0.22 and will be removed in version 0.24. The corresponding classes / functions should instead be imported from sklearn.ensemble. Anything that cannot be imported from sklearn.ensemble is now part of the private API.\n",
      "  warnings.warn(message, FutureWarning)\n"
     ]
    }
   ],
   "source": [
    "import pandas as pd\n",
    "import numpy as np\n",
    "import matplotlib.pyplot as plt\n",
    "import seaborn as sns\n",
    "import rfpimp\n",
    "import xgboost as xgb\n",
    "\n",
    "import utils\n",
    "from data_statistical_features import Segment, SegmentStatistical\n",
    "import eda_utils\n",
    "\n",
    "import os\n",
    "\n",
    "plt.rcParams.update(utils.get_plt_settings())\n",
    "\n",
    "save=True"
   ]
  },
  {
   "cell_type": "code",
   "execution_count": 2,
   "metadata": {},
   "outputs": [],
   "source": [
    "df = pd.read_csv(utils.get_own_features_csv_path(segment_length=10, overlap_amount=0.9, hr_threshold=10, data_folder='data_patients'), index_col=False)\n",
    "features = df.drop(Segment.get_feature_name_array(), axis='columns')\n",
    "informative_inf = df[Segment.get_feature_name_array()]\n",
    "target = df['informative']\n",
    "patient_id=df['patient_id']\n"
   ]
  },
  {
   "cell_type": "code",
   "execution_count": 3,
   "metadata": {},
   "outputs": [],
   "source": [
    "from ml_statistical_features import get_patient_split\n",
    "x_train, x_test, y_train, y_test, groups_train, groups_test = get_patient_split(features, target, patient_id, test_size=0.33)\n",
    "x_train = x_train.dropna()\n",
    "x_test = x_test.dropna()\n",
    "y_train = y_train.loc[x_train.index]\n",
    "y_test = y_test.loc[x_test.index]\n",
    "x_train = x_train.reindex().to_numpy()\n",
    "y_train = y_train.reindex().to_numpy()\n",
    "x_test = x_test.reindex().to_numpy()\n",
    "y_test = y_test.reindex().to_numpy()"
   ]
  },
  {
   "cell_type": "code",
   "execution_count": 11,
   "metadata": {},
   "outputs": [
    {
     "name": "stdout",
     "output_type": "stream",
     "text": [
      "[0]\tvalidation_0-error:0.41669\n",
      "Will train until validation_0-error hasn't improved in 10 rounds.\n",
      "[1]\tvalidation_0-error:0.37467\n",
      "[2]\tvalidation_0-error:0.43316\n",
      "[3]\tvalidation_0-error:0.37078\n",
      "[4]\tvalidation_0-error:0.38528\n",
      "[5]\tvalidation_0-error:0.38926\n",
      "[6]\tvalidation_0-error:0.36235\n",
      "[7]\tvalidation_0-error:0.35622\n",
      "[8]\tvalidation_0-error:0.35558\n",
      "[9]\tvalidation_0-error:0.35310\n",
      "[10]\tvalidation_0-error:0.35625\n",
      "[11]\tvalidation_0-error:0.35202\n",
      "[12]\tvalidation_0-error:0.34911\n",
      "[13]\tvalidation_0-error:0.34705\n",
      "[14]\tvalidation_0-error:0.34513\n",
      "[15]\tvalidation_0-error:0.34503\n",
      "[16]\tvalidation_0-error:0.34479\n",
      "[17]\tvalidation_0-error:0.34435\n",
      "[18]\tvalidation_0-error:0.34451\n",
      "[19]\tvalidation_0-error:0.34055\n",
      "[20]\tvalidation_0-error:0.34020\n",
      "[21]\tvalidation_0-error:0.33879\n",
      "[22]\tvalidation_0-error:0.33742\n",
      "[23]\tvalidation_0-error:0.33608\n",
      "[24]\tvalidation_0-error:0.33426\n",
      "[25]\tvalidation_0-error:0.33366\n",
      "[26]\tvalidation_0-error:0.33345\n",
      "[27]\tvalidation_0-error:0.33217\n",
      "[28]\tvalidation_0-error:0.33214\n",
      "[29]\tvalidation_0-error:0.33114\n",
      "[30]\tvalidation_0-error:0.33089\n",
      "[31]\tvalidation_0-error:0.33059\n",
      "[32]\tvalidation_0-error:0.33066\n",
      "[33]\tvalidation_0-error:0.32916\n",
      "[34]\tvalidation_0-error:0.32930\n",
      "[35]\tvalidation_0-error:0.32892\n",
      "[36]\tvalidation_0-error:0.32883\n",
      "[37]\tvalidation_0-error:0.32858\n",
      "[38]\tvalidation_0-error:0.32833\n",
      "[39]\tvalidation_0-error:0.32815\n",
      "[40]\tvalidation_0-error:0.32745\n",
      "[41]\tvalidation_0-error:0.32749\n",
      "[42]\tvalidation_0-error:0.32754\n",
      "[43]\tvalidation_0-error:0.32731\n",
      "[44]\tvalidation_0-error:0.32710\n",
      "[45]\tvalidation_0-error:0.32682\n",
      "[46]\tvalidation_0-error:0.32711\n",
      "[47]\tvalidation_0-error:0.32675\n",
      "[48]\tvalidation_0-error:0.32578\n",
      "[49]\tvalidation_0-error:0.32569\n",
      "[50]\tvalidation_0-error:0.32463\n",
      "[51]\tvalidation_0-error:0.32464\n",
      "[52]\tvalidation_0-error:0.32463\n",
      "[53]\tvalidation_0-error:0.32458\n",
      "[54]\tvalidation_0-error:0.32478\n",
      "[55]\tvalidation_0-error:0.32465\n",
      "[56]\tvalidation_0-error:0.32550\n",
      "[57]\tvalidation_0-error:0.32732\n",
      "[58]\tvalidation_0-error:0.32745\n",
      "[59]\tvalidation_0-error:0.32753\n",
      "[60]\tvalidation_0-error:0.32836\n",
      "[61]\tvalidation_0-error:0.32844\n",
      "[62]\tvalidation_0-error:0.32790\n",
      "[63]\tvalidation_0-error:0.32821\n",
      "Stopping. Best iteration:\n",
      "[53]\tvalidation_0-error:0.32458\n",
      "\n"
     ]
    },
    {
     "data": {
      "text/plain": [
       "XGBClassifier(base_score=0.5, booster='gbtree', colsample_bylevel=1,\n",
       "              colsample_bynode=1, colsample_bytree=1, gamma=0, gpu_id=-1,\n",
       "              importance_type='gain', interaction_constraints='',\n",
       "              learning_rate=0.300000012, max_delta_step=0, max_depth=6,\n",
       "              min_child_weight=1, missing=nan, monotone_constraints='()',\n",
       "              n_estimators=100, n_jobs=0, num_parallel_tree=1,\n",
       "              objective='binary:logistic', random_state=1, reg_alpha=0,\n",
       "              reg_lambda=1, scale_pos_weight=1, subsample=1,\n",
       "              tree_method='exact', validate_parameters=1, verbosity=None)"
      ]
     },
     "execution_count": 11,
     "metadata": {},
     "output_type": "execute_result"
    }
   ],
   "source": [
    "xgb_clf = xgb.XGBClassifier(random_state=1)\n",
    "xgb_clf.fit(x_train, y_train, early_stopping_rounds=10, eval_set=[(x_test, y_test)])"
   ]
  },
  {
   "cell_type": "code",
   "execution_count": 14,
   "metadata": {},
   "outputs": [
    {
     "data": {
      "text/plain": [
       "0.6754190757456012"
      ]
     },
     "execution_count": 14,
     "metadata": {},
     "output_type": "execute_result"
    }
   ],
   "source": [
    "xgb_clf.score(x_test, y_test)"
   ]
  },
  {
   "cell_type": "code",
   "execution_count": 20,
   "metadata": {},
   "outputs": [
    {
     "name": "stdout",
     "output_type": "stream",
     "text": [
      "sqi_coverage_04     0.236\n",
      "hf_diff_data     0.127\n",
      "sqi_coverage_05     0.094\n",
      "hf_diff_acf     0.078\n",
      "abs_energy     0.059\n",
      "sqi_median     0.055\n",
      "peak_frequency_acf     0.032\n",
      "sqi_coverage_03     0.026\n",
      "interval_lengths_std     0.024\n",
      "sqi_mean       0.024\n",
      "number_zero_crossings     0.023\n",
      "peak_frequency_data     0.022\n",
      "peak_mean      0.022\n",
      "hf_ratio_acf     0.020\n",
      "interval_lengths_range     0.019\n",
      "skewness       0.018\n",
      "hf_ratio_data     0.017\n",
      "std            0.015\n",
      "kurtosis       0.014\n",
      "peak_max       0.012\n",
      "template_corr_median_sqi_std     0.009\n",
      "interval_lengths_mean     0.007\n",
      "peak_std       0.007\n",
      "template_corr_highest_sqi_std     0.007\n",
      "sqi_min        0.007\n",
      "sqi_max        0.006\n",
      "interval_ranges_std     0.006\n",
      "sqi_std        0.006\n",
      "template_corr_median_sqi_mean     0.003\n",
      "interval_stds_std     0.003\n",
      "template_corr_highest_sqi_mean     0.002\n",
      "interval_means_std     0.002\n",
      "mean           0.001\n",
      "peak_min       0.000\n"
     ]
    }
   ],
   "source": [
    "for col, val in sorted(zip(features.columns, xgb_clf.feature_importances_,), key=lambda x: x[1], reverse=True,):\n",
    "    print(f\"{col:10}{val:10.3f}\")"
   ]
  },
  {
   "cell_type": "code",
   "execution_count": 22,
   "metadata": {},
   "outputs": [
    {
     "data": {
      "text/plain": [
       "<matplotlib.axes._subplots.AxesSubplot at 0x7fe5c6bc20b8>"
      ]
     },
     "execution_count": 22,
     "metadata": {},
     "output_type": "execute_result"
    },
    {
     "data": {
      "image/png": "[encoded data removed]",
      "text/plain": [
       "<Figure size 432x288 with 1 Axes>"
      ]
     },
     "metadata": {
      "needs_background": "light"
     },
     "output_type": "display_data"
    }
   ],
   "source": [
    "xgb.plot_importance(xgb_clf)"
   ]
  }
 ],
 "metadata": {
  "kernelspec": {
   "display_name": "Python 3",
   "language": "python",
   "name": "python3"
  },
  "language_info": {
   "codemirror_mode": {
    "name": "ipython",
    "version": 3
   },
   "file_extension": ".py",
   "mimetype": "text/x-python",
   "name": "python",
   "nbconvert_exporter": "python",
   "pygments_lexer": "ipython3",
   "version": "3.7.2"
  }
 },
 "nbformat": 4,
 "nbformat_minor": 4
}
