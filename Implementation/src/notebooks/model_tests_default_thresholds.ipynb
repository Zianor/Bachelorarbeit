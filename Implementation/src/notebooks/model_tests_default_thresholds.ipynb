{
 "cells": [
  {
   "cell_type": "code",
   "execution_count": 1,
   "metadata": {},
   "outputs": [],
   "source": [
    "from own_models_train import get_paths\n",
    "from estimators import *\n",
    "from IPython.display import display, Markdown"
   ]
  },
  {
   "cell_type": "code",
   "execution_count": 13,
   "metadata": {},
   "outputs": [
    {
     "name": "stderr",
     "output_type": "stream",
     "text": [
      "/Users/zianor/Documents/git/Bachelorarbeit/Implementation/src/estimators.py:694: UserWarning: Labels are recalculated\n",
      "  warnings.warn('Labels are recalculated')\n"
     ]
    }
   ],
   "source": [
    "models_rf_clf = {\n",
    "    'RF_Clf_default_all_s10_h5': None,\n",
    "    'RF_Clf_default_all': None,\n",
    "    'RF_Clf_default_all_s10_h15': None\n",
    "}\n",
    "for path, threshold in zip(models_rf_clf.keys(), [5, 10, 15]):\n",
    "    models_rf_clf[path] = OwnEstimator(clf=None, path=path, hr_threshold=threshold)"
   ]
  },
  {
   "cell_type": "code",
   "execution_count": 18,
   "metadata": {},
   "outputs": [
    {
     "data": {
      "text/markdown": [
       "# RF_Clf"
      ],
      "text/plain": [
       "<IPython.core.display.Markdown object>"
      ]
     },
     "metadata": {},
     "output_type": "display_data"
    },
    {
     "data": {
      "text/markdown": [
       "## Threshold 5"
      ],
      "text/plain": [
       "<IPython.core.display.Markdown object>"
      ]
     },
     "metadata": {},
     "output_type": "display_data"
    },
    {
     "name": "stdout",
     "output_type": "stream",
     "text": [
      "AUC: 0.77\n",
      "F1: 0.59\n",
      "Coverage klassifiziert      : 29.24 %\n",
      "Coverage annotiert          : 32.61 %\n",
      "MAE auf als informativ klassifizierten Segmenten: 11.36\n",
      "MAE auf als informativ annotierten Segmenten:  1.98\n",
      "MAE insgesamt:  21.85\n"
     ]
    },
    {
     "data": {
      "text/markdown": [
       "## Threshold 10"
      ],
      "text/plain": [
       "<IPython.core.display.Markdown object>"
      ]
     },
     "metadata": {},
     "output_type": "display_data"
    },
    {
     "name": "stdout",
     "output_type": "stream",
     "text": [
      "AUC: 0.75\n",
      "F1: 0.60\n",
      "Coverage klassifiziert      : 34.87 %\n",
      "Coverage annotiert          : 43.21 %\n",
      "MAE auf als informativ klassifizierten Segmenten: 11.88\n",
      "MAE auf als informativ annotierten Segmenten:  3.28\n",
      "MAE insgesamt:  21.85\n"
     ]
    },
    {
     "data": {
      "text/markdown": [
       "## Threshold 15"
      ],
      "text/plain": [
       "<IPython.core.display.Markdown object>"
      ]
     },
     "metadata": {},
     "output_type": "display_data"
    },
    {
     "name": "stdout",
     "output_type": "stream",
     "text": [
      "AUC: 0.73\n",
      "F1: 0.64\n",
      "Coverage klassifiziert      : 42.55 %\n",
      "Coverage annotiert          : 51.64 %\n",
      "MAE auf als informativ klassifizierten Segmenten: 12.54\n",
      "MAE auf als informativ annotierten Segmenten:  4.78\n",
      "MAE insgesamt:  21.85\n"
     ]
    }
   ],
   "source": [
    "display(Markdown(\"# RF_Clf\"))\n",
    "display(Markdown(\"## Threshold 5\"))\n",
    "models_rf_clf['RF_Clf_default_all_s10_h5'].print_short_report()\n",
    "display(Markdown(\"## Threshold 10\"))\n",
    "models_rf_clf['RF_Clf_default_all'].print_short_report()\n",
    "display(Markdown(\"## Threshold 15\"))\n",
    "models_rf_clf['RF_Clf_default_all_s10_h15'].print_short_report()"
   ]
  },
  {
   "cell_type": "code",
   "execution_count": 29,
   "metadata": {},
   "outputs": [],
   "source": [
    "models_xgb_clf = {\n",
    "    'XGB_Clf_default_all_s10_h5': None,\n",
    "    'XGB_Clf_default_all': None,\n",
    "    'XGB_Clf_default_all_s10_h15': None\n",
    "}\n",
    "for path, threshold in zip(models_xgb_clf.keys(), [5, 10, 15]):\n",
    "    models_xgb_clf[path] = OwnEstimator(clf=None, path=path, hr_threshold=threshold)"
   ]
  },
  {
   "cell_type": "code",
   "execution_count": 30,
   "metadata": {},
   "outputs": [
    {
     "data": {
      "text/markdown": [
       "# XGB Clf"
      ],
      "text/plain": [
       "<IPython.core.display.Markdown object>"
      ]
     },
     "metadata": {},
     "output_type": "display_data"
    },
    {
     "data": {
      "text/markdown": [
       "## Threshold 5"
      ],
      "text/plain": [
       "<IPython.core.display.Markdown object>"
      ]
     },
     "metadata": {},
     "output_type": "display_data"
    },
    {
     "name": "stdout",
     "output_type": "stream",
     "text": [
      "AUC: 0.78\n",
      "F1: 0.60\n",
      "Coverage klassifiziert      : 31.61 %\n",
      "Coverage annotiert          : 32.61 %\n",
      "MAE auf als informativ klassifizierten Segmenten: 10.93\n",
      "MAE auf als informativ annotierten Segmenten:  1.98\n",
      "MAE insgesamt:  21.85\n"
     ]
    },
    {
     "data": {
      "text/markdown": [
       "## Threshold 10"
      ],
      "text/plain": [
       "<IPython.core.display.Markdown object>"
      ]
     },
     "metadata": {},
     "output_type": "display_data"
    },
    {
     "name": "stdout",
     "output_type": "stream",
     "text": [
      "AUC: 0.76\n",
      "F1: 0.64\n",
      "Coverage klassifiziert      : 41.89 %\n",
      "Coverage annotiert          : 43.21 %\n",
      "MAE auf als informativ klassifizierten Segmenten: 11.96\n",
      "MAE auf als informativ annotierten Segmenten:  3.28\n",
      "MAE insgesamt:  21.85\n"
     ]
    },
    {
     "data": {
      "text/markdown": [
       "## Threshold 15"
      ],
      "text/plain": [
       "<IPython.core.display.Markdown object>"
      ]
     },
     "metadata": {},
     "output_type": "display_data"
    },
    {
     "name": "stdout",
     "output_type": "stream",
     "text": [
      "AUC: 0.74\n",
      "F1: 0.68\n",
      "Coverage klassifiziert      : 52.05 %\n",
      "Coverage annotiert          : 51.64 %\n",
      "MAE auf als informativ klassifizierten Segmenten: 13.07\n",
      "MAE auf als informativ annotierten Segmenten:  4.78\n",
      "MAE insgesamt:  21.85\n"
     ]
    }
   ],
   "source": [
    "display(Markdown(\"# XGB Clf\"))\n",
    "display(Markdown(\"## Threshold 5\"))\n",
    "models_xgb_clf['XGB_Clf_default_all_s10_h5'].print_short_report()\n",
    "display(Markdown(\"## Threshold 10\"))\n",
    "models_xgb_clf['XGB_Clf_default_all'].print_short_report()\n",
    "display(Markdown(\"## Threshold 15\"))\n",
    "models_xgb_clf['XGB_Clf_default_all_s10_h15'].print_short_report()"
   ]
  }
 ],
 "metadata": {
  "kernelspec": {
   "display_name": "Python 3",
   "language": "python",
   "name": "python3"
  },
  "language_info": {
   "codemirror_mode": {
    "name": "ipython",
    "version": 3
   },
   "file_extension": ".py",
   "mimetype": "text/x-python",
   "name": "python",
   "nbconvert_exporter": "python",
   "pygments_lexer": "ipython3",
   "version": "3.7.2"
  }
 },
 "nbformat": 4,
 "nbformat_minor": 4
}
