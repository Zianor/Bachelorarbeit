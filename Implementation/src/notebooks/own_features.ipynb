{
 "cells": [
  {
   "cell_type": "code",
   "execution_count": 2,
   "metadata": {
    "scrolled": true
   },
   "outputs": [],
   "source": [
    "import pandas as pd\n",
    "import numpy as np\n",
    "import matplotlib.pyplot as plt\n",
    "import seaborn as sns\n",
    "\n",
    "import utils\n",
    "from data_statistical_features import Segment, SegmentStatistical\n",
    "\n",
    "import os"
   ]
  },
  {
   "cell_type": "markdown",
   "metadata": {},
   "source": [
    "# Load Data"
   ]
  },
  {
   "cell_type": "code",
   "execution_count": 3,
   "metadata": {},
   "outputs": [],
   "source": [
    "df = pd.read_csv(utils.get_own_features_csv_path(segment_length=10, overlap_amount=0.9, hr_threshold=10, data_folder='data_patients'), index_col=False)"
   ]
  },
  {
   "cell_type": "code",
   "execution_count": 19,
   "metadata": {},
   "outputs": [
    {
     "data": {
      "text/plain": [
       "count    830808.000000\n",
       "mean          5.025612\n",
       "std          18.398822\n",
       "min           0.000000\n",
       "25%           1.953125\n",
       "50%           5.468750\n",
       "75%           6.250000\n",
       "max         667.000000\n",
       "Name: peak_frequency_acf, dtype: float64"
      ]
     },
     "execution_count": 19,
     "metadata": {},
     "output_type": "execute_result"
    }
   ],
   "source": [
    "mask_inf = df['informative']\n",
    "mask_non_inf = ~df['informative']\n",
    "arr = df['peak_frequency_acf'].copy()\n",
    "#print(df.loc[mask_inf, 'peak_frequency_acf'].describe())\n",
    "# print(df.loc[mask_non_inf, 'peak_frequency_acf'].describe())\n",
    "# arr = (arr * 60)\n",
    "arr.describe()"
   ]
  },
  {
   "cell_type": "code",
   "execution_count": 28,
   "metadata": {
    "pycharm": {
     "name": "#%%\n"
    },
    "scrolled": true
   },
   "outputs": [],
   "source": [
    "df = pd.read_csv(utils.get_own_features_csv_path(segment_length=10, overlap_amount=0.9, hr_threshold=10, data_folder='data_patients'), index_col=False)\n",
    "\n",
    "features = df.drop(Segment.get_feature_name_array(), axis='columns')\n",
    "features['brueser_sqi'] = df['brueser_sqi']\n",
    "features = features.fillna(0)\n",
    "informative_inf = df[Segment.get_feature_name_array()]\n",
    "target = df['informative']\n",
    "patient_id = df['patient_id']\n",
    "features_new = df.drop(SegmentStatistical.get_feature_name_array(), axis='columns')\n",
    "features_new['brueser_sqi'] = df['brueser_sqi']\n",
    "df_new = features_new.copy()\n",
    "df_new['error'] = df['error']"
   ]
  },
  {
   "cell_type": "markdown",
   "metadata": {},
   "source": [
    "# Correlation Heatmap"
   ]
  },
  {
   "cell_type": "code",
   "execution_count": null,
   "metadata": {
    "scrolled": false
   },
   "outputs": [],
   "source": [
    "sns.heatmap(df_new.corr(), square=True, cmap =\"RdYlGn\")"
   ]
  },
  {
   "cell_type": "code",
   "execution_count": null,
   "metadata": {
    "scrolled": false
   },
   "outputs": [],
   "source": [
    "sns.heatmap(features_new.corr(), square=True, cmap =\"RdYlGn\")"
   ]
  },
  {
   "cell_type": "markdown",
   "metadata": {},
   "source": [
    "# Paarweise geplottet"
   ]
  },
  {
   "cell_type": "code",
   "execution_count": null,
   "metadata": {
    "scrolled": false
   },
   "outputs": [],
   "source": [
    "cols = ['hf_ratio_acf', 'peak_frequency_acf', 'brueser_coverage', 'abs_energy', 'informative']\n",
    "sns.pairplot(df[cols], kind='scatter', hue='informative', dropna=True)\n"
   ]
  },
  {
   "cell_type": "code",
   "execution_count": null,
   "metadata": {
    "scrolled": false
   },
   "outputs": [],
   "source": [
    "cols = ['interval_lengths_std', 'interval_lengths_range', 'interval_lengths_mean', 'error', 'informative']\n",
    "sns.pairplot(df[cols], kind='scatter', hue='informative', dropna=True)\n"
   ]
  },
  {
   "cell_type": "code",
   "execution_count": null,
   "metadata": {
    "scrolled": false
   },
   "outputs": [],
   "source": [
    "cols = ['sqi_std', 'sqi_min', 'sqi_max', 'brueser_sqi', 'error', 'informative']\n",
    "sns.pairplot(df[cols], kind='scatter', hue='informative', dropna=True)"
   ]
  },
  {
   "cell_type": "code",
   "execution_count": null,
   "metadata": {
    "scrolled": true
   },
   "outputs": [],
   "source": [
    "cols = ['peak_max','peak_min', 'peak_mean', 'error', 'informative']\n",
    "sns.pairplot(df[cols], kind='scatter', hue='informative', dropna=True)"
   ]
  },
  {
   "cell_type": "markdown",
   "metadata": {},
   "source": [
    "# Boxplots features"
   ]
  },
  {
   "cell_type": "markdown",
   "metadata": {},
   "source": [
    "# Einfluss der Merkmale bei Random Forest"
   ]
  },
  {
   "cell_type": "code",
   "execution_count": 31,
   "metadata": {
    "scrolled": false
   },
   "outputs": [],
   "source": [
    "from sklearn.ensemble import RandomForestClassifier, RandomForestRegressor\n",
    "\n",
    "\n",
    "from ml_statistical_features import get_patient_split"
   ]
  },
  {
   "cell_type": "code",
   "execution_count": 51,
   "metadata": {
    "scrolled": false
   },
   "outputs": [],
   "source": [
    "forest = RandomForestClassifier(random_state=1)\n",
    "features = features.replace([np.inf, -np.inf], 0)\n",
    "\n",
    "\n",
    "x_train, x_test, y_train, y_test, groups_train, groups_test = get_patient_split(features, target, patient_id, test_size=0.2)"
   ]
  },
  {
   "cell_type": "code",
   "execution_count": null,
   "metadata": {},
   "outputs": [],
   "source": [
    "forest.fit(x_train.fillna(0), y_train)"
   ]
  },
  {
   "cell_type": "code",
   "execution_count": 12,
   "metadata": {},
   "outputs": [
    {
     "name": "stdout",
     "output_type": "stream",
     "text": [
      "Trainings-Set:  0.9999985376867374\n",
      "Trainings-Set:  0.9999985376867374\n",
      "Test-Set:  0.6291303756124116\n",
      "Test-Set:  0.6291303756124116\n"
     ]
    }
   ],
   "source": [
    "print(\"Trainings-Set: \", str(forest.score(x_train, y_train)))\n",
    "print(\"Test-Set: \", str(forest.score(x_test, y_test)))"
   ]
  },
  {
   "cell_type": "code",
   "execution_count": 13,
   "metadata": {
    "scrolled": false
   },
   "outputs": [
    {
     "name": "stdout",
     "output_type": "stream",
     "text": [
      " 1) hf_ratio_acf                   0.089325\n",
      " 2) brueser_sqi                    0.083462\n",
      " 3) interval_lengths_mean          0.073282\n",
      " 4) interval_lengths_std           0.055002\n",
      " 5) peak_frequency_acf             0.049645\n",
      " 6) number_zero_crossings          0.044338\n",
      " 7) sqi_max                        0.040159\n",
      " 8) sqi_std                        0.040081\n",
      " 9) interval_lengths_range         0.038789\n",
      "10) sqi_min                        0.033025\n",
      "11) mad                            0.031588\n",
      "12) iqr                            0.031440\n",
      "13) peak_mean                      0.030913\n",
      "14) skewness                       0.028671\n",
      "15) kurtosis                       0.026618\n",
      "16) mean_signal_envelope           0.025124\n",
      "17) variance_local_maxima          0.024679\n",
      "18) template_corr_std              0.024427\n",
      "19) abs_energy                     0.023466\n",
      "20) minimum                        0.022607\n",
      "21) variance_local_minima          0.022281\n",
      "22) peak_std                       0.021972\n",
      "23) range                          0.021861\n",
      "24) std                            0.021703\n",
      "25) maximum                        0.020123\n",
      "26) template_corr_mean             0.019739\n",
      "27) peak_min                       0.019596\n",
      "28) peak_max                       0.018708\n",
      "29) mean                           0.016796\n",
      "30) brueser_coverage               0.000581\n",
      " 1) hf_ratio_acf                   0.089325\n",
      " 2) brueser_sqi                    0.083462\n",
      " 3) interval_lengths_mean          0.073282\n",
      " 4) interval_lengths_std           0.055002\n",
      " 5) peak_frequency_acf             0.049645\n",
      " 6) number_zero_crossings          0.044338\n",
      " 7) sqi_max                        0.040159\n",
      " 8) sqi_std                        0.040081\n",
      " 9) interval_lengths_range         0.038789\n",
      "10) sqi_min                        0.033025\n",
      "11) mad                            0.031588\n",
      "12) iqr                            0.031440\n",
      "13) peak_mean                      0.030913\n",
      "14) skewness                       0.028671\n",
      "15) kurtosis                       0.026618\n",
      "16) mean_signal_envelope           0.025124\n",
      "17) variance_local_maxima          0.024679\n",
      "18) template_corr_std              0.024427\n",
      "19) abs_energy                     0.023466\n",
      "20) minimum                        0.022607\n",
      "21) variance_local_minima          0.022281\n",
      "22) peak_std                       0.021972\n",
      "23) range                          0.021861\n",
      "24) std                            0.021703\n",
      "25) maximum                        0.020123\n",
      "26) template_corr_mean             0.019739\n",
      "27) peak_min                       0.019596\n",
      "28) peak_max                       0.018708\n",
      "29) mean                           0.016796\n",
      "30) brueser_coverage               0.000581\n"
     ]
    },
    {
     "data": {
      "image/png": "[encoded data removed]",
      "text/plain": [
       "<Figure size 432x288 with 1 Axes>"
      ]
     },
     "metadata": {
      "needs_background": "light"
     },
     "output_type": "display_data"
    },
    {
     "data": {
      "image/png": "[encoded data removed]",
      "text/plain": [
       "<Figure size 432x288 with 1 Axes>"
      ]
     },
     "metadata": {
      "needs_background": "light"
     },
     "output_type": "display_data"
    }
   ],
   "source": [
    "importances = forest.feature_importances_\n",
    "indices = np.argsort(importances)[::-1]\n",
    "for f in range(x_train.shape[1]):\n",
    "    print(\"%2d) %-*s %f\" % (f + 1, 30, features.columns[indices[f]], importances[indices[f]]))\n",
    "plt.title('Feature Importance')\n",
    "plt.bar(range(x_train.shape[1]), importances[indices], align='center')\n",
    "plt.xticks(range(x_train.shape[1]), features.columns[indices], rotation=90)\n",
    "plt.xlim([-1, x_train.shape[1]])\n",
    "plt.tight_layout()\n",
    "plt.show()"
   ]
  },
  {
   "cell_type": "code",
   "execution_count": null,
   "metadata": {},
   "outputs": [
    {
     "name": "stdout",
     "output_type": "stream",
     "text": [
      "Index(['minimum', 'maximum', 'mean', 'std', 'range', 'iqr', 'mad',\n",
      "       'number_zero_crossings', 'kurtosis', 'skewness',\n",
      "       'variance_local_maxima', 'variance_local_minima',\n",
      "       'mean_signal_envelope', 'hf_ratio_acf', 'peak_frequency_acf',\n",
      "       'abs_energy', 'interval_lengths_std', 'interval_lengths_range',\n",
      "       'interval_lengths_mean', 'sqi_std', 'sqi_min', 'sqi_max', 'peak_max',\n",
      "       'peak_min', 'peak_mean', 'peak_std', 'template_corr_mean',\n",
      "       'template_corr_std', 'brueser_sqi'],\n",
      "      dtype='object')\n"
     ]
    }
   ],
   "source": [
    "forest_regr = RandomForestRegressor(random_state=1)\n",
    "\n",
    "y_train_regr = informative_inf.loc[y_train.index]['error']\n",
    "print(x_train.columns)\n",
    "# y_train_regr[y_train_regr > 10000] = 667\n",
    "forest_regr.fit(x_train.dropna(axis='index'), y_train_regr)\n",
    "print(\"Trainings-Set: \", str(forest_regr.score(x_train, df.loc[y_train.index]['error'])))\n",
    "print(\"Test-Set: \", str(forest_regr.score(x_test, df.loc[y_test.index]['error'])))"
   ]
  },
  {
   "cell_type": "code",
   "execution_count": null,
   "metadata": {},
   "outputs": [],
   "source": [
    "y_pred = forest_regr.predict(x_test)\n",
    "y_true = df.loc[y_test.index]['error']\n",
    "\n",
    "print(np.max(y_pred))\n",
    "\n",
    "from sklearn.metrics import confusion_matrix, classification_report, ConfusionMatrixDisplay, mean_squared_error, mean_absolute_error\n",
    "\n",
    "print(\"MSE: \" + str(mean_squared_error(y_true, y_pred)))\n",
    "print(\"MAE: \" + str(mean_absolute_error(y_true, y_pred)))\n",
    "\n",
    "y_pred_label = [err < 10 for err in y_pred]\n",
    "y_true_label = [err < 10 for err in y_true]\n",
    "\n",
    "class_names = ['non-informative', 'informative']\n",
    "ConfusionMatrixDisplay(confusion_matrix(y_true_label, y_pred_label), display_labels=class_names).plot()\n",
    "print(classification_report(y_true_label, y_pred_label, target_names=class_names))"
   ]
  },
  {
   "cell_type": "code",
   "execution_count": null,
   "metadata": {},
   "outputs": [],
   "source": [
    "importances = forest_regr.feature_importances_\n",
    "indices = np.argsort(importances)[::-1]\n",
    "for f in range(x_train.shape[1]):\n",
    "    print(\"%2d) %-*s %f\" % (f + 1, 30, features.columns[indices[f]], importances[indices[f]]))\n",
    "plt.title('Feature Importance')\n",
    "plt.bar(range(x_train.shape[1]), importances[indices], align='center')\n",
    "plt.xticks(range(x_train.shape[1]), features.columns[indices], rotation=90)\n",
    "plt.xlim([-1, x_train.shape[1]])\n",
    "plt.tight_layout()\n",
    "plt.show()"
   ]
  },
  {
   "cell_type": "code",
   "execution_count": 14,
   "metadata": {
    "scrolled": false
   },
   "outputs": [],
   "source": [
    "from sklearn.decomposition import KernelPCA\n",
    "from sklearn.preprocessing import StandardScaler"
   ]
  },
  {
   "cell_type": "code",
   "execution_count": 15,
   "metadata": {
    "scrolled": true
   },
   "outputs": [],
   "source": [
    "std_scaler = StandardScaler()\n",
    "\n",
    "x_std = std_scaler.fit_transform(x_test)"
   ]
  },
  {
   "cell_type": "code",
   "execution_count": null,
   "metadata": {
    "scrolled": true
   },
   "outputs": [],
   "source": [
    "pca = KernelPCA(n_components=2)\n",
    "x_transform = pca.fit_transform(x_std)\n",
    "df = pd.DataFrame(x_transform)\n",
    "df['informative'] = y_test.values\n",
    "\n",
    "sns.pairplot(df, kind='scatter', hue='informative')"
   ]
  },
  {
   "cell_type": "code",
   "execution_count": null,
   "metadata": {
    "scrolled": false
   },
   "outputs": [],
   "source": [
    "pca = KernelPCA(n_components=2, kernel='cosine')\n",
    "x_transform = pca.fit_transform(x_std)\n",
    "df = pd.DataFrame(x_transform)\n",
    "df['informative'] = y_test.values\n",
    "\n",
    "sns.pairplot(df, kind='scatter', hue='informative')"
   ]
  },
  {
   "cell_type": "code",
   "execution_count": null,
   "metadata": {
    "scrolled": true
   },
   "outputs": [],
   "source": [
    "from sklearn.discriminant_analysis import LinearDiscriminantAnalysis\n",
    "\n",
    "clf = LinearDiscriminantAnalysis(n_components=1)\n",
    "clf.fit(x_std, y_test)\n",
    "x_lda = clf.transform(x_std)\n",
    "df_lda = pd.DataFrame(x_lda)\n",
    "df_lda['informative'] = y_test.values\n",
    "\n",
    "sns.pairplot(df_lda, kind='scatter', hue='informative')"
   ]
  },
  {
   "cell_type": "code",
   "execution_count": null,
   "metadata": {
    "scrolled": true
   },
   "outputs": [],
   "source": [
    "pca = KernelPCA(n_components=2, kernel='rbf')\n",
    "x_transform = pca.fit_transform(x_std)\n",
    "\n",
    "df = pd.DataFrame(x_transform)\n",
    "df['informative'] = y_test.values\n",
    "\n",
    "sns.pairplot(df, kind='scatter', hue='informative')"
   ]
  },
  {
   "cell_type": "code",
   "execution_count": null,
   "metadata": {
    "scrolled": true
   },
   "outputs": [],
   "source": [
    "from sklearn.neighbors import NeighborhoodComponentsAnalysis\n",
    "\n",
    "nca = NeighborhoodComponentsAnalysis(n_components=2)\n",
    "x_nca = nca.fit_transform(x_std, y_test)\n",
    "\n",
    "df_nca = pd.DataFrame(x_lda)\n",
    "df_nca['informative'] = y_test.values\n",
    "\n",
    "sns.pairplot(df_nca, kind='scatter', hue='informative')"
   ]
  }
 ],
 "metadata": {
  "celltoolbar": "Raw Cell Format",
  "kernelspec": {
   "display_name": "Python 3",
   "language": "python",
   "name": "python3"
  },
  "language_info": {
   "codemirror_mode": {
    "name": "ipython",
    "version": 3
   },
   "file_extension": ".py",
   "mimetype": "text/x-python",
   "name": "python",
   "nbconvert_exporter": "python",
   "pygments_lexer": "ipython3",
   "version": "3.7.2"
  }
 },
 "nbformat": 4,
 "nbformat_minor": 1
}
