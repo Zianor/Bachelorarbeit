{
 "cells": [
  {
   "cell_type": "code",
   "execution_count": 1,
   "metadata": {
    "scrolled": true
   },
   "outputs": [],
   "source": [
    "from estimators import OwnEstimator\n",
    "from own_models_train import get_default_results, get_reduced_column_names\n",
    "from IPython.display import display, Markdown\n",
    "\n",
    "paths = [\"RF_Clf_default\", \"RF_Regr_default\", \"XGB_Regr_default\", \"XGB_Clf_default\"]"
   ]
  },
  {
   "cell_type": "code",
   "execution_count": 3,
   "metadata": {
    "scrolled": true
   },
   "outputs": [],
   "source": [
    "models = {\n",
    "    \"RF_Clf_default\": None, \"RF_Regr_default\": None, \"XGB_Regr_default\": None, \"XGB_Clf_default\": None}\n",
    "for path in paths:\n",
    "    est = OwnEstimator(clf=None, path=path, feature_selection=get_reduced_column_names(), segment_length=10, overlap_amount=0.9,\n",
    "                 hr_threshold=10, data_folder='data_patients')\n",
    "    models[path] = est\n",
    "\n",
    "    # get_default_results()"
   ]
  },
  {
   "cell_type": "code",
   "execution_count": 4,
   "metadata": {},
   "outputs": [
    {
     "data": {
      "text/markdown": [
       "# RF_Clf_default"
      ],
      "text/plain": [
       "<IPython.core.display.Markdown object>"
      ]
     },
     "metadata": {},
     "output_type": "display_data"
    },
    {
     "name": "stdout",
     "output_type": "stream",
     "text": [
      "AUC: 0.69\n",
      "F1: 0.54\n",
      "Coverage klassifiziert      : 32.34 %\n",
      "Coverage annotiert          : 43.21 %\n",
      "MAE auf als informativ klassifizierten Segmenten: 13.90\n",
      "MAE auf als informativ annotierten Segmenten:  3.28\n",
      "MAE insgesamt:  21.85\n"
     ]
    }
   ],
   "source": [
    "display(Markdown(\"# RF_Clf_default\"))\n",
    "models[\"RF_Clf_default\"].print_short_report()"
   ]
  },
  {
   "cell_type": "code",
   "execution_count": 5,
   "metadata": {
    "scrolled": false
   },
   "outputs": [
    {
     "data": {
      "text/markdown": [
       "# RF_Regr_default"
      ],
      "text/plain": [
       "<IPython.core.display.Markdown object>"
      ]
     },
     "metadata": {},
     "output_type": "display_data"
    },
    {
     "name": "stdout",
     "output_type": "stream",
     "text": [
      "AUC: 0.67\n",
      "F1: 0.34\n",
      "Coverage klassifiziert      : 12.57 %\n",
      "Coverage annotiert          : 43.21 %\n",
      "MAE auf als informativ klassifizierten Segmenten: 8.89\n",
      "MAE auf als informativ annotierten Segmenten:  3.28\n",
      "MAE insgesamt:  21.85\n"
     ]
    }
   ],
   "source": [
    "display(Markdown(\"# RF_Regr_default\"))\n",
    "models[\"RF_Regr_default\"].print_short_report()"
   ]
  },
  {
   "cell_type": "code",
   "execution_count": 6,
   "metadata": {
    "scrolled": false
   },
   "outputs": [
    {
     "data": {
      "text/markdown": [
       "# XGB_Clf_default"
      ],
      "text/plain": [
       "<IPython.core.display.Markdown object>"
      ]
     },
     "metadata": {},
     "output_type": "display_data"
    },
    {
     "name": "stdout",
     "output_type": "stream",
     "text": [
      "AUC: 0.68\n",
      "F1: 0.56\n",
      "Coverage klassifiziert      : 38.10 %\n",
      "Coverage annotiert          : 43.21 %\n",
      "MAE auf als informativ klassifizierten Segmenten: 14.60\n",
      "MAE auf als informativ annotierten Segmenten:  3.28\n",
      "MAE insgesamt:  21.85\n"
     ]
    }
   ],
   "source": [
    "display(Markdown(\"# XGB_Clf_default\"))\n",
    "models[\"XGB_Clf_default\"].print_short_report()"
   ]
  },
  {
   "cell_type": "code",
   "execution_count": 7,
   "metadata": {
    "scrolled": false
   },
   "outputs": [
    {
     "data": {
      "text/markdown": [
       "# XGB_Regr_default"
      ],
      "text/plain": [
       "<IPython.core.display.Markdown object>"
      ]
     },
     "metadata": {},
     "output_type": "display_data"
    },
    {
     "name": "stdout",
     "output_type": "stream",
     "text": [
      "AUC: 0.65\n",
      "F1: 0.44\n",
      "Coverage klassifiziert      : 23.14 %\n",
      "Coverage annotiert          : 43.21 %\n",
      "MAE auf als informativ klassifizierten Segmenten: 12.60\n",
      "MAE auf als informativ annotierten Segmenten:  3.28\n",
      "MAE insgesamt:  21.85\n"
     ]
    }
   ],
   "source": [
    "display(Markdown(\"# XGB_Regr_default\"))\n",
    "models[\"XGB_Regr_default\"].print_short_report()"
   ]
  }
 ],
 "metadata": {
  "kernelspec": {
   "display_name": "Python 3",
   "language": "python",
   "name": "python3"
  },
  "language_info": {
   "codemirror_mode": {
    "name": "ipython",
    "version": 3
   },
   "file_extension": ".py",
   "mimetype": "text/x-python",
   "name": "python",
   "nbconvert_exporter": "python",
   "pygments_lexer": "ipython3",
   "version": "3.7.2"
  }
 },
 "nbformat": 4,
 "nbformat_minor": 4
}
