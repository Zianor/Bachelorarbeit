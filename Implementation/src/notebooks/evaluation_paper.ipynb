{
 "cells": [
  {
   "cell_type": "code",
   "execution_count": 2,
   "metadata": {},
   "outputs": [],
   "source": [
    "import numpy as np\n",
    "import os\n",
    "import json\n",
    "import utils as utils\n",
    "\n",
    "from sklearn.model_selection import KFold, GridSearchCV, cross_val_score\n",
    "from sklearn.metrics import confusion_matrix\n",
    "\n",
    "from ml_statistical_features import load_data, get_patient_split, get_all_scores, get_rf_grid_params, get_lda_grid_params, get_dt_grid_params, get_mlp_grid_params, get_linear_svc_grid_params, eval_classifier_paper\n",
    "from notebook_md_utils import get_md_data_distribution_string, get_md_mean_accuracy_grid, get_md_test_accuracy_grid, get_md_confusion_matrix_grid\n",
    "\n",
    "from IPython.display import Markdown, display"
   ]
  },
  {
   "cell_type": "code",
   "execution_count": 3,
   "metadata": {},
   "outputs": [
    {
     "data": {
      "text/html": [
       "<style>\n",
       "  table {margin-left: 0 !important;}\n",
       "</style>\n"
      ],
      "text/plain": [
       "<IPython.core.display.HTML object>"
      ]
     },
     "metadata": {},
     "output_type": "display_data"
    }
   ],
   "source": [
    "%%html\n",
    "<style>\n",
    "  table {margin-left: 0 !important;}\n",
    "</style>"
   ]
  },
  {
   "cell_type": "markdown",
   "metadata": {},
   "source": [
    "# Daten laden"
   ]
  },
  {
   "cell_type": "code",
   "execution_count": 3,
   "metadata": {},
   "outputs": [],
   "source": [
    "x, y, patient_id, informative_inf = load_data(segment_length=10, overlap_amount=0, hr_threshold=10)"
   ]
  },
  {
   "cell_type": "markdown",
   "metadata": {},
   "source": [
    "# Splitten der Daten in G1 und G2\n",
    "\n",
    "## Labelverteilung\n",
    "\n",
    "### Im Paper:\n",
    "58% informativ\n",
    "\n",
    "42% nicht-informativ\n"
   ]
  },
  {
   "cell_type": "code",
   "execution_count": 4,
   "metadata": {
    "scrolled": true
   },
   "outputs": [
    {
     "data": {
      "text/markdown": [
       "### Vorliegende Daten"
      ],
      "text/plain": [
       "<IPython.core.display.Markdown object>"
      ]
     },
     "metadata": {},
     "output_type": "display_data"
    },
    {
     "data": {
      "text/markdown": [
       "52 % informativ"
      ],
      "text/plain": [
       "<IPython.core.display.Markdown object>"
      ]
     },
     "metadata": {},
     "output_type": "display_data"
    },
    {
     "data": {
      "text/markdown": [
       "48 % nicht-informativ"
      ],
      "text/plain": [
       "<IPython.core.display.Markdown object>"
      ]
     },
     "metadata": {},
     "output_type": "display_data"
    }
   ],
   "source": [
    "distribution = np.bincount(y)\n",
    "\n",
    "display(Markdown(\"### Vorliegende Daten\"))\n",
    "display(Markdown(\"%i %s informativ\" % (round(100/len(y)*distribution[1]), '%')))\n",
    "display(Markdown(\"%i %s nicht-informativ\" % (round(100/len(y)*distribution[0]), '%')))"
   ]
  },
  {
   "cell_type": "markdown",
   "metadata": {},
   "source": [
    "\n",
    "## Gruppenverteilung\n",
    "Segmente zufällig in 2 Gruppen unterteilt\n",
    "### Im Paper\n",
    "\n",
    "\n",
    "|   | informativ | nicht-informativ | gesamt    |   \n",
    "|:--|:--------- :|:----------------:|:---------:|\n",
    "| G1 |1296 (62%)  | 789 (38%)        | 2085 (57%)|\n",
    "| G2 |813 (53%)   | 733 (47%)        | 1546 (43%)|"
   ]
  },
  {
   "cell_type": "code",
   "execution_count": 5,
   "metadata": {},
   "outputs": [
    {
     "data": {
      "text/markdown": [
       "### Vorliegende Daten"
      ],
      "text/plain": [
       "<IPython.core.display.Markdown object>"
      ]
     },
     "metadata": {},
     "output_type": "display_data"
    },
    {
     "data": {
      "text/markdown": [
       "|   | informativ | nicht-informativ | gesamt    |\n",
       "|:--|:--------- :|:----------------:|:---------:|\n",
       "|G1 | 28461 (50%)  | 28397 (50%)| 56858 (66%)|\n",
       "|G2 | 16090 (56%)  | 12763 (44%)| 28853 (34%)|\n"
      ],
      "text/plain": [
       "<IPython.core.display.Markdown object>"
      ]
     },
     "metadata": {},
     "output_type": "display_data"
    }
   ],
   "source": [
    "x_g1, x_g2, y_g1, y_g2, groups1, groups2 = get_patient_split(x, y, test_size=0.33, patient_id=patient_id)\n",
    "\n",
    "display(Markdown(\"### Vorliegende Daten\"))\n",
    "display(Markdown(get_md_data_distribution_string(y_g1, y_g2)))"
   ]
  },
  {
   "cell_type": "markdown",
   "metadata": {},
   "source": [
    "## TODO: Coverage + Mean Error"
   ]
  },
  {
   "cell_type": "markdown",
   "metadata": {},
   "source": [
    "## 10-Fold cross validation mean accuracy for G1 and G2\n",
    "\n",
    "### Im Paper\n",
    "\n",
    "(RF: ntrees=50, SVM: rbf kernel, NN: 50 hidden neuron)\n",
    "\n",
    "|    | RF    | SVM   | NN    | LDA   | DT    |\n",
    "|:---|:-----:|:-----:|:-----:|:-----:|:-----:|\n",
    "| G1 | 98.13 | 93.38 | 91.61 | 89.26 | 97.51 |\n",
    "| G2 | 92.30 | 90.49 | 85.89 | 79.37 | 89.39 |"
   ]
  },
  {
   "cell_type": "code",
   "execution_count": 4,
   "metadata": {},
   "outputs": [
    {
     "data": {
      "text/markdown": [
       "### Vorliegende Daten"
      ],
      "text/plain": [
       "<IPython.core.display.Markdown object>"
      ]
     },
     "metadata": {},
     "output_type": "display_data"
    },
    {
     "data": {
      "text/markdown": [
       "| | LDA| DT| RF| MLP| SVM| \n",
       "|:--|:--:|:--:|:--:|:--:|:--:|\n",
       " | G1 |  51.17  |  51.81  |  52.24  |  54.24  |  55.12  | \n",
       " | G2 |  50.92  |  52.15  |  55.02  |  59.86  |  55.16  | "
      ],
      "text/plain": [
       "<IPython.core.display.Markdown object>"
      ]
     },
     "metadata": {},
     "output_type": "display_data"
    }
   ],
   "source": [
    "paths = ['LDA_hr10', 'DT_hr10', 'RF_hr10', 'MLP_hr10', 'SVC_hr10']\n",
    "scores = get_all_scores(reconstruct=False, paths=paths)\n",
    "\n",
    "\n",
    "display(Markdown(\"### Vorliegende Daten\"))\n",
    "display(Markdown(get_md_mean_accuracy_grid(scores)))"
   ]
  },
  {
   "cell_type": "markdown",
   "metadata": {},
   "source": [
    "## Accuracy results for testing G2 vs. G1 (Exp1) and testing G1 vs. G2 (Exp2)\n",
    "\n",
    "### Im Paper\n",
    "\n",
    "|      | RF    | SVM   | NN    | LDA   | DT    |\n",
    "|:-----|:-----:|:-----:|:-----:|:-----:|:-----:|\n",
    "| Exp1 | 100   | 94.44 | 92.28 | 89.40 | 97.51 |\n",
    "| Exp2 | 97.99 | 97.46 | 87.10 | 90.26 | 97.41 |\n",
    "| Mean | 98.995| 95.95 | 89.69 | 89.83 | 98.41 |"
   ]
  },
  {
   "cell_type": "code",
   "execution_count": 5,
   "metadata": {},
   "outputs": [
    {
     "data": {
      "text/markdown": [
       "### Vorliegende Daten"
      ],
      "text/plain": [
       "<IPython.core.display.Markdown object>"
      ]
     },
     "metadata": {},
     "output_type": "display_data"
    },
    {
     "data": {
      "text/markdown": [
       "| | LDA| DT| RF| MLP| SVM| \n",
       "|:--|:--:|:--:|:--:|:--:|:--:|\n",
       " | Exp1 |  48.66  |  53.50  |  56.99  |  56.38  |  47.44  | \n",
       " | Exp2 |  44.36  |  49.87  |  51.60  |  51.24  |  44.34  | \n",
       " | Mean |  46.51 |  51.69 |  54.30 |  53.81 |  45.89 | "
      ],
      "text/plain": [
       "<IPython.core.display.Markdown object>"
      ]
     },
     "metadata": {},
     "output_type": "display_data"
    }
   ],
   "source": [
    "display(Markdown(\"### Vorliegende Daten\"))\n",
    "display(Markdown(get_md_test_accuracy_grid(scores)))"
   ]
  },
  {
   "cell_type": "markdown",
   "metadata": {},
   "source": [
    "## Confusion matrix of random forest for Exp2\n",
    "\n",
    "### Im Paper\n",
    "\n",
    "|             |                  | Actual        |                  |\n",
    "|:------------|:----------------:|:-------------:|:----------------:|\n",
    "|             |                  | informativ    | nicht-informativ |\n",
    "|             |                  |               |                  |\n",
    "|**Predicted**| informativ       | 1270          | 26               |\n",
    "|             | nicht-informativ | 18            | 771              |"
   ]
  },
  {
   "cell_type": "code",
   "execution_count": 8,
   "metadata": {},
   "outputs": [
    {
     "data": {
      "text/markdown": [
       "### Vorliegende Daten"
      ],
      "text/plain": [
       "<IPython.core.display.Markdown object>"
      ]
     },
     "metadata": {},
     "output_type": "display_data"
    },
    {
     "data": {
      "text/markdown": [
       "||| Actual ||\n",
       "|:--|:--:|:--:|:--:|\n",
       "||| informativ | nicht-informativ |\n",
       "|||||\n",
       "|**Predicted**| informativ | 6511 | 2663 |\n",
       "|| nicht-informativ | 9579 | 10100 |"
      ],
      "text/plain": [
       "<IPython.core.display.Markdown object>"
      ]
     },
     "metadata": {},
     "output_type": "display_data"
    }
   ],
   "source": [
    "import pickle\n",
    "\n",
    "path = os.path.join(utils.get_grid_params_path(), 'RF_hr10')\n",
    "with open(os.path.join(path, 'fitted_model.sav'), 'rb') as file:\n",
    "    rf = pickle.load(file)\n",
    "    \n",
    "_, x_test, _, y_test, _, _ = get_patient_split(x, y, test_size=0.33, patient_id=patient_id)\n",
    "y_pred = rf.predict(x_test)\n",
    "\n",
    "conf_mat = confusion_matrix(y_test, y_pred)\n",
    "\n",
    "display(Markdown(\"### Vorliegende Daten\"))\n",
    "display(Markdown(get_md_confusion_matrix_grid(conf_mat)))"
   ]
  },
  {
   "cell_type": "code",
   "execution_count": 9,
   "metadata": {},
   "outputs": [
    {
     "data": {
      "text/markdown": [
       "### Vorliegende Daten"
      ],
      "text/plain": [
       "<IPython.core.display.Markdown object>"
      ]
     },
     "metadata": {},
     "output_type": "display_data"
    },
    {
     "data": {
      "text/markdown": [
       "||| Actual ||\n",
       "|:--|:--:|:--:|:--:|\n",
       "||| informativ | nicht-informativ |\n",
       "|||||\n",
       "|**Predicted**| informativ | 10903 | 9684 |\n",
       "|| nicht-informativ | 17558 | 18713 |"
      ],
      "text/plain": [
       "<IPython.core.display.Markdown object>"
      ]
     },
     "metadata": {},
     "output_type": "display_data"
    }
   ],
   "source": [
    "rf, _ = get_rf_grid_params()\n",
    "_, _, _, _, _, y_pred_rf, y_true = eval_classifier_paper(x, y, patient_id, clf=rf, grid_folder_name='RF_hr10', patient_cv=True)\n",
    "conf_mat = confusion_matrix(y_true, y_pred_rf)\n",
    "\n",
    "display(Markdown(\"### Vorliegende Daten\"))\n",
    "display(Markdown(get_md_confusion_matrix_grid(conf_mat)))"
   ]
  },
  {
   "cell_type": "markdown",
   "metadata": {},
   "source": [
    "### Andere Klassifikatoren"
   ]
  },
  {
   "cell_type": "code",
   "execution_count": 10,
   "metadata": {},
   "outputs": [
    {
     "data": {
      "text/markdown": [
       "#### LDA"
      ],
      "text/plain": [
       "<IPython.core.display.Markdown object>"
      ]
     },
     "metadata": {},
     "output_type": "display_data"
    },
    {
     "data": {
      "text/markdown": [
       "||| Actual ||\n",
       "|:--|:--:|:--:|:--:|\n",
       "||| informativ | nicht-informativ |\n",
       "|||||\n",
       "|**Predicted**| informativ | 23800 | 18615 |\n",
       "|| nicht-informativ | 6049 | 8962 |"
      ],
      "text/plain": [
       "<IPython.core.display.Markdown object>"
      ]
     },
     "metadata": {},
     "output_type": "display_data"
    }
   ],
   "source": [
    "lda, _ = get_lda_grid_params()\n",
    "_, _, _, _, _, y_pred_lda, y_true = eval_classifier_paper(x, y, patient_id, clf=lda, grid_folder_name='LDA_hr10')\n",
    "conf_mat = confusion_matrix(y_true, y_pred_lda)\n",
    "\n",
    "display(Markdown(\"#### LDA\"))\n",
    "display(Markdown(get_md_confusion_matrix_grid(conf_mat)))"
   ]
  },
  {
   "cell_type": "code",
   "execution_count": 11,
   "metadata": {},
   "outputs": [
    {
     "data": {
      "text/markdown": [
       "#### Decision Tree"
      ],
      "text/plain": [
       "<IPython.core.display.Markdown object>"
      ]
     },
     "metadata": {},
     "output_type": "display_data"
    },
    {
     "data": {
      "text/markdown": [
       "||| Actual ||\n",
       "|:--|:--:|:--:|:--:|\n",
       "||| informativ | nicht-informativ |\n",
       "|||||\n",
       "|**Predicted**| informativ | 18542 | 11116 |\n",
       "|| nicht-informativ | 11307 | 16461 |"
      ],
      "text/plain": [
       "<IPython.core.display.Markdown object>"
      ]
     },
     "metadata": {},
     "output_type": "display_data"
    }
   ],
   "source": [
    "dt, _ = get_dt_grid_params()\n",
    "_, _, _, _, _, y_pred_dt, y_true = eval_classifier_paper(x, y, patient_id, clf=dt, grid_folder_name='DT_hr10')\n",
    "conf_mat = confusion_matrix(y_true, y_pred_dt)\n",
    "\n",
    "display(Markdown(\"#### Decision Tree\"))\n",
    "display(Markdown(get_md_confusion_matrix_grid(conf_mat)))"
   ]
  },
  {
   "cell_type": "code",
   "execution_count": 12,
   "metadata": {},
   "outputs": [
    {
     "name": "stderr",
     "output_type": "stream",
     "text": [
      "/Users/zianor/.virtualenvs/venv/Bachelorarbeit/lib/python3.7/site-packages/sklearn/neural_network/_multilayer_perceptron.py:585: ConvergenceWarning: Stochastic Optimizer: Maximum iterations (200) reached and the optimization hasn't converged yet.\n",
      "  % self.max_iter, ConvergenceWarning)\n",
      "/Users/zianor/.virtualenvs/venv/Bachelorarbeit/lib/python3.7/site-packages/sklearn/neural_network/_multilayer_perceptron.py:585: ConvergenceWarning: Stochastic Optimizer: Maximum iterations (200) reached and the optimization hasn't converged yet.\n",
      "  % self.max_iter, ConvergenceWarning)\n",
      "/Users/zianor/.virtualenvs/venv/Bachelorarbeit/lib/python3.7/site-packages/sklearn/neural_network/_multilayer_perceptron.py:585: ConvergenceWarning: Stochastic Optimizer: Maximum iterations (200) reached and the optimization hasn't converged yet.\n",
      "  % self.max_iter, ConvergenceWarning)\n",
      "/Users/zianor/.virtualenvs/venv/Bachelorarbeit/lib/python3.7/site-packages/sklearn/neural_network/_multilayer_perceptron.py:585: ConvergenceWarning: Stochastic Optimizer: Maximum iterations (200) reached and the optimization hasn't converged yet.\n",
      "  % self.max_iter, ConvergenceWarning)\n",
      "/Users/zianor/.virtualenvs/venv/Bachelorarbeit/lib/python3.7/site-packages/sklearn/neural_network/_multilayer_perceptron.py:585: ConvergenceWarning: Stochastic Optimizer: Maximum iterations (200) reached and the optimization hasn't converged yet.\n",
      "  % self.max_iter, ConvergenceWarning)\n",
      "/Users/zianor/.virtualenvs/venv/Bachelorarbeit/lib/python3.7/site-packages/sklearn/neural_network/_multilayer_perceptron.py:585: ConvergenceWarning: Stochastic Optimizer: Maximum iterations (200) reached and the optimization hasn't converged yet.\n",
      "  % self.max_iter, ConvergenceWarning)\n",
      "/Users/zianor/.virtualenvs/venv/Bachelorarbeit/lib/python3.7/site-packages/sklearn/neural_network/_multilayer_perceptron.py:585: ConvergenceWarning: Stochastic Optimizer: Maximum iterations (200) reached and the optimization hasn't converged yet.\n",
      "  % self.max_iter, ConvergenceWarning)\n",
      "/Users/zianor/.virtualenvs/venv/Bachelorarbeit/lib/python3.7/site-packages/sklearn/neural_network/_multilayer_perceptron.py:585: ConvergenceWarning: Stochastic Optimizer: Maximum iterations (200) reached and the optimization hasn't converged yet.\n",
      "  % self.max_iter, ConvergenceWarning)\n",
      "/Users/zianor/.virtualenvs/venv/Bachelorarbeit/lib/python3.7/site-packages/sklearn/neural_network/_multilayer_perceptron.py:585: ConvergenceWarning: Stochastic Optimizer: Maximum iterations (200) reached and the optimization hasn't converged yet.\n",
      "  % self.max_iter, ConvergenceWarning)\n"
     ]
    },
    {
     "data": {
      "text/markdown": [
       "#### MLP"
      ],
      "text/plain": [
       "<IPython.core.display.Markdown object>"
      ]
     },
     "metadata": {},
     "output_type": "display_data"
    },
    {
     "data": {
      "text/markdown": [
       "||| Actual ||\n",
       "|:--|:--:|:--:|:--:|\n",
       "||| informativ | nicht-informativ |\n",
       "|||||\n",
       "|**Predicted**| informativ | 18314 | 10137 |\n",
       "|| nicht-informativ | 11535 | 17440 |"
      ],
      "text/plain": [
       "<IPython.core.display.Markdown object>"
      ]
     },
     "metadata": {},
     "output_type": "display_data"
    }
   ],
   "source": [
    "mlp, _ = get_mlp_grid_params()\n",
    "_, _, _, _, _, y_pred_mlp, y_true = eval_classifier_paper(x, y, patient_id, clf=mlp, grid_folder_name='MLP_hr10')\n",
    "conf_mat = confusion_matrix(y_true, y_pred_mlp)\n",
    "\n",
    "display(Markdown(\"#### MLP\"))\n",
    "display(Markdown(get_md_confusion_matrix_grid(conf_mat)))"
   ]
  },
  {
   "cell_type": "code",
   "execution_count": 13,
   "metadata": {},
   "outputs": [
    {
     "data": {
      "text/markdown": [
       "#### SVM"
      ],
      "text/plain": [
       "<IPython.core.display.Markdown object>"
      ]
     },
     "metadata": {},
     "output_type": "display_data"
    },
    {
     "data": {
      "text/markdown": [
       "||| Actual ||\n",
       "|:--|:--:|:--:|:--:|\n",
       "||| informativ | nicht-informativ |\n",
       "|||||\n",
       "|**Predicted**| informativ | 18348 | 11522 |\n",
       "|| nicht-informativ | 11501 | 16055 |"
      ],
      "text/plain": [
       "<IPython.core.display.Markdown object>"
      ]
     },
     "metadata": {},
     "output_type": "display_data"
    }
   ],
   "source": [
    "svm, _ = get_linear_svc_grid_params()\n",
    "_, _, _, _, _, y_pred_svm, y_true = eval_classifier_paper(x, y, patient_id, clf=svm, grid_folder_name='SVC_hr10')\n",
    "conf_mat = confusion_matrix(y_true, y_pred_svm)\n",
    "\n",
    "display(Markdown(\"#### SVM\"))\n",
    "display(Markdown(get_md_confusion_matrix_grid(conf_mat)))"
   ]
  },
  {
   "cell_type": "markdown",
   "metadata": {},
   "source": [
    "# Fehler nach RF Klassifizierung"
   ]
  },
  {
   "cell_type": "code",
   "execution_count": 18,
   "metadata": {},
   "outputs": [
    {
     "ename": "IndexError",
     "evalue": "Boolean index has wrong length: 56858 instead of 57426",
     "output_type": "error",
     "traceback": [
      "\u001b[0;31m---------------------------------------------------------------------------\u001b[0m",
      "\u001b[0;31mIndexError\u001b[0m                                Traceback (most recent call last)",
      "\u001b[0;32m<ipython-input-18-6b1fc623193d>\u001b[0m in \u001b[0;36m<module>\u001b[0;34m\u001b[0m\n\u001b[1;32m      3\u001b[0m \u001b[0mnon_informativ_annotiert\u001b[0m \u001b[0;34m=\u001b[0m \u001b[0mx_test\u001b[0m\u001b[0;34m[\u001b[0m\u001b[0my_test\u001b[0m \u001b[0;34m==\u001b[0m \u001b[0;32mFalse\u001b[0m\u001b[0;34m]\u001b[0m\u001b[0;34m\u001b[0m\u001b[0;34m\u001b[0m\u001b[0m\n\u001b[1;32m      4\u001b[0m \u001b[0mnon_informativ_annotiert\u001b[0m \u001b[0;34m=\u001b[0m \u001b[0mnon_informativ_annotiert\u001b[0m\u001b[0;34m.\u001b[0m\u001b[0mreplace\u001b[0m\u001b[0;34m(\u001b[0m\u001b[0;34m[\u001b[0m\u001b[0mnp\u001b[0m\u001b[0;34m.\u001b[0m\u001b[0minf\u001b[0m\u001b[0;34m,\u001b[0m \u001b[0;34m-\u001b[0m\u001b[0mnp\u001b[0m\u001b[0;34m.\u001b[0m\u001b[0minf\u001b[0m\u001b[0;34m]\u001b[0m\u001b[0;34m,\u001b[0m \u001b[0mnp\u001b[0m\u001b[0;34m.\u001b[0m\u001b[0mnan\u001b[0m\u001b[0;34m)\u001b[0m\u001b[0;34m\u001b[0m\u001b[0;34m\u001b[0m\u001b[0m\n\u001b[0;32m----> 5\u001b[0;31m \u001b[0minformativ_rf\u001b[0m \u001b[0;34m=\u001b[0m \u001b[0mtest_set\u001b[0m\u001b[0;34m[\u001b[0m\u001b[0my_pred_rf\u001b[0m\u001b[0;34m]\u001b[0m\u001b[0;34m\u001b[0m\u001b[0;34m\u001b[0m\u001b[0m\n\u001b[0m\u001b[1;32m      6\u001b[0m \u001b[0minformativ_rf\u001b[0m \u001b[0;34m=\u001b[0m \u001b[0minformativ_rf\u001b[0m\u001b[0;34m.\u001b[0m\u001b[0mreplace\u001b[0m\u001b[0;34m(\u001b[0m\u001b[0;34m[\u001b[0m\u001b[0mnp\u001b[0m\u001b[0;34m.\u001b[0m\u001b[0minf\u001b[0m\u001b[0;34m,\u001b[0m \u001b[0;34m-\u001b[0m\u001b[0mnp\u001b[0m\u001b[0;34m.\u001b[0m\u001b[0minf\u001b[0m\u001b[0;34m]\u001b[0m\u001b[0;34m,\u001b[0m \u001b[0mnp\u001b[0m\u001b[0;34m.\u001b[0m\u001b[0mnan\u001b[0m\u001b[0;34m)\u001b[0m\u001b[0;34m\u001b[0m\u001b[0;34m\u001b[0m\u001b[0m\n\u001b[1;32m      7\u001b[0m \u001b[0mnon_informative_rf\u001b[0m \u001b[0;34m=\u001b[0m \u001b[0mtest_set\u001b[0m\u001b[0;34m[\u001b[0m\u001b[0my_pred_rf\u001b[0m \u001b[0;34m==\u001b[0m \u001b[0;32mFalse\u001b[0m\u001b[0;34m]\u001b[0m\u001b[0;34m\u001b[0m\u001b[0;34m\u001b[0m\u001b[0m\n",
      "\u001b[0;32m~/.virtualenvs/venv/Bachelorarbeit/lib/python3.7/site-packages/pandas/core/series.py\u001b[0m in \u001b[0;36m__getitem__\u001b[0;34m(self, key)\u001b[0m\n\u001b[1;32m    906\u001b[0m \u001b[0;34m\u001b[0m\u001b[0m\n\u001b[1;32m    907\u001b[0m         \u001b[0;32mif\u001b[0m \u001b[0mcom\u001b[0m\u001b[0;34m.\u001b[0m\u001b[0mis_bool_indexer\u001b[0m\u001b[0;34m(\u001b[0m\u001b[0mkey\u001b[0m\u001b[0;34m)\u001b[0m\u001b[0;34m:\u001b[0m\u001b[0;34m\u001b[0m\u001b[0;34m\u001b[0m\u001b[0m\n\u001b[0;32m--> 908\u001b[0;31m             \u001b[0mkey\u001b[0m \u001b[0;34m=\u001b[0m \u001b[0mcheck_bool_indexer\u001b[0m\u001b[0;34m(\u001b[0m\u001b[0mself\u001b[0m\u001b[0;34m.\u001b[0m\u001b[0mindex\u001b[0m\u001b[0;34m,\u001b[0m \u001b[0mkey\u001b[0m\u001b[0;34m)\u001b[0m\u001b[0;34m\u001b[0m\u001b[0;34m\u001b[0m\u001b[0m\n\u001b[0m\u001b[1;32m    909\u001b[0m \u001b[0;34m\u001b[0m\u001b[0m\n\u001b[1;32m    910\u001b[0m         \u001b[0;32mreturn\u001b[0m \u001b[0mself\u001b[0m\u001b[0;34m.\u001b[0m\u001b[0m_get_with\u001b[0m\u001b[0;34m(\u001b[0m\u001b[0mkey\u001b[0m\u001b[0;34m)\u001b[0m\u001b[0;34m\u001b[0m\u001b[0;34m\u001b[0m\u001b[0m\n",
      "\u001b[0;32m~/.virtualenvs/venv/Bachelorarbeit/lib/python3.7/site-packages/pandas/core/indexing.py\u001b[0m in \u001b[0;36mcheck_bool_indexer\u001b[0;34m(index, key)\u001b[0m\n\u001b[1;32m   2323\u001b[0m         \u001b[0;31m# key might be sparse / object-dtype bool, check_array_indexer needs bool array\u001b[0m\u001b[0;34m\u001b[0m\u001b[0;34m\u001b[0m\u001b[0;34m\u001b[0m\u001b[0m\n\u001b[1;32m   2324\u001b[0m         \u001b[0mresult\u001b[0m \u001b[0;34m=\u001b[0m \u001b[0mnp\u001b[0m\u001b[0;34m.\u001b[0m\u001b[0masarray\u001b[0m\u001b[0;34m(\u001b[0m\u001b[0mresult\u001b[0m\u001b[0;34m,\u001b[0m \u001b[0mdtype\u001b[0m\u001b[0;34m=\u001b[0m\u001b[0mbool\u001b[0m\u001b[0;34m)\u001b[0m\u001b[0;34m\u001b[0m\u001b[0;34m\u001b[0m\u001b[0m\n\u001b[0;32m-> 2325\u001b[0;31m         \u001b[0mresult\u001b[0m \u001b[0;34m=\u001b[0m \u001b[0mcheck_array_indexer\u001b[0m\u001b[0;34m(\u001b[0m\u001b[0mindex\u001b[0m\u001b[0;34m,\u001b[0m \u001b[0mresult\u001b[0m\u001b[0;34m)\u001b[0m\u001b[0;34m\u001b[0m\u001b[0;34m\u001b[0m\u001b[0m\n\u001b[0m\u001b[1;32m   2326\u001b[0m \u001b[0;34m\u001b[0m\u001b[0m\n\u001b[1;32m   2327\u001b[0m     \u001b[0;32mreturn\u001b[0m \u001b[0mresult\u001b[0m\u001b[0;34m\u001b[0m\u001b[0;34m\u001b[0m\u001b[0m\n",
      "\u001b[0;32m~/.virtualenvs/venv/Bachelorarbeit/lib/python3.7/site-packages/pandas/core/indexers.py\u001b[0m in \u001b[0;36mcheck_array_indexer\u001b[0;34m(array, indexer)\u001b[0m\n\u001b[1;32m    401\u001b[0m         \u001b[0;32mif\u001b[0m \u001b[0mlen\u001b[0m\u001b[0;34m(\u001b[0m\u001b[0mindexer\u001b[0m\u001b[0;34m)\u001b[0m \u001b[0;34m!=\u001b[0m \u001b[0mlen\u001b[0m\u001b[0;34m(\u001b[0m\u001b[0marray\u001b[0m\u001b[0;34m)\u001b[0m\u001b[0;34m:\u001b[0m\u001b[0;34m\u001b[0m\u001b[0;34m\u001b[0m\u001b[0m\n\u001b[1;32m    402\u001b[0m             raise IndexError(\n\u001b[0;32m--> 403\u001b[0;31m                 \u001b[0;34mf\"Boolean index has wrong length: \"\u001b[0m\u001b[0;34m\u001b[0m\u001b[0;34m\u001b[0m\u001b[0m\n\u001b[0m\u001b[1;32m    404\u001b[0m                 \u001b[0;34mf\"{len(indexer)} instead of {len(array)}\"\u001b[0m\u001b[0;34m\u001b[0m\u001b[0;34m\u001b[0m\u001b[0m\n\u001b[1;32m    405\u001b[0m             )\n",
      "\u001b[0;31mIndexError\u001b[0m: Boolean index has wrong length: 56858 instead of 57426"
     ]
    }
   ],
   "source": [
    "test_set = y.loc[y_true.index]\n",
    "informativ_annotiert = x_test[y_test]\n",
    "non_informativ_annotiert = x_test[y_test == False]\n",
    "non_informativ_annotiert = non_informativ_annotiert.replace([np.inf, -np.inf], np.nan)\n",
    "informativ_rf = x_test[y_pred_rf]\n",
    "informativ_rf = informativ_rf.replace([np.inf, -np.inf], np.nan)\n",
    "non_informative_rf = test_set[y_pred_rf == False]\n",
    "non_informative_rf = non_informative_rf.replace([np.inf, -np.inf], np.nan)\n",
    "\n",
    "print(\"Relativer Fehler der Herzrate bei als informativ annotierten Segmenten %.2f %s\" % (informativ_annotiert['rel_error'].mean(), \"%\"))\n",
    "print(\"Absoluter Fehler der Herzrate bei als informativ annotierten Segmenten %.2f %s\" % (informativ_annotiert['abs_error'].mean(), \" bpm\") )\n",
    "print(\"Anzahl Segmente mit NaN Fehler bei als informativ vorausgesagten Segmenten %i\" % (informativ_annotiert['abs_error'].isna().sum()))\n",
    "print(\"Relativer Fehler der Herzrate bei als nicht informativ annotierten Segmenten %.2f %s\" % (non_informativ_annotiert['rel_error'].mean(), \"%\"))\n",
    "print(\"Absoluter Fehler der Herzrate bei als nicht informativ annotierten Segmenten %.2f %s\" % (non_informativ_annotiert['abs_error'].mean(), \" bpm\") )\n",
    "print(\"Anzahl Segmente mit NaN Fehler bei als nicht informativ annotierten Segmenten %i\" % (non_informativ_annotiert['abs_error'].isna().sum()))\n",
    "\n",
    "print(\"\\n\")\n",
    "\n",
    "print(\"Relativer Fehler der Herzrate bei als informativ vorausgesagten Segmenten %.2f %s\" % (informativ_rf['rel_error'].mean(), \"%\"))\n",
    "print(\"Absoluter Fehler der Herzrate bei als informativ vorausgesagten Segmenten %.2f %s\" % (informativ_rf['abs_error'].mean(), \" bpm\") )\n",
    "print(\"Anzahl Segmente mit NaN Fehler bei als informativ vorausgesagten Segmenten %i\" % (informativ_rf['abs_error'].isna().sum()))\n",
    "print(\"Relativer Fehler der Herzrate bei als nicht informativ vorausgesagten Segmenten %.2f %s\" % (non_informative_rf['rel_error'].mean(), \"%\"))\n",
    "print(\"Absoluter Fehler der Herzrate bei als nicht informativ vorausgesagten Segmenten %.2f %s\" % (non_informative_rf['abs_error'].mean(), \" bpm\") )\n",
    "print(\"Anzahl Segmente mit NaN Fehler bei als nicht informativ vorausgesagten Segmenten %i\" % (non_informative_rf['abs_error'].isna().sum()))"
   ]
  }
 ],
 "metadata": {
  "kernelspec": {
   "display_name": "Python 3",
   "language": "python",
   "name": "python3"
  },
  "language_info": {
   "codemirror_mode": {
    "name": "ipython",
    "version": 3
   },
   "file_extension": ".py",
   "mimetype": "text/x-python",
   "name": "python",
   "nbconvert_exporter": "python",
   "pygments_lexer": "ipython3",
   "version": "3.7.2"
  }
 },
 "nbformat": 4,
 "nbformat_minor": 4
}
