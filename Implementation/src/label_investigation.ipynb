{
 "cells": [
  {
   "cell_type": "code",
   "execution_count": 1,
   "metadata": {},
   "outputs": [],
   "source": [
    "import numpy as np\n",
    "import pandas as pd\n",
    "import matplotlib.pyplot as plt\n",
    "\n",
    "\n",
    "from src.ml_statistical_features import load_data_as_dataframe"
   ]
  },
  {
   "cell_type": "code",
   "execution_count": 2,
   "metadata": {},
   "outputs": [],
   "source": [
    "def print_informative_stats(data):\n",
    "    print(\"Informativ nach informative_ce: \", str(len(data[data['informative_ce']])))\n",
    "    print(\"Nicht informativ nach informative_ce: \", str(len(data) - len(data[data['informative_ce']])))\n",
    "\n",
    "    print(\"Informativ nach informative_hr: \", str(len(data[data['informative_hr']])))\n",
    "    print(\"Nicht informativ nach informative_hr: \", str(len(data) - len(data[data['informative_hr']])))\n",
    "\n",
    "    both_informative = [hr and ce for hr, ce in zip(data['informative_hr'], data['informative_ce'])]\n",
    "    print(\"Informativ nach beiden: \", str(len(data[both_informative])))\n",
    "\n",
    "    only_hr_informative = [hr and not ce for hr, ce in zip(data['informative_hr'], data['informative_ce'])]\n",
    "    print(\"Informativ nur nach informative_hr: \", str(len(data[only_hr_informative])))"
   ]
  },
  {
   "cell_type": "code",
   "execution_count": 3,
   "metadata": {},
   "outputs": [],
   "source": [
    "def print_hr_stats(data):\n",
    "    print(\"Durchschnittliche Herzrate nach BKG: \", data['bcg_hr'].median())\n",
    "    \n",
    "    inf_data = data[data['informative_hr']]\n",
    "    print(\"Durchschnittliche Herzrate nach BKG bei informativen Segmenten: \", inf_data['bcg_hr'].median())\n",
    "    print(\"Durchschnittliche Herzrate nach EKG bei informativen Segmenten: \", inf_data['ecg_hr'].median())\n",
    "\n",
    "    print(\"Durchschnittliche Herzrate nach EKG: \", data['ecg_hr'].median())"
   ]
  },
  {
   "cell_type": "code",
   "execution_count": 4,
   "metadata": {},
   "outputs": [],
   "source": [
    "data = load_data_as_dataframe(segment_length=10, overlap_amount=0, hr_threshold=10)"
   ]
  },
  {
   "cell_type": "code",
   "execution_count": 5,
   "metadata": {},
   "outputs": [
    {
     "data": {
      "text/html": [
       "<div>\n",
       "<style scoped>\n",
       "    .dataframe tbody tr th:only-of-type {\n",
       "        vertical-align: middle;\n",
       "    }\n",
       "\n",
       "    .dataframe tbody tr th {\n",
       "        vertical-align: top;\n",
       "    }\n",
       "\n",
       "    .dataframe thead th {\n",
       "        text-align: right;\n",
       "    }\n",
       "</style>\n",
       "<table border=\"1\" class=\"dataframe\">\n",
       "  <thead>\n",
       "    <tr style=\"text-align: right;\">\n",
       "      <th></th>\n",
       "      <th>minimum</th>\n",
       "      <th>maximum</th>\n",
       "      <th>mean</th>\n",
       "      <th>standard deviation</th>\n",
       "      <th>range</th>\n",
       "      <th>iqr</th>\n",
       "      <th>mad</th>\n",
       "      <th>number zero crossings</th>\n",
       "      <th>kurtosis</th>\n",
       "      <th>skewness</th>\n",
       "      <th>variance local maxima</th>\n",
       "      <th>variance local minima</th>\n",
       "      <th>mean signal envelope</th>\n",
       "      <th>informative_ce</th>\n",
       "      <th>informative_hr</th>\n",
       "      <th>ecg_hr</th>\n",
       "      <th>bcg_hr</th>\n",
       "      <th>mean error</th>\n",
       "      <th>coverage</th>\n",
       "      <th>patient_id</th>\n",
       "    </tr>\n",
       "  </thead>\n",
       "  <tbody>\n",
       "    <tr>\n",
       "      <th>0</th>\n",
       "      <td>-57.283855</td>\n",
       "      <td>54.798199</td>\n",
       "      <td>-0.002691</td>\n",
       "      <td>17.838348</td>\n",
       "      <td>112.082054</td>\n",
       "      <td>22.141158</td>\n",
       "      <td>16.073205</td>\n",
       "      <td>132</td>\n",
       "      <td>0.258494</td>\n",
       "      <td>-0.320806</td>\n",
       "      <td>138.934982</td>\n",
       "      <td>273.457215</td>\n",
       "      <td>17.695377</td>\n",
       "      <td>True</td>\n",
       "      <td>False</td>\n",
       "      <td>48.0</td>\n",
       "      <td>61.908856</td>\n",
       "      <td>0.012293</td>\n",
       "      <td>103.0</td>\n",
       "      <td>27</td>\n",
       "    </tr>\n",
       "    <tr>\n",
       "      <th>1</th>\n",
       "      <td>-441.300589</td>\n",
       "      <td>418.670653</td>\n",
       "      <td>-0.012013</td>\n",
       "      <td>109.566497</td>\n",
       "      <td>859.971242</td>\n",
       "      <td>51.047688</td>\n",
       "      <td>37.726909</td>\n",
       "      <td>129</td>\n",
       "      <td>3.233755</td>\n",
       "      <td>0.000127</td>\n",
       "      <td>11867.050857</td>\n",
       "      <td>12542.079298</td>\n",
       "      <td>103.344882</td>\n",
       "      <td>False</td>\n",
       "      <td>False</td>\n",
       "      <td>60.0</td>\n",
       "      <td>71.760797</td>\n",
       "      <td>0.011074</td>\n",
       "      <td>30.3</td>\n",
       "      <td>27</td>\n",
       "    </tr>\n",
       "    <tr>\n",
       "      <th>2</th>\n",
       "      <td>-65.537668</td>\n",
       "      <td>43.288128</td>\n",
       "      <td>-0.038144</td>\n",
       "      <td>18.967748</td>\n",
       "      <td>108.825796</td>\n",
       "      <td>23.489284</td>\n",
       "      <td>17.313389</td>\n",
       "      <td>132</td>\n",
       "      <td>0.294830</td>\n",
       "      <td>-0.569472</td>\n",
       "      <td>110.976304</td>\n",
       "      <td>357.828455</td>\n",
       "      <td>18.837632</td>\n",
       "      <td>True</td>\n",
       "      <td>False</td>\n",
       "      <td>54.0</td>\n",
       "      <td>65.870197</td>\n",
       "      <td>0.007268</td>\n",
       "      <td>99.6</td>\n",
       "      <td>27</td>\n",
       "    </tr>\n",
       "    <tr>\n",
       "      <th>3</th>\n",
       "      <td>-69.041959</td>\n",
       "      <td>43.523798</td>\n",
       "      <td>-0.006634</td>\n",
       "      <td>19.315408</td>\n",
       "      <td>112.565757</td>\n",
       "      <td>24.964586</td>\n",
       "      <td>18.387381</td>\n",
       "      <td>134</td>\n",
       "      <td>0.298317</td>\n",
       "      <td>-0.472247</td>\n",
       "      <td>149.233774</td>\n",
       "      <td>372.308987</td>\n",
       "      <td>19.164627</td>\n",
       "      <td>True</td>\n",
       "      <td>True</td>\n",
       "      <td>54.0</td>\n",
       "      <td>55.598456</td>\n",
       "      <td>0.010061</td>\n",
       "      <td>102.5</td>\n",
       "      <td>27</td>\n",
       "    </tr>\n",
       "    <tr>\n",
       "      <th>4</th>\n",
       "      <td>-66.113475</td>\n",
       "      <td>47.172144</td>\n",
       "      <td>0.005047</td>\n",
       "      <td>17.933684</td>\n",
       "      <td>113.285619</td>\n",
       "      <td>21.247083</td>\n",
       "      <td>15.763501</td>\n",
       "      <td>132</td>\n",
       "      <td>0.436666</td>\n",
       "      <td>-0.401264</td>\n",
       "      <td>152.470545</td>\n",
       "      <td>292.774768</td>\n",
       "      <td>17.802031</td>\n",
       "      <td>True</td>\n",
       "      <td>True</td>\n",
       "      <td>54.0</td>\n",
       "      <td>58.355438</td>\n",
       "      <td>0.012115</td>\n",
       "      <td>102.4</td>\n",
       "      <td>27</td>\n",
       "    </tr>\n",
       "  </tbody>\n",
       "</table>\n",
       "</div>"
      ],
      "text/plain": [
       "      minimum     maximum      mean  standard deviation       range  \\\n",
       "0  -57.283855   54.798199 -0.002691           17.838348  112.082054   \n",
       "1 -441.300589  418.670653 -0.012013          109.566497  859.971242   \n",
       "2  -65.537668   43.288128 -0.038144           18.967748  108.825796   \n",
       "3  -69.041959   43.523798 -0.006634           19.315408  112.565757   \n",
       "4  -66.113475   47.172144  0.005047           17.933684  113.285619   \n",
       "\n",
       "         iqr        mad  number zero crossings  kurtosis  skewness  \\\n",
       "0  22.141158  16.073205                    132  0.258494 -0.320806   \n",
       "1  51.047688  37.726909                    129  3.233755  0.000127   \n",
       "2  23.489284  17.313389                    132  0.294830 -0.569472   \n",
       "3  24.964586  18.387381                    134  0.298317 -0.472247   \n",
       "4  21.247083  15.763501                    132  0.436666 -0.401264   \n",
       "\n",
       "   variance local maxima  variance local minima  mean signal envelope  \\\n",
       "0             138.934982             273.457215             17.695377   \n",
       "1           11867.050857           12542.079298            103.344882   \n",
       "2             110.976304             357.828455             18.837632   \n",
       "3             149.233774             372.308987             19.164627   \n",
       "4             152.470545             292.774768             17.802031   \n",
       "\n",
       "   informative_ce  informative_hr  ecg_hr     bcg_hr  mean error  coverage  \\\n",
       "0            True           False    48.0  61.908856    0.012293     103.0   \n",
       "1           False           False    60.0  71.760797    0.011074      30.3   \n",
       "2            True           False    54.0  65.870197    0.007268      99.6   \n",
       "3            True            True    54.0  55.598456    0.010061     102.5   \n",
       "4            True            True    54.0  58.355438    0.012115     102.4   \n",
       "\n",
       "   patient_id  \n",
       "0          27  \n",
       "1          27  \n",
       "2          27  \n",
       "3          27  \n",
       "4          27  "
      ]
     },
     "execution_count": 5,
     "metadata": {},
     "output_type": "execute_result"
    }
   ],
   "source": [
    "data.head()"
   ]
  },
  {
   "cell_type": "code",
   "execution_count": 6,
   "metadata": {},
   "outputs": [
    {
     "name": "stdout",
     "output_type": "stream",
     "text": [
      "Informativ nach informative_ce:  18670\n",
      "Nicht informativ nach informative_ce:  69740\n",
      "Informativ nach informative_hr:  16692\n",
      "Nicht informativ nach informative_hr:  71718\n",
      "Informativ nach beiden:  5405\n",
      "Informativ nur nach informative_hr:  11287\n"
     ]
    }
   ],
   "source": [
    "print_informative_stats(data)"
   ]
  },
  {
   "cell_type": "code",
   "execution_count": 7,
   "metadata": {},
   "outputs": [
    {
     "name": "stdout",
     "output_type": "stream",
     "text": [
      "Durchschnittliche Herzrate nach BKG:  67.76821039564663\n",
      "Durchschnittliche Herzrate nach BKG bei informativen Segmenten:  67.16417910447761\n",
      "Durchschnittliche Herzrate nach EKG bei informativen Segmenten:  66.0\n",
      "Durchschnittliche Herzrate nach EKG:  54.0\n"
     ]
    }
   ],
   "source": [
    "print_hr_stats(data)"
   ]
  },
  {
   "cell_type": "code",
   "execution_count": 8,
   "metadata": {},
   "outputs": [
    {
     "data": {
      "text/plain": [
       "array([<matplotlib.axes._subplots.AxesSubplot object at 0x7fdea1334be0>,\n",
       "       <matplotlib.axes._subplots.AxesSubplot object at 0x7fdea5dc32b0>],\n",
       "      dtype=object)"
      ]
     },
     "execution_count": 8,
     "metadata": {},
     "output_type": "execute_result"
    },
    {
     "data": {
      "image/png": "[encoded data removed]",
      "text/plain": [
       "<Figure size 432x288 with 2 Axes>"
      ]
     },
     "metadata": {
      "needs_background": "light"
     },
     "output_type": "display_data"
    }
   ],
   "source": [
    "data.boxplot(column=['bcg_hr', 'ecg_hr'],by='informative_hr')"
   ]
  },
  {
   "cell_type": "code",
   "execution_count": 9,
   "metadata": {},
   "outputs": [],
   "source": [
    "data2 = load_data_as_dataframe(segment_length=10, overlap_amount=0, hr_threshold=15)"
   ]
  },
  {
   "cell_type": "code",
   "execution_count": 10,
   "metadata": {},
   "outputs": [
    {
     "data": {
      "text/html": [
       "<div>\n",
       "<style scoped>\n",
       "    .dataframe tbody tr th:only-of-type {\n",
       "        vertical-align: middle;\n",
       "    }\n",
       "\n",
       "    .dataframe tbody tr th {\n",
       "        vertical-align: top;\n",
       "    }\n",
       "\n",
       "    .dataframe thead th {\n",
       "        text-align: right;\n",
       "    }\n",
       "</style>\n",
       "<table border=\"1\" class=\"dataframe\">\n",
       "  <thead>\n",
       "    <tr style=\"text-align: right;\">\n",
       "      <th></th>\n",
       "      <th>minimum</th>\n",
       "      <th>maximum</th>\n",
       "      <th>mean</th>\n",
       "      <th>standard deviation</th>\n",
       "      <th>range</th>\n",
       "      <th>iqr</th>\n",
       "      <th>mad</th>\n",
       "      <th>number zero crossings</th>\n",
       "      <th>kurtosis</th>\n",
       "      <th>skewness</th>\n",
       "      <th>variance local maxima</th>\n",
       "      <th>variance local minima</th>\n",
       "      <th>mean signal envelope</th>\n",
       "      <th>informative_ce</th>\n",
       "      <th>informative_hr</th>\n",
       "      <th>ecg_hr</th>\n",
       "      <th>bcg_hr</th>\n",
       "      <th>mean error</th>\n",
       "      <th>coverage</th>\n",
       "      <th>patient_id</th>\n",
       "    </tr>\n",
       "  </thead>\n",
       "  <tbody>\n",
       "    <tr>\n",
       "      <th>0</th>\n",
       "      <td>-57.283855</td>\n",
       "      <td>54.798199</td>\n",
       "      <td>-0.002691</td>\n",
       "      <td>17.838348</td>\n",
       "      <td>112.082054</td>\n",
       "      <td>22.141158</td>\n",
       "      <td>16.073205</td>\n",
       "      <td>132</td>\n",
       "      <td>0.258494</td>\n",
       "      <td>-0.320806</td>\n",
       "      <td>138.934982</td>\n",
       "      <td>273.457215</td>\n",
       "      <td>17.695377</td>\n",
       "      <td>True</td>\n",
       "      <td>False</td>\n",
       "      <td>48.0</td>\n",
       "      <td>61.908856</td>\n",
       "      <td>0.012293</td>\n",
       "      <td>103.0</td>\n",
       "      <td>27</td>\n",
       "    </tr>\n",
       "    <tr>\n",
       "      <th>1</th>\n",
       "      <td>-441.300589</td>\n",
       "      <td>418.670653</td>\n",
       "      <td>-0.012013</td>\n",
       "      <td>109.566497</td>\n",
       "      <td>859.971242</td>\n",
       "      <td>51.047688</td>\n",
       "      <td>37.726909</td>\n",
       "      <td>129</td>\n",
       "      <td>3.233755</td>\n",
       "      <td>0.000127</td>\n",
       "      <td>11867.050857</td>\n",
       "      <td>12542.079298</td>\n",
       "      <td>103.344882</td>\n",
       "      <td>False</td>\n",
       "      <td>False</td>\n",
       "      <td>60.0</td>\n",
       "      <td>71.760797</td>\n",
       "      <td>0.011074</td>\n",
       "      <td>30.3</td>\n",
       "      <td>27</td>\n",
       "    </tr>\n",
       "    <tr>\n",
       "      <th>2</th>\n",
       "      <td>-65.537668</td>\n",
       "      <td>43.288128</td>\n",
       "      <td>-0.038144</td>\n",
       "      <td>18.967748</td>\n",
       "      <td>108.825796</td>\n",
       "      <td>23.489284</td>\n",
       "      <td>17.313389</td>\n",
       "      <td>132</td>\n",
       "      <td>0.294830</td>\n",
       "      <td>-0.569472</td>\n",
       "      <td>110.976304</td>\n",
       "      <td>357.828455</td>\n",
       "      <td>18.837632</td>\n",
       "      <td>True</td>\n",
       "      <td>False</td>\n",
       "      <td>54.0</td>\n",
       "      <td>65.870197</td>\n",
       "      <td>0.007268</td>\n",
       "      <td>99.6</td>\n",
       "      <td>27</td>\n",
       "    </tr>\n",
       "    <tr>\n",
       "      <th>3</th>\n",
       "      <td>-69.041959</td>\n",
       "      <td>43.523798</td>\n",
       "      <td>-0.006634</td>\n",
       "      <td>19.315408</td>\n",
       "      <td>112.565757</td>\n",
       "      <td>24.964586</td>\n",
       "      <td>18.387381</td>\n",
       "      <td>134</td>\n",
       "      <td>0.298317</td>\n",
       "      <td>-0.472247</td>\n",
       "      <td>149.233774</td>\n",
       "      <td>372.308987</td>\n",
       "      <td>19.164627</td>\n",
       "      <td>True</td>\n",
       "      <td>True</td>\n",
       "      <td>54.0</td>\n",
       "      <td>55.598456</td>\n",
       "      <td>0.010061</td>\n",
       "      <td>102.5</td>\n",
       "      <td>27</td>\n",
       "    </tr>\n",
       "    <tr>\n",
       "      <th>4</th>\n",
       "      <td>-66.113475</td>\n",
       "      <td>47.172144</td>\n",
       "      <td>0.005047</td>\n",
       "      <td>17.933684</td>\n",
       "      <td>113.285619</td>\n",
       "      <td>21.247083</td>\n",
       "      <td>15.763501</td>\n",
       "      <td>132</td>\n",
       "      <td>0.436666</td>\n",
       "      <td>-0.401264</td>\n",
       "      <td>152.470545</td>\n",
       "      <td>292.774768</td>\n",
       "      <td>17.802031</td>\n",
       "      <td>True</td>\n",
       "      <td>True</td>\n",
       "      <td>54.0</td>\n",
       "      <td>58.355438</td>\n",
       "      <td>0.012115</td>\n",
       "      <td>102.4</td>\n",
       "      <td>27</td>\n",
       "    </tr>\n",
       "  </tbody>\n",
       "</table>\n",
       "</div>"
      ],
      "text/plain": [
       "      minimum     maximum      mean  standard deviation       range  \\\n",
       "0  -57.283855   54.798199 -0.002691           17.838348  112.082054   \n",
       "1 -441.300589  418.670653 -0.012013          109.566497  859.971242   \n",
       "2  -65.537668   43.288128 -0.038144           18.967748  108.825796   \n",
       "3  -69.041959   43.523798 -0.006634           19.315408  112.565757   \n",
       "4  -66.113475   47.172144  0.005047           17.933684  113.285619   \n",
       "\n",
       "         iqr        mad  number zero crossings  kurtosis  skewness  \\\n",
       "0  22.141158  16.073205                    132  0.258494 -0.320806   \n",
       "1  51.047688  37.726909                    129  3.233755  0.000127   \n",
       "2  23.489284  17.313389                    132  0.294830 -0.569472   \n",
       "3  24.964586  18.387381                    134  0.298317 -0.472247   \n",
       "4  21.247083  15.763501                    132  0.436666 -0.401264   \n",
       "\n",
       "   variance local maxima  variance local minima  mean signal envelope  \\\n",
       "0             138.934982             273.457215             17.695377   \n",
       "1           11867.050857           12542.079298            103.344882   \n",
       "2             110.976304             357.828455             18.837632   \n",
       "3             149.233774             372.308987             19.164627   \n",
       "4             152.470545             292.774768             17.802031   \n",
       "\n",
       "   informative_ce  informative_hr  ecg_hr     bcg_hr  mean error  coverage  \\\n",
       "0            True           False    48.0  61.908856    0.012293     103.0   \n",
       "1           False           False    60.0  71.760797    0.011074      30.3   \n",
       "2            True           False    54.0  65.870197    0.007268      99.6   \n",
       "3            True            True    54.0  55.598456    0.010061     102.5   \n",
       "4            True            True    54.0  58.355438    0.012115     102.4   \n",
       "\n",
       "   patient_id  \n",
       "0          27  \n",
       "1          27  \n",
       "2          27  \n",
       "3          27  \n",
       "4          27  "
      ]
     },
     "execution_count": 10,
     "metadata": {},
     "output_type": "execute_result"
    }
   ],
   "source": [
    "data2.head()"
   ]
  },
  {
   "cell_type": "code",
   "execution_count": 11,
   "metadata": {},
   "outputs": [
    {
     "name": "stdout",
     "output_type": "stream",
     "text": [
      "Informativ nach informative_ce:  18670\n",
      "Nicht informativ nach informative_ce:  69740\n",
      "Informativ nach informative_hr:  22894\n",
      "Nicht informativ nach informative_hr:  65516\n",
      "Informativ nach beiden:  6492\n",
      "Informativ nur nach informative_hr:  16402\n"
     ]
    }
   ],
   "source": [
    "print_informative_stats(data2)"
   ]
  },
  {
   "cell_type": "code",
   "execution_count": 12,
   "metadata": {},
   "outputs": [
    {
     "name": "stdout",
     "output_type": "stream",
     "text": [
      "Durchschnittliche Herzrate nach BKG:  67.76821039564663\n",
      "Durchschnittliche Herzrate nach BKG bei informativen Segmenten:  67.81985352142316\n",
      "Durchschnittliche Herzrate nach EKG bei informativen Segmenten:  66.0\n",
      "Durchschnittliche Herzrate nach EKG:  54.0\n"
     ]
    }
   ],
   "source": [
    "print_hr_stats(data2)"
   ]
  },
  {
   "cell_type": "code",
   "execution_count": 13,
   "metadata": {},
   "outputs": [
    {
     "data": {
      "text/plain": [
       "array([<matplotlib.axes._subplots.AxesSubplot object at 0x7fdea6095d68>,\n",
       "       <matplotlib.axes._subplots.AxesSubplot object at 0x7fdea59a53c8>],\n",
       "      dtype=object)"
      ]
     },
     "execution_count": 13,
     "metadata": {},
     "output_type": "execute_result"
    },
    {
     "data": {
      "image/png": "[encoded data removed]",
      "text/plain": [
       "<Figure size 432x288 with 2 Axes>"
      ]
     },
     "metadata": {
      "needs_background": "light"
     },
     "output_type": "display_data"
    }
   ],
   "source": [
    "data2.boxplot(column=['bcg_hr', 'ecg_hr'],by='informative_hr')"
   ]
  },
  {
   "cell_type": "code",
   "execution_count": 15,
   "metadata": {},
   "outputs": [
    {
     "data": {
      "text/html": [
       "<div>\n",
       "<style scoped>\n",
       "    .dataframe tbody tr th:only-of-type {\n",
       "        vertical-align: middle;\n",
       "    }\n",
       "\n",
       "    .dataframe tbody tr th {\n",
       "        vertical-align: top;\n",
       "    }\n",
       "\n",
       "    .dataframe thead th {\n",
       "        text-align: right;\n",
       "    }\n",
       "</style>\n",
       "<table border=\"1\" class=\"dataframe\">\n",
       "  <thead>\n",
       "    <tr style=\"text-align: right;\">\n",
       "      <th></th>\n",
       "      <th>minimum</th>\n",
       "      <th>maximum</th>\n",
       "      <th>mean</th>\n",
       "      <th>standard deviation</th>\n",
       "      <th>range</th>\n",
       "      <th>iqr</th>\n",
       "      <th>mad</th>\n",
       "      <th>number zero crossings</th>\n",
       "      <th>kurtosis</th>\n",
       "      <th>skewness</th>\n",
       "      <th>variance local maxima</th>\n",
       "      <th>variance local minima</th>\n",
       "      <th>mean signal envelope</th>\n",
       "      <th>informative_ce</th>\n",
       "      <th>informative_hr</th>\n",
       "      <th>ecg_hr</th>\n",
       "      <th>bcg_hr</th>\n",
       "      <th>mean error</th>\n",
       "      <th>coverage</th>\n",
       "      <th>patient_id</th>\n",
       "    </tr>\n",
       "  </thead>\n",
       "  <tbody>\n",
       "    <tr>\n",
       "      <th>0</th>\n",
       "      <td>-57.283855</td>\n",
       "      <td>54.798199</td>\n",
       "      <td>-0.002691</td>\n",
       "      <td>17.838348</td>\n",
       "      <td>112.082054</td>\n",
       "      <td>22.141158</td>\n",
       "      <td>16.073205</td>\n",
       "      <td>132</td>\n",
       "      <td>0.258494</td>\n",
       "      <td>-0.320806</td>\n",
       "      <td>138.934982</td>\n",
       "      <td>273.457215</td>\n",
       "      <td>17.695377</td>\n",
       "      <td>True</td>\n",
       "      <td>False</td>\n",
       "      <td>48.0</td>\n",
       "      <td>61.908856</td>\n",
       "      <td>0.012293</td>\n",
       "      <td>103.0</td>\n",
       "      <td>27</td>\n",
       "    </tr>\n",
       "    <tr>\n",
       "      <th>1</th>\n",
       "      <td>-441.300589</td>\n",
       "      <td>418.670653</td>\n",
       "      <td>-0.012013</td>\n",
       "      <td>109.566497</td>\n",
       "      <td>859.971242</td>\n",
       "      <td>51.047688</td>\n",
       "      <td>37.726909</td>\n",
       "      <td>129</td>\n",
       "      <td>3.233755</td>\n",
       "      <td>0.000127</td>\n",
       "      <td>11867.050857</td>\n",
       "      <td>12542.079298</td>\n",
       "      <td>103.344882</td>\n",
       "      <td>False</td>\n",
       "      <td>False</td>\n",
       "      <td>60.0</td>\n",
       "      <td>71.760797</td>\n",
       "      <td>0.011074</td>\n",
       "      <td>30.3</td>\n",
       "      <td>27</td>\n",
       "    </tr>\n",
       "    <tr>\n",
       "      <th>2</th>\n",
       "      <td>-65.537668</td>\n",
       "      <td>43.288128</td>\n",
       "      <td>-0.038144</td>\n",
       "      <td>18.967748</td>\n",
       "      <td>108.825796</td>\n",
       "      <td>23.489284</td>\n",
       "      <td>17.313389</td>\n",
       "      <td>132</td>\n",
       "      <td>0.294830</td>\n",
       "      <td>-0.569472</td>\n",
       "      <td>110.976304</td>\n",
       "      <td>357.828455</td>\n",
       "      <td>18.837632</td>\n",
       "      <td>True</td>\n",
       "      <td>False</td>\n",
       "      <td>54.0</td>\n",
       "      <td>65.870197</td>\n",
       "      <td>0.007268</td>\n",
       "      <td>99.6</td>\n",
       "      <td>27</td>\n",
       "    </tr>\n",
       "    <tr>\n",
       "      <th>3</th>\n",
       "      <td>-69.041959</td>\n",
       "      <td>43.523798</td>\n",
       "      <td>-0.006634</td>\n",
       "      <td>19.315408</td>\n",
       "      <td>112.565757</td>\n",
       "      <td>24.964586</td>\n",
       "      <td>18.387381</td>\n",
       "      <td>134</td>\n",
       "      <td>0.298317</td>\n",
       "      <td>-0.472247</td>\n",
       "      <td>149.233774</td>\n",
       "      <td>372.308987</td>\n",
       "      <td>19.164627</td>\n",
       "      <td>True</td>\n",
       "      <td>True</td>\n",
       "      <td>54.0</td>\n",
       "      <td>55.598456</td>\n",
       "      <td>0.010061</td>\n",
       "      <td>102.5</td>\n",
       "      <td>27</td>\n",
       "    </tr>\n",
       "    <tr>\n",
       "      <th>4</th>\n",
       "      <td>-66.113475</td>\n",
       "      <td>47.172144</td>\n",
       "      <td>0.005047</td>\n",
       "      <td>17.933684</td>\n",
       "      <td>113.285619</td>\n",
       "      <td>21.247083</td>\n",
       "      <td>15.763501</td>\n",
       "      <td>132</td>\n",
       "      <td>0.436666</td>\n",
       "      <td>-0.401264</td>\n",
       "      <td>152.470545</td>\n",
       "      <td>292.774768</td>\n",
       "      <td>17.802031</td>\n",
       "      <td>True</td>\n",
       "      <td>True</td>\n",
       "      <td>54.0</td>\n",
       "      <td>58.355438</td>\n",
       "      <td>0.012115</td>\n",
       "      <td>102.4</td>\n",
       "      <td>27</td>\n",
       "    </tr>\n",
       "  </tbody>\n",
       "</table>\n",
       "</div>"
      ],
      "text/plain": [
       "      minimum     maximum      mean  standard deviation       range  \\\n",
       "0  -57.283855   54.798199 -0.002691           17.838348  112.082054   \n",
       "1 -441.300589  418.670653 -0.012013          109.566497  859.971242   \n",
       "2  -65.537668   43.288128 -0.038144           18.967748  108.825796   \n",
       "3  -69.041959   43.523798 -0.006634           19.315408  112.565757   \n",
       "4  -66.113475   47.172144  0.005047           17.933684  113.285619   \n",
       "\n",
       "         iqr        mad  number zero crossings  kurtosis  skewness  \\\n",
       "0  22.141158  16.073205                    132  0.258494 -0.320806   \n",
       "1  51.047688  37.726909                    129  3.233755  0.000127   \n",
       "2  23.489284  17.313389                    132  0.294830 -0.569472   \n",
       "3  24.964586  18.387381                    134  0.298317 -0.472247   \n",
       "4  21.247083  15.763501                    132  0.436666 -0.401264   \n",
       "\n",
       "   variance local maxima  variance local minima  mean signal envelope  \\\n",
       "0             138.934982             273.457215             17.695377   \n",
       "1           11867.050857           12542.079298            103.344882   \n",
       "2             110.976304             357.828455             18.837632   \n",
       "3             149.233774             372.308987             19.164627   \n",
       "4             152.470545             292.774768             17.802031   \n",
       "\n",
       "   informative_ce  informative_hr  ecg_hr     bcg_hr  mean error  coverage  \\\n",
       "0            True           False    48.0  61.908856    0.012293     103.0   \n",
       "1           False           False    60.0  71.760797    0.011074      30.3   \n",
       "2            True           False    54.0  65.870197    0.007268      99.6   \n",
       "3            True            True    54.0  55.598456    0.010061     102.5   \n",
       "4            True            True    54.0  58.355438    0.012115     102.4   \n",
       "\n",
       "   patient_id  \n",
       "0          27  \n",
       "1          27  \n",
       "2          27  \n",
       "3          27  \n",
       "4          27  "
      ]
     },
     "execution_count": 15,
     "metadata": {},
     "output_type": "execute_result"
    }
   ],
   "source": [
    "data3 = load_data_as_dataframe(segment_length=10, overlap_amount=0, hr_threshold=20)\n",
    "data.head()"
   ]
  },
  {
   "cell_type": "code",
   "execution_count": 16,
   "metadata": {},
   "outputs": [
    {
     "name": "stdout",
     "output_type": "stream",
     "text": [
      "Informativ nach informative_ce:  18670\n",
      "Nicht informativ nach informative_ce:  69740\n",
      "Informativ nach informative_hr:  28674\n",
      "Nicht informativ nach informative_hr:  59736\n",
      "Informativ nach beiden:  7293\n",
      "Informativ nur nach informative_hr:  21381\n"
     ]
    }
   ],
   "source": [
    "print_informative_stats(data3)"
   ]
  },
  {
   "cell_type": "code",
   "execution_count": 17,
   "metadata": {},
   "outputs": [
    {
     "name": "stdout",
     "output_type": "stream",
     "text": [
      "Durchschnittliche Herzrate nach BKG:  67.76821039564663\n",
      "Durchschnittliche Herzrate nach BKG bei informativen Segmenten:  68.48279398264005\n",
      "Durchschnittliche Herzrate nach EKG bei informativen Segmenten:  69.0\n",
      "Durchschnittliche Herzrate nach EKG:  54.0\n"
     ]
    }
   ],
   "source": [
    "print_hr_stats(data3)"
   ]
  },
  {
   "cell_type": "code",
   "execution_count": 18,
   "metadata": {},
   "outputs": [
    {
     "data": {
      "text/plain": [
       "array([<matplotlib.axes._subplots.AxesSubplot object at 0x7fdea60ed860>,\n",
       "       <matplotlib.axes._subplots.AxesSubplot object at 0x7fdea5c4aeb8>],\n",
       "      dtype=object)"
      ]
     },
     "execution_count": 18,
     "metadata": {},
     "output_type": "execute_result"
    },
    {
     "data": {
      "image/png": "[encoded data removed]",
      "text/plain": [
       "<Figure size 432x288 with 2 Axes>"
      ]
     },
     "metadata": {
      "needs_background": "light"
     },
     "output_type": "display_data"
    }
   ],
   "source": [
    "data3.boxplot(column=['bcg_hr', 'ecg_hr'],by='informative_hr')"
   ]
  }
 ],
 "metadata": {
  "kernelspec": {
   "display_name": "Python 3",
   "language": "python",
   "name": "python3"
  },
  "language_info": {
   "codemirror_mode": {
    "name": "ipython",
    "version": 3
   },
   "file_extension": ".py",
   "mimetype": "text/x-python",
   "name": "python",
   "nbconvert_exporter": "python",
   "pygments_lexer": "ipython3",
   "version": "3.7.2"
  }
 },
 "nbformat": 4,
 "nbformat_minor": 4
}