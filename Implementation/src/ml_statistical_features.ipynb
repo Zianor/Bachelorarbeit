{
 "cells": [
  {
   "cell_type": "code",
   "execution_count": null,
   "metadata": {
    "collapsed": true
   },
   "outputs": [],
   "source": [
    "import pandas as pd\n",
    "import numpy as np\n",
    "import matplotlib.pyplot as plt\n",
    "\n",
    "from utils import get_project_root\n",
    "from data_statistical_features import DataSet\n",
    "\n",
    "import os\n",
    "import warnings"
   ]
  },
  {
   "cell_type": "markdown",
   "source": [
    "Load Data"
   ],
   "metadata": {
    "collapsed": false
   }
  },
  {
   "cell_type": "code",
   "execution_count": null,
   "outputs": [],
   "source": [
    "path = os.path.join(get_project_root(), 'data/data_statistical_features.csv')\n",
    "if not os.path.isfile(path):\n",
    "    warnings.warn('No csv, data needs to be reproduced. This may take some time')\n",
    "    DataSet()\n",
    "df = pd.read_csv(path)\n",
    "\n",
    "features = df.iloc[:, 0:13]\n",
    "target = df.iloc[:, 13]\n",
    "mean_error = df.iloc[:, 14]\n",
    "coverage = df.iloc[:, 15]"
   ],
   "metadata": {
    "collapsed": false,
    "pycharm": {
     "name": "#%%\n"
    }
   }
  }
 ],
 "metadata": {
  "kernelspec": {
   "display_name": "Python 3",
   "language": "python",
   "name": "python3"
  },
  "language_info": {
   "codemirror_mode": {
    "name": "ipython",
    "version": 2
   },
   "file_extension": ".py",
   "mimetype": "text/x-python",
   "name": "python",
   "nbconvert_exporter": "python",
   "pygments_lexer": "ipython2",
   "version": "2.7.6"
  }
 },
 "nbformat": 4,
 "nbformat_minor": 0
}