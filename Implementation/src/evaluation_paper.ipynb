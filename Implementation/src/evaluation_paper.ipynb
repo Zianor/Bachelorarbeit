{
 "cells": [
  {
   "cell_type": "code",
   "execution_count": 3,
   "metadata": {},
   "outputs": [],
   "source": [
    "from ml_statistical_features import load_data, get_data_metrics, support_vector_machine, linear_discriminant_analysis, decision_tree, random_forest, multilayer_perceptron\n",
    "\n",
    "\n",
    "x, y, mean_error, coverage, patient_id = load_data()"
   ]
  },
  {
   "cell_type": "code",
   "execution_count": 5,
   "metadata": {},
   "outputs": [
    {
     "name": "stdout",
     "output_type": "stream",
     "text": [
      "Labels counts in y:[799977 194833]\n",
      "Labels counts in y_train:[533584 129954]\n",
      "Labels counts in y_test:[266393  64879]\n",
      "Mean bbi error on all data: 0.007069169886130328\n",
      "Coverage on all data: 19.323531327590192\n",
      "Mean bbi error on training set: 0.007078451618624733\n",
      "Coverage on training set: 19.323140196944262\n",
      "Mean bbi error on test set: 0.007050578380950256\n",
      "Coverage on test set: 19.32431476249124\n",
      "\n"
     ]
    }
   ],
   "source": [
    "print(get_data_metrics(x, y, mean_error, coverage))"
   ]
  },
  {
   "cell_type": "code",
   "execution_count": null,
   "metadata": {},
   "outputs": [],
   "source": [
    "print(support_vector_machine(x, y))"
   ]
  }
 ],
 "metadata": {
  "kernelspec": {
   "display_name": "Python 3",
   "language": "python",
   "name": "python3"
  },
  "language_info": {
   "codemirror_mode": {
    "name": "ipython",
    "version": 3
   },
   "file_extension": ".py",
   "mimetype": "text/x-python",
   "name": "python",
   "nbconvert_exporter": "python",
   "pygments_lexer": "ipython3",
   "version": "3.7.2"
  }
 },
 "nbformat": 4,
 "nbformat_minor": 4
}
