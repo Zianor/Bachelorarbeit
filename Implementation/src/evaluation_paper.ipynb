{
 "cells": [
  {
   "cell_type": "code",
   "execution_count": 12,
   "metadata": {},
   "outputs": [],
   "source": [
    "import numpy as np\n",
    "import os\n",
    "import json\n",
    "import utils\n",
    "\n",
    "from sklearn.model_selection import train_test_split, KFold, GridSearchCV, cross_val_score\n",
    "from sklearn.metrics import confusion_matrix\n",
    "\n",
    "from ml_statistical_features import load_data, get_all_scores, get_rf_grid_params, get_lda_grid_params, eval_classifier_paper\n",
    "from notebook_md_utils import get_md_data_distribution_string, get_md_mean_accuracy_grid, get_md_test_accuracy_grid, get_md_confusion_matrix_grid\n",
    "\n",
    "from IPython.display import Markdown, display"
   ]
  },
  {
   "cell_type": "code",
   "execution_count": 2,
   "metadata": {},
   "outputs": [
    {
     "data": {
      "text/html": [
       "<style>\n",
       "  table {margin-left: 0 !important;}\n",
       "</style>\n"
      ],
      "text/plain": [
       "<IPython.core.display.HTML object>"
      ]
     },
     "metadata": {},
     "output_type": "display_data"
    }
   ],
   "source": [
    "%%html\n",
    "<style>\n",
    "  table {margin-left: 0 !important;}\n",
    "</style>"
   ]
  },
  {
   "cell_type": "markdown",
   "metadata": {},
   "source": [
    "# Daten laden"
   ]
  },
  {
   "cell_type": "code",
   "execution_count": 3,
   "metadata": {},
   "outputs": [],
   "source": [
    "x, y, mean_error, coverage, patient_id = load_data(segment_length=10, overlap_amount=0)"
   ]
  },
  {
   "cell_type": "markdown",
   "metadata": {},
   "source": [
    "# Splitten der Daten in G1 und G2\n",
    "\n",
    "## Labelverteilung\n",
    "\n",
    "### Im Paper:\n",
    "58% informativ\n",
    "\n",
    "42% nicht-informativ\n"
   ]
  },
  {
   "cell_type": "code",
   "execution_count": 4,
   "metadata": {
    "scrolled": true
   },
   "outputs": [
    {
     "data": {
      "text/markdown": [
       "### Vorliegende Daten"
      ],
      "text/plain": [
       "<IPython.core.display.Markdown object>"
      ]
     },
     "metadata": {},
     "output_type": "display_data"
    },
    {
     "data": {
      "text/markdown": [
       "19 % informativ"
      ],
      "text/plain": [
       "<IPython.core.display.Markdown object>"
      ]
     },
     "metadata": {},
     "output_type": "display_data"
    },
    {
     "data": {
      "text/markdown": [
       "81 % nicht-informativ"
      ],
      "text/plain": [
       "<IPython.core.display.Markdown object>"
      ]
     },
     "metadata": {},
     "output_type": "display_data"
    }
   ],
   "source": [
    "distribution = np.bincount(y)\n",
    "\n",
    "display(Markdown(\"### Vorliegende Daten\"))\n",
    "display(Markdown(\"%i %s informativ\" % (round(100/len(y)*distribution[1]), '%')))\n",
    "display(Markdown(\"%i %s nicht-informativ\" % (round(100/len(y)*distribution[0]), '%')))"
   ]
  },
  {
   "cell_type": "markdown",
   "metadata": {},
   "source": [
    "\n",
    "## Gruppenverteilung\n",
    "Segmente zufällig in 2 Gruppen unterteilt\n",
    "### Im Paper\n",
    "\n",
    "\n",
    "|   | informativ | nicht-informativ | gesamt    |   \n",
    "|:--|:--------- :|:----------------:|:---------:|\n",
    "| G1 |1296 (62%)  | 789 (38%)        | 2085 (57%)|\n",
    "| G2 |813 (53%)   | 733 (47%)        | 1546 (43%)|"
   ]
  },
  {
   "cell_type": "code",
   "execution_count": 5,
   "metadata": {},
   "outputs": [
    {
     "data": {
      "text/markdown": [
       "### Vorliegende Daten"
      ],
      "text/plain": [
       "<IPython.core.display.Markdown object>"
      ]
     },
     "metadata": {},
     "output_type": "display_data"
    },
    {
     "data": {
      "text/markdown": [
       "|   | informativ | nicht-informativ | gesamt    |\n",
       "|:--|:--------- :|:----------------:|:---------:|\n",
       "|G1 | 9514 (19%)  | 40879 (81%)| 50393 (57%)|\n",
       "|G2 | 7178 (19%)  | 30839 (81%)| 38017 (43%)|\n"
      ],
      "text/plain": [
       "<IPython.core.display.Markdown object>"
      ]
     },
     "metadata": {},
     "output_type": "display_data"
    }
   ],
   "source": [
    "x_g1, x_g2, y_g1, y_g2 = train_test_split(x, y, test_size=0.43, random_state=1, stratify=y)\n",
    "\n",
    "display(Markdown(\"### Vorliegende Daten\"))\n",
    "display(Markdown(get_md_data_distribution_string(y_g1, y_g2)))"
   ]
  },
  {
   "cell_type": "markdown",
   "metadata": {},
   "source": [
    "## TODO: Coverage + Mean Error"
   ]
  },
  {
   "cell_type": "markdown",
   "metadata": {},
   "source": [
    "## 10-Fold cross validation mean accuracy for G1 and G2\n",
    "\n",
    "### Im Paper\n",
    "\n",
    "(RF: ntrees=50, SVM: rbf kernel, NN: 50 hidden neuron)\n",
    "\n",
    "|    | RF    | SVM   | NN    | LDA   | DT    |\n",
    "|:---|:-----:|:-----:|:-----:|:-----:|:-----:|\n",
    "| G1 | 98.13 | 93.38 | 91.61 | 89.26 | 97.51 |\n",
    "| G2 | 92.30 | 90.49 | 85.89 | 79.37 | 89.39 |"
   ]
  },
  {
   "cell_type": "code",
   "execution_count": 6,
   "metadata": {},
   "outputs": [
    {
     "data": {
      "text/markdown": [
       "### Vorliegende Daten"
      ],
      "text/plain": [
       "<IPython.core.display.Markdown object>"
      ]
     },
     "metadata": {},
     "output_type": "display_data"
    },
    {
     "data": {
      "text/markdown": [
       "| | RF| SVM| MLP| LDA| DT| \n",
       "|:--|:--:|:--:|:--:|:--:|:--:|\n",
       " | G1 |  83.84  |  81.38  |  81.56  |  81.12  |  75.86  | \n",
       " | G2 |  83.76  |  81.32  |  81.47  |  81.12  |  75.51  | "
      ],
      "text/plain": [
       "<IPython.core.display.Markdown object>"
      ]
     },
     "metadata": {},
     "output_type": "display_data"
    }
   ],
   "source": [
    "scores = get_all_scores(reconstruct=False)\n",
    "\n",
    "\n",
    "display(Markdown(\"### Vorliegende Daten\"))\n",
    "display(Markdown(get_md_mean_accuracy_grid(scores)))"
   ]
  },
  {
   "cell_type": "markdown",
   "metadata": {},
   "source": [
    "## Accuracy results for testing G2 vs. G1 (Exp1) and testing G1 vs. G2 (Exp2)\n",
    "\n",
    "### Im Paper\n",
    "\n",
    "|      | RF    | SVM   | NN    | LDA   | DT    |\n",
    "|:-----|:-----:|:-----:|:-----:|:-----:|:-----:|\n",
    "| Exp1 | 100   | 94.44 | 92.28 | 89.40 | 97.51 |\n",
    "| Exp2 | 97.99 | 97.46 | 87.10 | 90.26 | 97.41 |\n",
    "| Mean | 98.995| 95.95 | 89.69 | 89.83 | 98.41 |"
   ]
  },
  {
   "cell_type": "code",
   "execution_count": 7,
   "metadata": {},
   "outputs": [
    {
     "data": {
      "text/markdown": [
       "### Vorliegende Daten"
      ],
      "text/plain": [
       "<IPython.core.display.Markdown object>"
      ]
     },
     "metadata": {},
     "output_type": "display_data"
    },
    {
     "data": {
      "text/markdown": [
       "| | RF| SVM| MLP| LDA| DT| \n",
       "|:--|:--:|:--:|:--:|:--:|:--:|\n",
       " | Exp1 |  83.80  |  81.32  |  81.55  |  81.12  |  75.86  | \n",
       " | Exp2 |  83.66  |  81.38  |  81.58  |  81.12  |  75.74  | \n",
       " | Mean |  83.73 |  81.35 |  81.56 |  81.12 |  75.80 | "
      ],
      "text/plain": [
       "<IPython.core.display.Markdown object>"
      ]
     },
     "metadata": {},
     "output_type": "display_data"
    }
   ],
   "source": [
    "display(Markdown(\"### Vorliegende Daten\"))\n",
    "display(Markdown(get_md_test_accuracy_grid(scores)))"
   ]
  },
  {
   "cell_type": "markdown",
   "metadata": {},
   "source": [
    "## Confusion matrix of random forest for Exp2\n",
    "\n",
    "### Im Paper\n",
    "\n",
    "|             |                  | Actual        |                  |\n",
    "|:------------|:----------------:|:-------------:|:----------------:|\n",
    "|             |                  | informativ    | nicht-informativ |\n",
    "|             |                  |               |                  |\n",
    "|**Predicted**| informativ       | 1270          | 26               |\n",
    "|             | nicht-informativ | 18            | 771              |"
   ]
  },
  {
   "cell_type": "code",
   "execution_count": 9,
   "metadata": {},
   "outputs": [
    {
     "data": {
      "text/markdown": [
       "### Vorliegende Daten"
      ],
      "text/plain": [
       "<IPython.core.display.Markdown object>"
      ]
     },
     "metadata": {},
     "output_type": "display_data"
    },
    {
     "data": {
      "text/markdown": [
       "||| Actual ||\n",
       "|:--|:--:|:--:|:--:|\n",
       "||| informativ | nicht-informativ |\n",
       "|||||\n",
       "|**Predicted**| informativ | 2049 | 767 |\n",
       "|| nicht-informativ | 7465 | 40112 |"
      ],
      "text/plain": [
       "<IPython.core.display.Markdown object>"
      ]
     },
     "metadata": {},
     "output_type": "display_data"
    }
   ],
   "source": [
    "rf, _ = get_rf_grid_params()\n",
    "_, _, _, _, _, y_pred, y_true = eval_classifier_paper(x, y, patient_id, clf=rf, grid_folder_name='RF_0916_hr10')\n",
    "conf_mat = confusion_matrix(y_true, y_pred)\n",
    "\n",
    "display(Markdown(\"### Vorliegende Daten\"))\n",
    "display(Markdown(get_md_confusion_matrix_grid(conf_mat)))"
   ]
  },
  {
   "cell_type": "markdown",
   "metadata": {},
   "source": [
    "### Andere Klassifikatoren"
   ]
  },
  {
   "cell_type": "code",
   "execution_count": 14,
   "metadata": {},
   "outputs": [
    {
     "data": {
      "text/markdown": [
       "#### LDA"
      ],
      "text/plain": [
       "<IPython.core.display.Markdown object>"
      ]
     },
     "metadata": {},
     "output_type": "display_data"
    },
    {
     "data": {
      "text/markdown": [
       "||| Actual ||\n",
       "|:--|:--:|:--:|:--:|\n",
       "||| informativ | nicht-informativ |\n",
       "|||||\n",
       "|**Predicted**| informativ | 0 | 1 |\n",
       "|| nicht-informativ | 9514 | 40878 |"
      ],
      "text/plain": [
       "<IPython.core.display.Markdown object>"
      ]
     },
     "metadata": {},
     "output_type": "display_data"
    }
   ],
   "source": [
    "lda, _ = get_lda_grid_params()\n",
    "_, _, _, _, _, y_pred, y_true = eval_classifier_paper(x, y, patient_id, clf=lda, grid_folder_name='LDA_0916_hr10')\n",
    "conf_mat = confusion_matrix(y_true, y_pred)\n",
    "\n",
    "display(Markdown(\"#### LDA\"))\n",
    "display(Markdown(get_md_confusion_matrix_grid(conf_mat)))"
   ]
  }
 ],
 "metadata": {
  "kernelspec": {
   "display_name": "Python 3",
   "language": "python",
   "name": "python3"
  },
  "language_info": {
   "codemirror_mode": {
    "name": "ipython",
    "version": 3
   },
   "file_extension": ".py",
   "mimetype": "text/x-python",
   "name": "python",
   "nbconvert_exporter": "python",
   "pygments_lexer": "ipython3",
   "version": "3.7.2"
  }
 },
 "nbformat": 4,
 "nbformat_minor": 4
}
